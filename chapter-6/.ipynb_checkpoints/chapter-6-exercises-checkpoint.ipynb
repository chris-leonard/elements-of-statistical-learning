{
 "cells": [
  {
   "cell_type": "markdown",
   "metadata": {},
   "source": [
    "# The Elements of Statistical Learning - Chapter 6 Exercises"
   ]
  },
  {
   "cell_type": "markdown",
   "metadata": {},
   "source": [
    "## Exercise 6.1\n",
    "\n",
    "Show that the Nadaraya–Watson kernel smooth with fixed metric bandwidth $\\lambda$ and a Gaussian kernel is differentiable. What can be said for the Epanechnikov kernel? What can be said for the Epanechnikov kernel with adaptive nearest-neighbor bandwidth $\\lambda(x_0)$?"
   ]
  },
  {
   "cell_type": "markdown",
   "metadata": {},
   "source": [
    "### Solution\n",
    "\n",
    "*Gaussian kernel*: Recall that the Nadaraya-Watson kernel smoother is\n",
    "\n",
    "\\begin{equation}\n",
    "    \\hat{f}(x_0) = \\frac{\\sum_{i=1}^N K_{\\lambda}(x_0, x_i) y_i}{\\sum_{i=1}^N K_{\\lambda}(x_0, x_i)}\n",
    "\\end{equation}\n",
    "\n",
    "and the Gaussian kernel is defined by\n",
    "\n",
    "\\begin{equation}\n",
    "    K_{\\lambda}(x_0, x_i) = \\frac{1}{\\sqrt{2\\pi}\\lambda} \\text{exp}\\left(-\\frac{(x_0 - x_i)^2}{2\\lambda^2}\\right).\n",
    "\\end{equation}\n",
    "\n",
    "Since the Gaussian kernel is differentiable and strictly positive and $\\hat{f}(x_0)$ is a rational fuction in Gaussian kernels, it is also  differentiable everywhere."
   ]
  },
  {
   "cell_type": "markdown",
   "metadata": {},
   "source": [
    "*Epanechnikov kernel:* Now consider the Epanechnikov kernel\n",
    "\n",
    "\\begin{equation}\n",
    "    K_{\\lambda}(x_0, x_i) = D\\left(\\frac{\\lvert x_0 - x_i\\rvert}{\\lambda}\\right),\n",
    "\\end{equation}\n",
    "\n",
    "where\n",
    "\n",
    "\\begin{equation}\n",
    "    D(t) = \n",
    "    \\begin{cases}\n",
    "        \\frac{3}{4}(1-t^2) & \\text{if } \\lvert t\\rvert \\leq 1 ;\\\\\n",
    "        0 & \\text{otherwise.}\n",
    "    \\end{cases}\n",
    "\\end{equation}\n",
    "\n",
    "First note that $\\hat{f}(x_0)$ is only well-defined for $x_0\\in \\bigcup_{i=1}^N (x_i-\\lambda, x_i+\\lambda)$. It is reasonable to assume this is an interval. We claim that $\\hat{f}(x_0)$ is differentiable on this domain except possibly for $x_0 \\in \\{ x_i \\pm \\lambda \\mid i=1,\\ldots, N\\}$.\n",
    "\n",
    "The Epanechnikov kernel $K_{\\lambda}(x_0, x_i)$ is positive on $(x_i-\\lambda, x_i+\\lambda)$ and is differentiable everywhere except $x_0 = x_i\\pm \\lambda$ since\n",
    "\n",
    "\\begin{equation}\n",
    "    D^{\\prime}(t) = \n",
    "    \\begin{cases}\n",
    "        -\\frac{3}{2} t & \\text{if } \\lvert t\\rvert < 1 ;\\\\\n",
    "        0 & \\text{otherwise.}\n",
    "    \\end{cases}\n",
    "\\end{equation}\n",
    "\n",
    "Thus $\\hat{f}(x_0)$ is differentiable on its domain except for possibly at these points. Indeed, the quotient rule implies that\n",
    "\n",
    "\\begin{align}\n",
    "    \\hat{f}^{\\prime}(x_0)\n",
    "        & = \\frac{\\left(\\sum_{i=1}^N K_{\\lambda}^{\\prime}(x_0, x_i)y_i\\right)\\left(\\sum_{j=1}^N K_{\\lambda}(x_0, x_j)\\right) - \\left(\\sum_{j=1}^N K_{\\lambda}(x_0, x_j)y_j\\right)\\left(\\sum_{i=1}^N K^{\\prime}_{\\lambda}(x_0, x_i)\\right)}{\\left(\\sum_{i=1}^N K_{\\lambda}(x_0, x_i)y_i\\right)^2} \\\\\n",
    "        & = \\frac{\\sum_{i=1}^N\\sum_{j=1}^N K_{\\lambda}^{\\prime}(x_0, x_i) K_{\\lambda}(x_0, x_j)(y_i - y_j)}{\\left(\\sum_{i=1}^N K_{\\lambda}(x_0, x_i)y_i\\right)^2}\n",
    "\\end{align}\n",
    "\n",
    "and so if $x_0=x_i - \\lambda$ then the difference $\\hat{f}^{\\prime}(x_0-\\varepsilon)- \\hat{f}^{\\prime}(x_0+\\varepsilon)$  converges to\n",
    "\n",
    "\\begin{equation}\n",
    "    \\frac{\\sum_{j=1}^N \\frac{3}{2}K_{\\lambda}(x_0, x_j)(y_i - y_j)}{\\left(\\sum_{j=1}^N K_{\\lambda}(x_0, x_j)y_j\\right)^2}\n",
    "\\end{equation}\n",
    "\n",
    "as $\\varepsilon \\to 0$. This is clearly non-zero in general."
   ]
  },
  {
   "cell_type": "markdown",
   "metadata": {},
   "source": [
    "*Nearest-neighbour bandwidth:* Redefine the kernel by\n",
    "\n",
    "\\begin{equation}\n",
    "    K_{\\lambda}(x_0, x_i)=D\\left( \\frac{\\lvert x_0 - x_i\\rvert}{\\lvert x_0 - x_{[k]}\\rvert}\\right)\n",
    "\\end{equation}\n",
    "\n",
    "with $D$ as before. For simplicity we assume that the $x_i$ are all distinct. The situation where they are not is discussed in the text.\n",
    "\n",
    "For $k=1$, $K_{\\lambda}(x_0, x_i) = 0$ for all $x_0, x_i$\n",
    "\n",
    "For $k=2$, $K_{\\lambda}(x_0, x_i) = 0$ unless $x_i = x_{[1]}$ and so $\\hat{f}(x_0) = y_{[1]}$. Thus $\\hat{f}$ is piecewise constant with (possible) discontinuities where $x_{[2]}$ changes.\n",
    "\n",
    "Suppose $k>2$. The function $\\lvert x_0 - x_i\\rvert\\big/\\lvert x_0 - x_{[k]}\\rvert$ is continuous in $x_0$ and differentiable except where $x_{[k]}$ changes. Moreover, for any given $x_0$, at least one $K_{\\lambda}(x_0, x_i)$ is positive, so the denominator of $\\hat{f}$ is always non-zero. Thus $\\hat{f}$ is continuous and differentiable except possibly where $x_{[k]}$ changes. We show that non-differentiability is possible by example below."
   ]
  },
  {
   "cell_type": "code",
   "execution_count": 213,
   "metadata": {},
   "outputs": [],
   "source": [
    "# Import packages\n",
    "import numpy as np\n",
    "from matplotlib import pyplot as plt"
   ]
  },
  {
   "cell_type": "code",
   "execution_count": 214,
   "metadata": {},
   "outputs": [],
   "source": [
    "# Define Epanechnikov kernel function\n",
    "def epan_kernel(x0, x1, band):\n",
    "    if np.abs(x0 - x1) > band:\n",
    "        return 0\n",
    "    else:\n",
    "        return 3 * (1 - (x0 - x1)**2 / band**2) / 4"
   ]
  },
  {
   "cell_type": "markdown",
   "metadata": {},
   "source": [
    "First we demonstrate that when using the Epanechnikov kernel with a fixed bandwidth, $\\hat{f}(x_0)$ can be non-differentiable at $x_0=x_i\\pm \\lambda$."
   ]
  },
  {
   "cell_type": "code",
   "execution_count": 236,
   "metadata": {},
   "outputs": [
    {
     "name": "stderr",
     "output_type": "stream",
     "text": [
      "/Users/christopherleonard/P/elements-of-statistical-learning/env/lib/python3.7/site-packages/ipykernel_launcher.py:11: RuntimeWarning: invalid value encountered in double_scalars\n",
      "  # This is added back by InteractiveShellApp.init_path()\n"
     ]
    },
    {
     "data": {
      "image/png": "[encoded data removed]",
      "text/plain": [
       "<Figure size 576x432 with 1 Axes>"
      ]
     },
     "metadata": {
      "needs_background": "light"
     },
     "output_type": "display_data"
    }
   ],
   "source": [
    "# Bandwidth parameter\n",
    "band = 2\n",
    "\n",
    "# Sample data\n",
    "x1 = 0\n",
    "x2 = 1\n",
    "\n",
    "y1 = 1\n",
    "y2 = 2\n",
    "\n",
    "# Define Nadaraya-Watson smoother function f_hat\n",
    "def NW_smoother(x0):\n",
    "    f = epan_kernel(x0, x1, window) * y1 + epan_kernel(x0, x2, window) * y2\n",
    "    f = f / (epan_kernel(x0, x1, window) + epan_kernel(x0, x2, window))\n",
    "    \n",
    "    return f\n",
    "    \n",
    "# Initialise plot\n",
    "fig, ax = plt.subplots(figsize=(8, 6))\n",
    "\n",
    "ax.set_title('Fixed Bandwidth', fontsize=14)\n",
    "ax.set_xlabel('$x_0$', fontsize=14)\n",
    "ax.set_ylabel('$\\hat{f}(x_0)$', fontsize=14)\n",
    "\n",
    "# Generate and plot data\n",
    "x_val = np.linspace(x1-band, x2+band, 100)\n",
    "f = np.array([NW_smoother(x0) for x0 in x_val])\n",
    "\n",
    "ax.plot(x_val, f)\n",
    "\n",
    "# Plot possible points on non-differentiability\n",
    "for xi in [x1, x2]:\n",
    "    for sign in [1, -1]:\n",
    "        ax.axvline(xi + sign * band, color='r', ls='--');"
   ]
  },
  {
   "cell_type": "markdown",
   "metadata": {},
   "source": [
    "Now we show that $\\hat{f}(x_0)$ can be discontinuous or non-differentiable when we use a nearest-neighbour window."
   ]
  },
  {
   "cell_type": "code",
   "execution_count": 261,
   "metadata": {},
   "outputs": [
    {
     "data": {
      "image/png": "[encoded data removed]",
      "text/plain": [
       "<Figure size 576x432 with 1 Axes>"
      ]
     },
     "metadata": {
      "needs_background": "light"
     },
     "output_type": "display_data"
    }
   ],
   "source": [
    "# Sample data\n",
    "x1 = 0\n",
    "x2 = 1\n",
    "x3 = 3\n",
    "\n",
    "y1 = 1\n",
    "y2 = 2\n",
    "y3 = 1\n",
    "\n",
    "# NW smoother function\n",
    "def NW_smoother(x0, k):\n",
    "    # Set bandwidth\n",
    "    dist = [np.abs(x0 - x1), np.abs(x0 - x2), np.abs(x0 - x3)]\n",
    "    band = sorted(dist)[k-1]\n",
    "    \n",
    "    # Calculate f as before\n",
    "    f = epan_kernel(x0, x1, band) * y1 + epan_kernel(x0, x2, band) * y2 + epan_kernel(x0, x3, band) * y3\n",
    "    f = f / (epan_kernel(x0, x1,  band) + epan_kernel(x0, x2, band) + epan_kernel(x0, x3, band))\n",
    "    \n",
    "    return f\n",
    "\n",
    "# Initialise plot\n",
    "fig, ax = plt.subplots(figsize=(8, 6))\n",
    "\n",
    "ax.set_title('k-Nearest Neighbour Bandwidth', fontsize=14)\n",
    "ax.set_xlabel('$x_0$', fontsize=14)\n",
    "ax.set_ylabel('$\\hat{f}(x_0)$', fontsize=14)\n",
    "\n",
    "# Generate and plot data\n",
    "for k in [2, 3]:\n",
    "    x_val = np.linspace(-1, 4, 100)\n",
    "    f = np.array([NW_smoother(x0, k) for x0 in x_val])\n",
    "\n",
    "    ax.plot(x_val, f, label='k={}'.format(k))\n",
    "\n",
    "ax.legend(fontsize=12);"
   ]
  },
  {
   "cell_type": "markdown",
   "metadata": {},
   "source": [
    "Note that with $k=2$, $\\hat{f}(x_0)$ is discontinuous at $x=0.5, 2$ where the 2nd closest point changes, and  for $k=3$ it is non-differentiable at $x=1.5$ where the 3rd closest point changes from $x_3$ to $x_1$."
   ]
  }
 ],
 "metadata": {
  "kernelspec": {
   "display_name": "Python 3",
   "language": "python",
   "name": "python3"
  },
  "language_info": {
   "codemirror_mode": {
    "name": "ipython",
    "version": 3
   },
   "file_extension": ".py",
   "mimetype": "text/x-python",
   "name": "python",
   "nbconvert_exporter": "python",
   "pygments_lexer": "ipython3",
   "version": "3.7.7"
  }
 },
 "nbformat": 4,
 "nbformat_minor": 4
}
