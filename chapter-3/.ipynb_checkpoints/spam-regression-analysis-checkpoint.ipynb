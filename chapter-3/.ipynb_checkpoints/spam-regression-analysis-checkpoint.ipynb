{
 "cells": [
  {
   "cell_type": "markdown",
   "metadata": {},
   "source": [
    "# Linear Regression Analysis of Spam Data"
   ]
  },
  {
   "cell_type": "code",
   "execution_count": 240,
   "metadata": {},
   "outputs": [],
   "source": [
    "import pandas as pd\n",
    "import numpy as np # Import numpy.linalg separately?\n",
    "from matplotlib import pyplot as plt\n",
    "\n",
    "from math import sqrt\n",
    "\n",
    "# For statistical distributions\n",
    "from scipy import stats\n",
    "\n",
    "# Models\n",
    "from sklearn.linear_model import LinearRegression\n",
    "from sklearn.linear_model import Ridge\n",
    "from sklearn.linear_model import LassoLars\n",
    "from sklearn.linear_model import Lars\n",
    "\n",
    "# To calculate coefficient path for lasso and lars\n",
    "from sklearn.linear_model import lars_path\n",
    "\n",
    "# For pipelines\n",
    "from sklearn.pipeline import Pipeline\n",
    "from sklearn.pipeline import make_pipeline\n",
    "\n",
    "# To partition data\n",
    "from sklearn.model_selection import train_test_split\n",
    "\n",
    "# For validation and parameter runing\n",
    "from sklearn.model_selection import PredefinedSplit\n",
    "from sklearn.model_selection import GridSearchCV\n",
    "\n",
    "# To standardise data\n",
    "from sklearn.preprocessing import StandardScaler\n",
    "\n",
    "from sklearn.metrics import mean_squared_error"
   ]
  },
  {
   "cell_type": "markdown",
   "metadata": {},
   "source": [
    "In this notebook I will conduct linear regression analysis on a set of spam data. The purpose of this is first to complete Exercise 3.17 from Hastie, Tibshirani, and Friedman, but also to get practical experience in applying the principles and methods in Chapter 3 of the text. Exercise 3.17 requires us to compare the test error and standard error of the following linear regression techniques on the spam data:\n",
    "- Least Squares\n",
    "- Best Subset Selection\n",
    "- Ridge Regression\n",
    "- Lasso\n",
    "- Principal Components Regression\n",
    "- Partial Least Squares\n",
    "\n",
    "Because I want to dive a little deeper, I will spend some time analysing the performance of each of these methods rather than just blindly implementing them. Here are some other things I hope to accomplish:\n",
    "- Analyse the covariance between features and conduct principal component analysis to reduce the number of features while losing very little relevant information\n",
    "- Use hypothesis testing to quantify the significance of different variables and create confidence bounds for the least squares fit\n",
    "- Compare best subset selection with forward- and backward-stepwise selection and forward-stagewise regression\n",
    "- Analyse how training error and validation error change as complexity parameters vary\n",
    "- Plot the full coefficient paths for ridge regression, lasso, and LAR\n",
    "- *Plot the error rate against the size of the training set*\n",
    "\n",
    "For some of these, in particular plotting coefficient paths, it may be necessary to restrict to a subset of features for readability.\n",
    "\n",
    "Also note that if our goal was simply to obtain the best linear regression model possible, we would spend some time expanding our set of features by taking polynomials, logs, etc. Since this is the focus of Chapter 5, I will delay this work until then."
   ]
  },
  {
   "cell_type": "markdown",
   "metadata": {},
   "source": [
    "**TODO:**\n",
    "- Bring back mean_squared_error function"
   ]
  },
  {
   "cell_type": "markdown",
   "metadata": {},
   "source": [
    "## Data Wrangling"
   ]
  },
  {
   "cell_type": "markdown",
   "metadata": {},
   "source": [
    "The dataset was obtained from the website for the textbook which also contains a detailed description of it: \n",
    "\n",
    "https://web.stanford.edu/~hastie/ElemStatLearn/\n",
    "\n",
    "It consists of 4601 data points, each representing an e-mail. There are 57 inputs and one binary output: 1 if that e-mail was spam, 0 if it wasn't. The set of features comprises (in order):\n",
    "- 48 continuous real variables with range [0, 100] giving the percentage of words in the e-mail that match WORD;\n",
    "- 6 continuous real variables with range [0, 100] that gives the percentage of characters matching CHAR;\n",
    "- 3 integer variables taking any value $\\geq 1$ that describe the distribution of capital letters in the e-mail.\n",
    "\n",
    "There are no missing values for the features. For more details see the description of the dataset at the URL above."
   ]
  },
  {
   "cell_type": "markdown",
   "metadata": {},
   "source": [
    "### Partitioning Data"
   ]
  },
  {
   "cell_type": "markdown",
   "metadata": {},
   "source": [
    "We begin by importing the data and partitioning it into three sets:\n",
    "- training set (60%)\n",
    "- validation set (20%)\n",
    "- test set (20%)\n",
    "\n",
    "This split will be done only and preserved by exporting three separate csv files and then reimporting them. To avoid accidentally changing the split the code below is commented out"
   ]
  },
  {
   "cell_type": "code",
   "execution_count": 2,
   "metadata": {},
   "outputs": [],
   "source": [
    "# # Import the data\n",
    "# spam = pd.read_csv('spam-data', delim_whitespace = True, header = None)\n",
    "\n",
    "# # Split data into training, validation, test sets\n",
    "# train_val, test = train_test_split(spam, test_size = 0.2, shuffle = True)\n",
    "# train, val = train_test_split(train_val, test_size = 0.25, shuffle = False)\n",
    "\n",
    "# # Export dataframes to preserve split\n",
    "# train.to_csv('spam-train.csv', index = False, header = False)\n",
    "# val.to_csv('spam-val.csv', index = False, header = False)\n",
    "# test.to_csv('spam-test.csv', index = False, header = False)"
   ]
  },
  {
   "cell_type": "markdown",
   "metadata": {},
   "source": [
    "By having an independent validation set we are implicitly assuming that we are in a data rich environment and the performance of our models will not be greatly affected by reducing the volume of training data by a quarter. In the context of this problem this is bad assumption to make. However, since our goal is really to experiment and test different models we keep this assumption for simplicity."
   ]
  },
  {
   "cell_type": "markdown",
   "metadata": {},
   "source": [
    "### Preliminary Analysis"
   ]
  },
  {
   "cell_type": "markdown",
   "metadata": {},
   "source": [
    "**TO DO: $R^2$ / correlation**"
   ]
  },
  {
   "cell_type": "markdown",
   "metadata": {},
   "source": [
    "We reimport the data in the training/validation/test split and perform some preliminary analysis on the training/validation set."
   ]
  },
  {
   "cell_type": "code",
   "execution_count": 3,
   "metadata": {},
   "outputs": [
    {
     "data": {
      "text/html": [
       "<div>\n",
       "<style scoped>\n",
       "    .dataframe tbody tr th:only-of-type {\n",
       "        vertical-align: middle;\n",
       "    }\n",
       "\n",
       "    .dataframe tbody tr th {\n",
       "        vertical-align: top;\n",
       "    }\n",
       "\n",
       "    .dataframe thead th {\n",
       "        text-align: right;\n",
       "    }\n",
       "</style>\n",
       "<table border=\"1\" class=\"dataframe\">\n",
       "  <thead>\n",
       "    <tr style=\"text-align: right;\">\n",
       "      <th></th>\n",
       "      <th>0</th>\n",
       "      <th>1</th>\n",
       "      <th>2</th>\n",
       "      <th>3</th>\n",
       "      <th>4</th>\n",
       "      <th>5</th>\n",
       "      <th>6</th>\n",
       "      <th>7</th>\n",
       "      <th>8</th>\n",
       "      <th>9</th>\n",
       "      <th>...</th>\n",
       "      <th>48</th>\n",
       "      <th>49</th>\n",
       "      <th>50</th>\n",
       "      <th>51</th>\n",
       "      <th>52</th>\n",
       "      <th>53</th>\n",
       "      <th>54</th>\n",
       "      <th>55</th>\n",
       "      <th>56</th>\n",
       "      <th>57</th>\n",
       "    </tr>\n",
       "  </thead>\n",
       "  <tbody>\n",
       "    <tr>\n",
       "      <th>0</th>\n",
       "      <td>0.00</td>\n",
       "      <td>0.00</td>\n",
       "      <td>1.94</td>\n",
       "      <td>0.0</td>\n",
       "      <td>0.00</td>\n",
       "      <td>0.00</td>\n",
       "      <td>0.00</td>\n",
       "      <td>0.00</td>\n",
       "      <td>0.00</td>\n",
       "      <td>0.97</td>\n",
       "      <td>...</td>\n",
       "      <td>0.000</td>\n",
       "      <td>0.379</td>\n",
       "      <td>0.000</td>\n",
       "      <td>0.000</td>\n",
       "      <td>0.000</td>\n",
       "      <td>0.000</td>\n",
       "      <td>8.125</td>\n",
       "      <td>75</td>\n",
       "      <td>195</td>\n",
       "      <td>0</td>\n",
       "    </tr>\n",
       "    <tr>\n",
       "      <th>1</th>\n",
       "      <td>0.28</td>\n",
       "      <td>0.28</td>\n",
       "      <td>0.28</td>\n",
       "      <td>0.0</td>\n",
       "      <td>0.57</td>\n",
       "      <td>0.28</td>\n",
       "      <td>0.28</td>\n",
       "      <td>0.00</td>\n",
       "      <td>0.00</td>\n",
       "      <td>0.00</td>\n",
       "      <td>...</td>\n",
       "      <td>0.000</td>\n",
       "      <td>0.131</td>\n",
       "      <td>0.000</td>\n",
       "      <td>0.218</td>\n",
       "      <td>0.218</td>\n",
       "      <td>0.000</td>\n",
       "      <td>3.694</td>\n",
       "      <td>40</td>\n",
       "      <td>218</td>\n",
       "      <td>1</td>\n",
       "    </tr>\n",
       "    <tr>\n",
       "      <th>2</th>\n",
       "      <td>0.00</td>\n",
       "      <td>0.00</td>\n",
       "      <td>0.23</td>\n",
       "      <td>0.0</td>\n",
       "      <td>0.92</td>\n",
       "      <td>0.00</td>\n",
       "      <td>0.00</td>\n",
       "      <td>0.00</td>\n",
       "      <td>0.23</td>\n",
       "      <td>0.00</td>\n",
       "      <td>...</td>\n",
       "      <td>0.000</td>\n",
       "      <td>0.130</td>\n",
       "      <td>0.026</td>\n",
       "      <td>0.026</td>\n",
       "      <td>0.000</td>\n",
       "      <td>0.026</td>\n",
       "      <td>2.222</td>\n",
       "      <td>23</td>\n",
       "      <td>480</td>\n",
       "      <td>0</td>\n",
       "    </tr>\n",
       "    <tr>\n",
       "      <th>3</th>\n",
       "      <td>0.20</td>\n",
       "      <td>0.41</td>\n",
       "      <td>0.20</td>\n",
       "      <td>0.0</td>\n",
       "      <td>1.44</td>\n",
       "      <td>0.00</td>\n",
       "      <td>0.00</td>\n",
       "      <td>0.41</td>\n",
       "      <td>0.41</td>\n",
       "      <td>0.62</td>\n",
       "      <td>...</td>\n",
       "      <td>0.000</td>\n",
       "      <td>0.249</td>\n",
       "      <td>0.000</td>\n",
       "      <td>0.996</td>\n",
       "      <td>0.106</td>\n",
       "      <td>0.000</td>\n",
       "      <td>7.836</td>\n",
       "      <td>116</td>\n",
       "      <td>384</td>\n",
       "      <td>1</td>\n",
       "    </tr>\n",
       "    <tr>\n",
       "      <th>4</th>\n",
       "      <td>0.44</td>\n",
       "      <td>0.00</td>\n",
       "      <td>0.88</td>\n",
       "      <td>0.0</td>\n",
       "      <td>0.44</td>\n",
       "      <td>1.32</td>\n",
       "      <td>0.00</td>\n",
       "      <td>0.00</td>\n",
       "      <td>0.00</td>\n",
       "      <td>0.00</td>\n",
       "      <td>...</td>\n",
       "      <td>0.222</td>\n",
       "      <td>0.000</td>\n",
       "      <td>0.000</td>\n",
       "      <td>0.444</td>\n",
       "      <td>0.370</td>\n",
       "      <td>0.000</td>\n",
       "      <td>2.413</td>\n",
       "      <td>16</td>\n",
       "      <td>140</td>\n",
       "      <td>1</td>\n",
       "    </tr>\n",
       "  </tbody>\n",
       "</table>\n",
       "<p>5 rows × 58 columns</p>\n",
       "</div>"
      ],
      "text/plain": [
       "     0     1     2    3     4     5     6     7     8     9   ...     48  \\\n",
       "0  0.00  0.00  1.94  0.0  0.00  0.00  0.00  0.00  0.00  0.97  ...  0.000   \n",
       "1  0.28  0.28  0.28  0.0  0.57  0.28  0.28  0.00  0.00  0.00  ...  0.000   \n",
       "2  0.00  0.00  0.23  0.0  0.92  0.00  0.00  0.00  0.23  0.00  ...  0.000   \n",
       "3  0.20  0.41  0.20  0.0  1.44  0.00  0.00  0.41  0.41  0.62  ...  0.000   \n",
       "4  0.44  0.00  0.88  0.0  0.44  1.32  0.00  0.00  0.00  0.00  ...  0.222   \n",
       "\n",
       "      49     50     51     52     53     54   55   56  57  \n",
       "0  0.379  0.000  0.000  0.000  0.000  8.125   75  195   0  \n",
       "1  0.131  0.000  0.218  0.218  0.000  3.694   40  218   1  \n",
       "2  0.130  0.026  0.026  0.000  0.026  2.222   23  480   0  \n",
       "3  0.249  0.000  0.996  0.106  0.000  7.836  116  384   1  \n",
       "4  0.000  0.000  0.444  0.370  0.000  2.413   16  140   1  \n",
       "\n",
       "[5 rows x 58 columns]"
      ]
     },
     "execution_count": 3,
     "metadata": {},
     "output_type": "execute_result"
    }
   ],
   "source": [
    "# Reimport data\n",
    "train = pd.read_csv('spam-train.csv', header = None)\n",
    "val = pd.read_csv('spam-val.csv', header = None)\n",
    "test = pd.read_csv('spam-test.csv', header = None)\n",
    "\n",
    "# Combine the training/validation set into a single dataframe\n",
    "trainval = pd.concat([train, val]).reset_index(drop = True)\n",
    "\n",
    "# Take a look at the data\n",
    "trainval.head(5)"
   ]
  },
  {
   "cell_type": "markdown",
   "metadata": {},
   "source": [
    "We look at some statistics on the distribution of the variables."
   ]
  },
  {
   "cell_type": "code",
   "execution_count": 4,
   "metadata": {
    "scrolled": true
   },
   "outputs": [
    {
     "data": {
      "text/html": [
       "<div>\n",
       "<style scoped>\n",
       "    .dataframe tbody tr th:only-of-type {\n",
       "        vertical-align: middle;\n",
       "    }\n",
       "\n",
       "    .dataframe tbody tr th {\n",
       "        vertical-align: top;\n",
       "    }\n",
       "\n",
       "    .dataframe thead th {\n",
       "        text-align: right;\n",
       "    }\n",
       "</style>\n",
       "<table border=\"1\" class=\"dataframe\">\n",
       "  <thead>\n",
       "    <tr style=\"text-align: right;\">\n",
       "      <th></th>\n",
       "      <th>count</th>\n",
       "      <th>mean</th>\n",
       "      <th>std</th>\n",
       "      <th>min</th>\n",
       "      <th>25%</th>\n",
       "      <th>50%</th>\n",
       "      <th>75%</th>\n",
       "      <th>max</th>\n",
       "    </tr>\n",
       "  </thead>\n",
       "  <tbody>\n",
       "    <tr>\n",
       "      <th>0</th>\n",
       "      <td>3680.0</td>\n",
       "      <td>0.104791</td>\n",
       "      <td>0.307459</td>\n",
       "      <td>0.0</td>\n",
       "      <td>0.000</td>\n",
       "      <td>0.0000</td>\n",
       "      <td>0.00000</td>\n",
       "      <td>4.540</td>\n",
       "    </tr>\n",
       "    <tr>\n",
       "      <th>1</th>\n",
       "      <td>3680.0</td>\n",
       "      <td>0.218867</td>\n",
       "      <td>1.314926</td>\n",
       "      <td>0.0</td>\n",
       "      <td>0.000</td>\n",
       "      <td>0.0000</td>\n",
       "      <td>0.00000</td>\n",
       "      <td>14.280</td>\n",
       "    </tr>\n",
       "    <tr>\n",
       "      <th>2</th>\n",
       "      <td>3680.0</td>\n",
       "      <td>0.273780</td>\n",
       "      <td>0.497170</td>\n",
       "      <td>0.0</td>\n",
       "      <td>0.000</td>\n",
       "      <td>0.0000</td>\n",
       "      <td>0.40000</td>\n",
       "      <td>5.100</td>\n",
       "    </tr>\n",
       "    <tr>\n",
       "      <th>3</th>\n",
       "      <td>3680.0</td>\n",
       "      <td>0.055413</td>\n",
       "      <td>1.190689</td>\n",
       "      <td>0.0</td>\n",
       "      <td>0.000</td>\n",
       "      <td>0.0000</td>\n",
       "      <td>0.00000</td>\n",
       "      <td>40.130</td>\n",
       "    </tr>\n",
       "    <tr>\n",
       "      <th>4</th>\n",
       "      <td>3680.0</td>\n",
       "      <td>0.316003</td>\n",
       "      <td>0.680161</td>\n",
       "      <td>0.0</td>\n",
       "      <td>0.000</td>\n",
       "      <td>0.0000</td>\n",
       "      <td>0.40000</td>\n",
       "      <td>10.000</td>\n",
       "    </tr>\n",
       "    <tr>\n",
       "      <th>5</th>\n",
       "      <td>3680.0</td>\n",
       "      <td>0.095315</td>\n",
       "      <td>0.265505</td>\n",
       "      <td>0.0</td>\n",
       "      <td>0.000</td>\n",
       "      <td>0.0000</td>\n",
       "      <td>0.00000</td>\n",
       "      <td>3.570</td>\n",
       "    </tr>\n",
       "    <tr>\n",
       "      <th>6</th>\n",
       "      <td>3680.0</td>\n",
       "      <td>0.116030</td>\n",
       "      <td>0.398057</td>\n",
       "      <td>0.0</td>\n",
       "      <td>0.000</td>\n",
       "      <td>0.0000</td>\n",
       "      <td>0.00000</td>\n",
       "      <td>7.270</td>\n",
       "    </tr>\n",
       "    <tr>\n",
       "      <th>7</th>\n",
       "      <td>3680.0</td>\n",
       "      <td>0.105334</td>\n",
       "      <td>0.410780</td>\n",
       "      <td>0.0</td>\n",
       "      <td>0.000</td>\n",
       "      <td>0.0000</td>\n",
       "      <td>0.00000</td>\n",
       "      <td>11.110</td>\n",
       "    </tr>\n",
       "    <tr>\n",
       "      <th>8</th>\n",
       "      <td>3680.0</td>\n",
       "      <td>0.088060</td>\n",
       "      <td>0.280609</td>\n",
       "      <td>0.0</td>\n",
       "      <td>0.000</td>\n",
       "      <td>0.0000</td>\n",
       "      <td>0.00000</td>\n",
       "      <td>5.260</td>\n",
       "    </tr>\n",
       "    <tr>\n",
       "      <th>9</th>\n",
       "      <td>3680.0</td>\n",
       "      <td>0.238799</td>\n",
       "      <td>0.666385</td>\n",
       "      <td>0.0</td>\n",
       "      <td>0.000</td>\n",
       "      <td>0.0000</td>\n",
       "      <td>0.15000</td>\n",
       "      <td>18.180</td>\n",
       "    </tr>\n",
       "    <tr>\n",
       "      <th>10</th>\n",
       "      <td>3680.0</td>\n",
       "      <td>0.059647</td>\n",
       "      <td>0.197238</td>\n",
       "      <td>0.0</td>\n",
       "      <td>0.000</td>\n",
       "      <td>0.0000</td>\n",
       "      <td>0.00000</td>\n",
       "      <td>2.060</td>\n",
       "    </tr>\n",
       "    <tr>\n",
       "      <th>11</th>\n",
       "      <td>3680.0</td>\n",
       "      <td>0.545193</td>\n",
       "      <td>0.874384</td>\n",
       "      <td>0.0</td>\n",
       "      <td>0.000</td>\n",
       "      <td>0.0900</td>\n",
       "      <td>0.80000</td>\n",
       "      <td>9.670</td>\n",
       "    </tr>\n",
       "    <tr>\n",
       "      <th>12</th>\n",
       "      <td>3680.0</td>\n",
       "      <td>0.094921</td>\n",
       "      <td>0.299059</td>\n",
       "      <td>0.0</td>\n",
       "      <td>0.000</td>\n",
       "      <td>0.0000</td>\n",
       "      <td>0.00000</td>\n",
       "      <td>5.550</td>\n",
       "    </tr>\n",
       "    <tr>\n",
       "      <th>13</th>\n",
       "      <td>3680.0</td>\n",
       "      <td>0.059832</td>\n",
       "      <td>0.340686</td>\n",
       "      <td>0.0</td>\n",
       "      <td>0.000</td>\n",
       "      <td>0.0000</td>\n",
       "      <td>0.00000</td>\n",
       "      <td>10.000</td>\n",
       "    </tr>\n",
       "    <tr>\n",
       "      <th>14</th>\n",
       "      <td>3680.0</td>\n",
       "      <td>0.050527</td>\n",
       "      <td>0.263423</td>\n",
       "      <td>0.0</td>\n",
       "      <td>0.000</td>\n",
       "      <td>0.0000</td>\n",
       "      <td>0.00000</td>\n",
       "      <td>4.410</td>\n",
       "    </tr>\n",
       "    <tr>\n",
       "      <th>15</th>\n",
       "      <td>3680.0</td>\n",
       "      <td>0.235826</td>\n",
       "      <td>0.720021</td>\n",
       "      <td>0.0</td>\n",
       "      <td>0.000</td>\n",
       "      <td>0.0000</td>\n",
       "      <td>0.10000</td>\n",
       "      <td>16.660</td>\n",
       "    </tr>\n",
       "    <tr>\n",
       "      <th>16</th>\n",
       "      <td>3680.0</td>\n",
       "      <td>0.144856</td>\n",
       "      <td>0.447777</td>\n",
       "      <td>0.0</td>\n",
       "      <td>0.000</td>\n",
       "      <td>0.0000</td>\n",
       "      <td>0.00000</td>\n",
       "      <td>7.140</td>\n",
       "    </tr>\n",
       "    <tr>\n",
       "      <th>17</th>\n",
       "      <td>3680.0</td>\n",
       "      <td>0.181383</td>\n",
       "      <td>0.530369</td>\n",
       "      <td>0.0</td>\n",
       "      <td>0.000</td>\n",
       "      <td>0.0000</td>\n",
       "      <td>0.00000</td>\n",
       "      <td>9.090</td>\n",
       "    </tr>\n",
       "    <tr>\n",
       "      <th>18</th>\n",
       "      <td>3680.0</td>\n",
       "      <td>1.685802</td>\n",
       "      <td>1.792039</td>\n",
       "      <td>0.0</td>\n",
       "      <td>0.000</td>\n",
       "      <td>1.3100</td>\n",
       "      <td>2.66000</td>\n",
       "      <td>18.750</td>\n",
       "    </tr>\n",
       "    <tr>\n",
       "      <th>19</th>\n",
       "      <td>3680.0</td>\n",
       "      <td>0.089239</td>\n",
       "      <td>0.543601</td>\n",
       "      <td>0.0</td>\n",
       "      <td>0.000</td>\n",
       "      <td>0.0000</td>\n",
       "      <td>0.00000</td>\n",
       "      <td>18.180</td>\n",
       "    </tr>\n",
       "    <tr>\n",
       "      <th>20</th>\n",
       "      <td>3680.0</td>\n",
       "      <td>0.819391</td>\n",
       "      <td>1.203702</td>\n",
       "      <td>0.0</td>\n",
       "      <td>0.000</td>\n",
       "      <td>0.2350</td>\n",
       "      <td>1.29000</td>\n",
       "      <td>11.110</td>\n",
       "    </tr>\n",
       "    <tr>\n",
       "      <th>21</th>\n",
       "      <td>3680.0</td>\n",
       "      <td>0.113644</td>\n",
       "      <td>0.960598</td>\n",
       "      <td>0.0</td>\n",
       "      <td>0.000</td>\n",
       "      <td>0.0000</td>\n",
       "      <td>0.00000</td>\n",
       "      <td>17.100</td>\n",
       "    </tr>\n",
       "    <tr>\n",
       "      <th>22</th>\n",
       "      <td>3680.0</td>\n",
       "      <td>0.100356</td>\n",
       "      <td>0.348274</td>\n",
       "      <td>0.0</td>\n",
       "      <td>0.000</td>\n",
       "      <td>0.0000</td>\n",
       "      <td>0.00000</td>\n",
       "      <td>5.450</td>\n",
       "    </tr>\n",
       "    <tr>\n",
       "      <th>23</th>\n",
       "      <td>3680.0</td>\n",
       "      <td>0.091095</td>\n",
       "      <td>0.425823</td>\n",
       "      <td>0.0</td>\n",
       "      <td>0.000</td>\n",
       "      <td>0.0000</td>\n",
       "      <td>0.00000</td>\n",
       "      <td>12.500</td>\n",
       "    </tr>\n",
       "    <tr>\n",
       "      <th>24</th>\n",
       "      <td>3680.0</td>\n",
       "      <td>0.555641</td>\n",
       "      <td>1.677126</td>\n",
       "      <td>0.0</td>\n",
       "      <td>0.000</td>\n",
       "      <td>0.0000</td>\n",
       "      <td>0.00000</td>\n",
       "      <td>20.830</td>\n",
       "    </tr>\n",
       "    <tr>\n",
       "      <th>25</th>\n",
       "      <td>3680.0</td>\n",
       "      <td>0.260734</td>\n",
       "      <td>0.865699</td>\n",
       "      <td>0.0</td>\n",
       "      <td>0.000</td>\n",
       "      <td>0.0000</td>\n",
       "      <td>0.00000</td>\n",
       "      <td>16.660</td>\n",
       "    </tr>\n",
       "    <tr>\n",
       "      <th>26</th>\n",
       "      <td>3680.0</td>\n",
       "      <td>0.786427</td>\n",
       "      <td>3.398351</td>\n",
       "      <td>0.0</td>\n",
       "      <td>0.000</td>\n",
       "      <td>0.0000</td>\n",
       "      <td>0.00000</td>\n",
       "      <td>33.330</td>\n",
       "    </tr>\n",
       "    <tr>\n",
       "      <th>27</th>\n",
       "      <td>3680.0</td>\n",
       "      <td>0.127098</td>\n",
       "      <td>0.547837</td>\n",
       "      <td>0.0</td>\n",
       "      <td>0.000</td>\n",
       "      <td>0.0000</td>\n",
       "      <td>0.00000</td>\n",
       "      <td>9.090</td>\n",
       "    </tr>\n",
       "    <tr>\n",
       "      <th>28</th>\n",
       "      <td>3680.0</td>\n",
       "      <td>0.098799</td>\n",
       "      <td>0.585690</td>\n",
       "      <td>0.0</td>\n",
       "      <td>0.000</td>\n",
       "      <td>0.0000</td>\n",
       "      <td>0.00000</td>\n",
       "      <td>14.280</td>\n",
       "    </tr>\n",
       "    <tr>\n",
       "      <th>29</th>\n",
       "      <td>3680.0</td>\n",
       "      <td>0.100780</td>\n",
       "      <td>0.450867</td>\n",
       "      <td>0.0</td>\n",
       "      <td>0.000</td>\n",
       "      <td>0.0000</td>\n",
       "      <td>0.00000</td>\n",
       "      <td>5.880</td>\n",
       "    </tr>\n",
       "    <tr>\n",
       "      <th>30</th>\n",
       "      <td>3680.0</td>\n",
       "      <td>0.065601</td>\n",
       "      <td>0.409101</td>\n",
       "      <td>0.0</td>\n",
       "      <td>0.000</td>\n",
       "      <td>0.0000</td>\n",
       "      <td>0.00000</td>\n",
       "      <td>12.500</td>\n",
       "    </tr>\n",
       "    <tr>\n",
       "      <th>31</th>\n",
       "      <td>3680.0</td>\n",
       "      <td>0.047753</td>\n",
       "      <td>0.322512</td>\n",
       "      <td>0.0</td>\n",
       "      <td>0.000</td>\n",
       "      <td>0.0000</td>\n",
       "      <td>0.00000</td>\n",
       "      <td>4.760</td>\n",
       "    </tr>\n",
       "    <tr>\n",
       "      <th>32</th>\n",
       "      <td>3680.0</td>\n",
       "      <td>0.099041</td>\n",
       "      <td>0.576255</td>\n",
       "      <td>0.0</td>\n",
       "      <td>0.000</td>\n",
       "      <td>0.0000</td>\n",
       "      <td>0.00000</td>\n",
       "      <td>18.180</td>\n",
       "    </tr>\n",
       "    <tr>\n",
       "      <th>33</th>\n",
       "      <td>3680.0</td>\n",
       "      <td>0.048815</td>\n",
       "      <td>0.323665</td>\n",
       "      <td>0.0</td>\n",
       "      <td>0.000</td>\n",
       "      <td>0.0000</td>\n",
       "      <td>0.00000</td>\n",
       "      <td>4.760</td>\n",
       "    </tr>\n",
       "    <tr>\n",
       "      <th>34</th>\n",
       "      <td>3680.0</td>\n",
       "      <td>0.100590</td>\n",
       "      <td>0.441289</td>\n",
       "      <td>0.0</td>\n",
       "      <td>0.000</td>\n",
       "      <td>0.0000</td>\n",
       "      <td>0.00000</td>\n",
       "      <td>5.880</td>\n",
       "    </tr>\n",
       "    <tr>\n",
       "      <th>35</th>\n",
       "      <td>3680.0</td>\n",
       "      <td>0.096228</td>\n",
       "      <td>0.397267</td>\n",
       "      <td>0.0</td>\n",
       "      <td>0.000</td>\n",
       "      <td>0.0000</td>\n",
       "      <td>0.00000</td>\n",
       "      <td>7.690</td>\n",
       "    </tr>\n",
       "    <tr>\n",
       "      <th>36</th>\n",
       "      <td>3680.0</td>\n",
       "      <td>0.136723</td>\n",
       "      <td>0.419032</td>\n",
       "      <td>0.0</td>\n",
       "      <td>0.000</td>\n",
       "      <td>0.0000</td>\n",
       "      <td>0.00000</td>\n",
       "      <td>6.890</td>\n",
       "    </tr>\n",
       "    <tr>\n",
       "      <th>37</th>\n",
       "      <td>3680.0</td>\n",
       "      <td>0.010057</td>\n",
       "      <td>0.175618</td>\n",
       "      <td>0.0</td>\n",
       "      <td>0.000</td>\n",
       "      <td>0.0000</td>\n",
       "      <td>0.00000</td>\n",
       "      <td>8.330</td>\n",
       "    </tr>\n",
       "    <tr>\n",
       "      <th>38</th>\n",
       "      <td>3680.0</td>\n",
       "      <td>0.080258</td>\n",
       "      <td>0.454315</td>\n",
       "      <td>0.0</td>\n",
       "      <td>0.000</td>\n",
       "      <td>0.0000</td>\n",
       "      <td>0.00000</td>\n",
       "      <td>11.110</td>\n",
       "    </tr>\n",
       "    <tr>\n",
       "      <th>39</th>\n",
       "      <td>3680.0</td>\n",
       "      <td>0.066310</td>\n",
       "      <td>0.347826</td>\n",
       "      <td>0.0</td>\n",
       "      <td>0.000</td>\n",
       "      <td>0.0000</td>\n",
       "      <td>0.00000</td>\n",
       "      <td>4.760</td>\n",
       "    </tr>\n",
       "    <tr>\n",
       "      <th>40</th>\n",
       "      <td>3680.0</td>\n",
       "      <td>0.043780</td>\n",
       "      <td>0.366802</td>\n",
       "      <td>0.0</td>\n",
       "      <td>0.000</td>\n",
       "      <td>0.0000</td>\n",
       "      <td>0.00000</td>\n",
       "      <td>7.140</td>\n",
       "    </tr>\n",
       "    <tr>\n",
       "      <th>41</th>\n",
       "      <td>3680.0</td>\n",
       "      <td>0.136543</td>\n",
       "      <td>0.791340</td>\n",
       "      <td>0.0</td>\n",
       "      <td>0.000</td>\n",
       "      <td>0.0000</td>\n",
       "      <td>0.00000</td>\n",
       "      <td>14.280</td>\n",
       "    </tr>\n",
       "    <tr>\n",
       "      <th>42</th>\n",
       "      <td>3680.0</td>\n",
       "      <td>0.047861</td>\n",
       "      <td>0.231146</td>\n",
       "      <td>0.0</td>\n",
       "      <td>0.000</td>\n",
       "      <td>0.0000</td>\n",
       "      <td>0.00000</td>\n",
       "      <td>3.570</td>\n",
       "    </tr>\n",
       "    <tr>\n",
       "      <th>43</th>\n",
       "      <td>3680.0</td>\n",
       "      <td>0.084552</td>\n",
       "      <td>0.675594</td>\n",
       "      <td>0.0</td>\n",
       "      <td>0.000</td>\n",
       "      <td>0.0000</td>\n",
       "      <td>0.00000</td>\n",
       "      <td>20.000</td>\n",
       "    </tr>\n",
       "    <tr>\n",
       "      <th>44</th>\n",
       "      <td>3680.0</td>\n",
       "      <td>0.292196</td>\n",
       "      <td>0.913657</td>\n",
       "      <td>0.0</td>\n",
       "      <td>0.000</td>\n",
       "      <td>0.0000</td>\n",
       "      <td>0.12000</td>\n",
       "      <td>16.660</td>\n",
       "    </tr>\n",
       "    <tr>\n",
       "      <th>45</th>\n",
       "      <td>3680.0</td>\n",
       "      <td>0.178340</td>\n",
       "      <td>0.920606</td>\n",
       "      <td>0.0</td>\n",
       "      <td>0.000</td>\n",
       "      <td>0.0000</td>\n",
       "      <td>0.00000</td>\n",
       "      <td>22.050</td>\n",
       "    </tr>\n",
       "    <tr>\n",
       "      <th>46</th>\n",
       "      <td>3680.0</td>\n",
       "      <td>0.004802</td>\n",
       "      <td>0.074557</td>\n",
       "      <td>0.0</td>\n",
       "      <td>0.000</td>\n",
       "      <td>0.0000</td>\n",
       "      <td>0.00000</td>\n",
       "      <td>2.170</td>\n",
       "    </tr>\n",
       "    <tr>\n",
       "      <th>47</th>\n",
       "      <td>3680.0</td>\n",
       "      <td>0.032041</td>\n",
       "      <td>0.304457</td>\n",
       "      <td>0.0</td>\n",
       "      <td>0.000</td>\n",
       "      <td>0.0000</td>\n",
       "      <td>0.00000</td>\n",
       "      <td>10.000</td>\n",
       "    </tr>\n",
       "    <tr>\n",
       "      <th>48</th>\n",
       "      <td>3680.0</td>\n",
       "      <td>0.038423</td>\n",
       "      <td>0.239941</td>\n",
       "      <td>0.0</td>\n",
       "      <td>0.000</td>\n",
       "      <td>0.0000</td>\n",
       "      <td>0.00000</td>\n",
       "      <td>4.385</td>\n",
       "    </tr>\n",
       "    <tr>\n",
       "      <th>49</th>\n",
       "      <td>3680.0</td>\n",
       "      <td>0.140967</td>\n",
       "      <td>0.285514</td>\n",
       "      <td>0.0</td>\n",
       "      <td>0.000</td>\n",
       "      <td>0.0650</td>\n",
       "      <td>0.18925</td>\n",
       "      <td>9.752</td>\n",
       "    </tr>\n",
       "    <tr>\n",
       "      <th>50</th>\n",
       "      <td>3680.0</td>\n",
       "      <td>0.015141</td>\n",
       "      <td>0.083095</td>\n",
       "      <td>0.0</td>\n",
       "      <td>0.000</td>\n",
       "      <td>0.0000</td>\n",
       "      <td>0.00000</td>\n",
       "      <td>2.777</td>\n",
       "    </tr>\n",
       "    <tr>\n",
       "      <th>51</th>\n",
       "      <td>3680.0</td>\n",
       "      <td>0.264961</td>\n",
       "      <td>0.838514</td>\n",
       "      <td>0.0</td>\n",
       "      <td>0.000</td>\n",
       "      <td>0.0000</td>\n",
       "      <td>0.31575</td>\n",
       "      <td>32.478</td>\n",
       "    </tr>\n",
       "    <tr>\n",
       "      <th>52</th>\n",
       "      <td>3680.0</td>\n",
       "      <td>0.077287</td>\n",
       "      <td>0.257312</td>\n",
       "      <td>0.0</td>\n",
       "      <td>0.000</td>\n",
       "      <td>0.0000</td>\n",
       "      <td>0.05000</td>\n",
       "      <td>6.003</td>\n",
       "    </tr>\n",
       "    <tr>\n",
       "      <th>53</th>\n",
       "      <td>3680.0</td>\n",
       "      <td>0.047232</td>\n",
       "      <td>0.474204</td>\n",
       "      <td>0.0</td>\n",
       "      <td>0.000</td>\n",
       "      <td>0.0000</td>\n",
       "      <td>0.00000</td>\n",
       "      <td>19.829</td>\n",
       "    </tr>\n",
       "    <tr>\n",
       "      <th>54</th>\n",
       "      <td>3680.0</td>\n",
       "      <td>4.950578</td>\n",
       "      <td>28.815190</td>\n",
       "      <td>1.0</td>\n",
       "      <td>1.576</td>\n",
       "      <td>2.2675</td>\n",
       "      <td>3.66825</td>\n",
       "      <td>1021.500</td>\n",
       "    </tr>\n",
       "    <tr>\n",
       "      <th>55</th>\n",
       "      <td>3680.0</td>\n",
       "      <td>52.610870</td>\n",
       "      <td>206.899657</td>\n",
       "      <td>1.0</td>\n",
       "      <td>6.000</td>\n",
       "      <td>14.0000</td>\n",
       "      <td>43.00000</td>\n",
       "      <td>9989.000</td>\n",
       "    </tr>\n",
       "    <tr>\n",
       "      <th>56</th>\n",
       "      <td>3680.0</td>\n",
       "      <td>280.527717</td>\n",
       "      <td>623.808184</td>\n",
       "      <td>1.0</td>\n",
       "      <td>34.750</td>\n",
       "      <td>94.0000</td>\n",
       "      <td>261.00000</td>\n",
       "      <td>15841.000</td>\n",
       "    </tr>\n",
       "    <tr>\n",
       "      <th>57</th>\n",
       "      <td>3680.0</td>\n",
       "      <td>0.394022</td>\n",
       "      <td>0.488706</td>\n",
       "      <td>0.0</td>\n",
       "      <td>0.000</td>\n",
       "      <td>0.0000</td>\n",
       "      <td>1.00000</td>\n",
       "      <td>1.000</td>\n",
       "    </tr>\n",
       "  </tbody>\n",
       "</table>\n",
       "</div>"
      ],
      "text/plain": [
       "     count        mean         std  min     25%      50%        75%        max\n",
       "0   3680.0    0.104791    0.307459  0.0   0.000   0.0000    0.00000      4.540\n",
       "1   3680.0    0.218867    1.314926  0.0   0.000   0.0000    0.00000     14.280\n",
       "2   3680.0    0.273780    0.497170  0.0   0.000   0.0000    0.40000      5.100\n",
       "3   3680.0    0.055413    1.190689  0.0   0.000   0.0000    0.00000     40.130\n",
       "4   3680.0    0.316003    0.680161  0.0   0.000   0.0000    0.40000     10.000\n",
       "5   3680.0    0.095315    0.265505  0.0   0.000   0.0000    0.00000      3.570\n",
       "6   3680.0    0.116030    0.398057  0.0   0.000   0.0000    0.00000      7.270\n",
       "7   3680.0    0.105334    0.410780  0.0   0.000   0.0000    0.00000     11.110\n",
       "8   3680.0    0.088060    0.280609  0.0   0.000   0.0000    0.00000      5.260\n",
       "9   3680.0    0.238799    0.666385  0.0   0.000   0.0000    0.15000     18.180\n",
       "10  3680.0    0.059647    0.197238  0.0   0.000   0.0000    0.00000      2.060\n",
       "11  3680.0    0.545193    0.874384  0.0   0.000   0.0900    0.80000      9.670\n",
       "12  3680.0    0.094921    0.299059  0.0   0.000   0.0000    0.00000      5.550\n",
       "13  3680.0    0.059832    0.340686  0.0   0.000   0.0000    0.00000     10.000\n",
       "14  3680.0    0.050527    0.263423  0.0   0.000   0.0000    0.00000      4.410\n",
       "15  3680.0    0.235826    0.720021  0.0   0.000   0.0000    0.10000     16.660\n",
       "16  3680.0    0.144856    0.447777  0.0   0.000   0.0000    0.00000      7.140\n",
       "17  3680.0    0.181383    0.530369  0.0   0.000   0.0000    0.00000      9.090\n",
       "18  3680.0    1.685802    1.792039  0.0   0.000   1.3100    2.66000     18.750\n",
       "19  3680.0    0.089239    0.543601  0.0   0.000   0.0000    0.00000     18.180\n",
       "20  3680.0    0.819391    1.203702  0.0   0.000   0.2350    1.29000     11.110\n",
       "21  3680.0    0.113644    0.960598  0.0   0.000   0.0000    0.00000     17.100\n",
       "22  3680.0    0.100356    0.348274  0.0   0.000   0.0000    0.00000      5.450\n",
       "23  3680.0    0.091095    0.425823  0.0   0.000   0.0000    0.00000     12.500\n",
       "24  3680.0    0.555641    1.677126  0.0   0.000   0.0000    0.00000     20.830\n",
       "25  3680.0    0.260734    0.865699  0.0   0.000   0.0000    0.00000     16.660\n",
       "26  3680.0    0.786427    3.398351  0.0   0.000   0.0000    0.00000     33.330\n",
       "27  3680.0    0.127098    0.547837  0.0   0.000   0.0000    0.00000      9.090\n",
       "28  3680.0    0.098799    0.585690  0.0   0.000   0.0000    0.00000     14.280\n",
       "29  3680.0    0.100780    0.450867  0.0   0.000   0.0000    0.00000      5.880\n",
       "30  3680.0    0.065601    0.409101  0.0   0.000   0.0000    0.00000     12.500\n",
       "31  3680.0    0.047753    0.322512  0.0   0.000   0.0000    0.00000      4.760\n",
       "32  3680.0    0.099041    0.576255  0.0   0.000   0.0000    0.00000     18.180\n",
       "33  3680.0    0.048815    0.323665  0.0   0.000   0.0000    0.00000      4.760\n",
       "34  3680.0    0.100590    0.441289  0.0   0.000   0.0000    0.00000      5.880\n",
       "35  3680.0    0.096228    0.397267  0.0   0.000   0.0000    0.00000      7.690\n",
       "36  3680.0    0.136723    0.419032  0.0   0.000   0.0000    0.00000      6.890\n",
       "37  3680.0    0.010057    0.175618  0.0   0.000   0.0000    0.00000      8.330\n",
       "38  3680.0    0.080258    0.454315  0.0   0.000   0.0000    0.00000     11.110\n",
       "39  3680.0    0.066310    0.347826  0.0   0.000   0.0000    0.00000      4.760\n",
       "40  3680.0    0.043780    0.366802  0.0   0.000   0.0000    0.00000      7.140\n",
       "41  3680.0    0.136543    0.791340  0.0   0.000   0.0000    0.00000     14.280\n",
       "42  3680.0    0.047861    0.231146  0.0   0.000   0.0000    0.00000      3.570\n",
       "43  3680.0    0.084552    0.675594  0.0   0.000   0.0000    0.00000     20.000\n",
       "44  3680.0    0.292196    0.913657  0.0   0.000   0.0000    0.12000     16.660\n",
       "45  3680.0    0.178340    0.920606  0.0   0.000   0.0000    0.00000     22.050\n",
       "46  3680.0    0.004802    0.074557  0.0   0.000   0.0000    0.00000      2.170\n",
       "47  3680.0    0.032041    0.304457  0.0   0.000   0.0000    0.00000     10.000\n",
       "48  3680.0    0.038423    0.239941  0.0   0.000   0.0000    0.00000      4.385\n",
       "49  3680.0    0.140967    0.285514  0.0   0.000   0.0650    0.18925      9.752\n",
       "50  3680.0    0.015141    0.083095  0.0   0.000   0.0000    0.00000      2.777\n",
       "51  3680.0    0.264961    0.838514  0.0   0.000   0.0000    0.31575     32.478\n",
       "52  3680.0    0.077287    0.257312  0.0   0.000   0.0000    0.05000      6.003\n",
       "53  3680.0    0.047232    0.474204  0.0   0.000   0.0000    0.00000     19.829\n",
       "54  3680.0    4.950578   28.815190  1.0   1.576   2.2675    3.66825   1021.500\n",
       "55  3680.0   52.610870  206.899657  1.0   6.000  14.0000   43.00000   9989.000\n",
       "56  3680.0  280.527717  623.808184  1.0  34.750  94.0000  261.00000  15841.000\n",
       "57  3680.0    0.394022    0.488706  0.0   0.000   0.0000    1.00000      1.000"
      ]
     },
     "execution_count": 4,
     "metadata": {},
     "output_type": "execute_result"
    }
   ],
   "source": [
    "# Display descriptive statistics\n",
    "trainval.describe().transpose()"
   ]
  },
  {
   "cell_type": "markdown",
   "metadata": {},
   "source": [
    "Note that the mean of the binary output is around 0.4 meaning that there is a 60/40 split between positive and negative observations. Having a roughly equal split here is a good thing.\n",
    "\n",
    "Observe also that most of the features are skewed extremely far right in their distributions. For example, although the feature labelled as '4' has max 10, it is zero ~60% of the time."
   ]
  },
  {
   "cell_type": "code",
   "execution_count": 5,
   "metadata": {},
   "outputs": [
    {
     "name": "stdout",
     "output_type": "stream",
     "text": [
      "Proportion of data points where feature 4 has value zero: 0.62\n"
     ]
    }
   ],
   "source": [
    "# Proportion of \n",
    "prop_zero = (trainval[4] == 0).value_counts()[True] / len(trainval)\n",
    "print('Proportion of data points where feature 4 has value zero: {:.2f}'.format(prop_zero))"
   ]
  },
  {
   "cell_type": "code",
   "execution_count": 6,
   "metadata": {
    "scrolled": false
   },
   "outputs": [
    {
     "data": {
      "image/png": "[encoded data removed]",
      "text/plain": [
       "<Figure size 1080x360 with 1 Axes>"
      ]
     },
     "metadata": {
      "needs_background": "light"
     },
     "output_type": "display_data"
    }
   ],
   "source": [
    "# Histogram giving value counts of feature 4\n",
    "fig, ax = plt.subplots(figsize = (15, 5))\n",
    "\n",
    "ax.hist(trainval[4], bins  = 100, range = (0, 2))\n",
    "\n",
    "ax.set_title('Value counts of feature 4');"
   ]
  },
  {
   "cell_type": "markdown",
   "metadata": {},
   "source": [
    "#### Correlation"
   ]
  },
  {
   "cell_type": "markdown",
   "metadata": {},
   "source": [
    "The correlation between a feature and the output gives the proportion of the variance of the outcome that is predictable from the feature. This gives us a ranking of the predictive power of the different features. The square correlation is also known at the *coefficient of determination* or $r^2$."
   ]
  },
  {
   "cell_type": "markdown",
   "metadata": {},
   "source": [
    "**TO DO: Analysis of $R^2$** "
   ]
  },
  {
   "cell_type": "markdown",
   "metadata": {},
   "source": [
    "It is also useful to look at correlation between features to understand redundancy."
   ]
  },
  {
   "cell_type": "code",
   "execution_count": 7,
   "metadata": {
    "scrolled": true
   },
   "outputs": [
    {
     "name": "stdout",
     "output_type": "stream",
     "text": [
      "Features with the greatest correlations:\n"
     ]
    },
    {
     "data": {
      "text/html": [
       "<div>\n",
       "<style scoped>\n",
       "    .dataframe tbody tr th:only-of-type {\n",
       "        vertical-align: middle;\n",
       "    }\n",
       "\n",
       "    .dataframe tbody tr th {\n",
       "        vertical-align: top;\n",
       "    }\n",
       "\n",
       "    .dataframe thead th {\n",
       "        text-align: right;\n",
       "    }\n",
       "</style>\n",
       "<table border=\"1\" class=\"dataframe\">\n",
       "  <thead>\n",
       "    <tr style=\"text-align: right;\">\n",
       "      <th></th>\n",
       "      <th>30</th>\n",
       "      <th>31</th>\n",
       "      <th>33</th>\n",
       "      <th>35</th>\n",
       "      <th>39</th>\n",
       "    </tr>\n",
       "  </thead>\n",
       "  <tbody>\n",
       "    <tr>\n",
       "      <th>30</th>\n",
       "      <td>1.000000</td>\n",
       "      <td>0.744586</td>\n",
       "      <td>0.741407</td>\n",
       "      <td>0.646897</td>\n",
       "      <td>0.695687</td>\n",
       "    </tr>\n",
       "    <tr>\n",
       "      <th>31</th>\n",
       "      <td>0.744586</td>\n",
       "      <td>1.000000</td>\n",
       "      <td>0.995060</td>\n",
       "      <td>0.757557</td>\n",
       "      <td>0.874787</td>\n",
       "    </tr>\n",
       "    <tr>\n",
       "      <th>33</th>\n",
       "      <td>0.741407</td>\n",
       "      <td>0.995060</td>\n",
       "      <td>1.000000</td>\n",
       "      <td>0.754172</td>\n",
       "      <td>0.871114</td>\n",
       "    </tr>\n",
       "    <tr>\n",
       "      <th>35</th>\n",
       "      <td>0.646897</td>\n",
       "      <td>0.757557</td>\n",
       "      <td>0.754172</td>\n",
       "      <td>1.000000</td>\n",
       "      <td>0.690927</td>\n",
       "    </tr>\n",
       "    <tr>\n",
       "      <th>39</th>\n",
       "      <td>0.695687</td>\n",
       "      <td>0.874787</td>\n",
       "      <td>0.871114</td>\n",
       "      <td>0.690927</td>\n",
       "      <td>1.000000</td>\n",
       "    </tr>\n",
       "  </tbody>\n",
       "</table>\n",
       "</div>"
      ],
      "text/plain": [
       "          30        31        33        35        39\n",
       "30  1.000000  0.744586  0.741407  0.646897  0.695687\n",
       "31  0.744586  1.000000  0.995060  0.757557  0.874787\n",
       "33  0.741407  0.995060  1.000000  0.754172  0.871114\n",
       "35  0.646897  0.757557  0.754172  1.000000  0.690927\n",
       "39  0.695687  0.874787  0.871114  0.690927  1.000000"
      ]
     },
     "execution_count": 7,
     "metadata": {},
     "output_type": "execute_result"
    }
   ],
   "source": [
    "# Correlation matrix\n",
    "corr = trainval.corr(method = 'pearson')\n",
    "abs_corr = np.abs(corr)\n",
    "\n",
    "# Examine the highest correlations between features\n",
    "max_corr = abs_corr[abs_corr != 1].stack().nlargest(15)\n",
    "max_corr_feat = sorted(list({pair[0] for pair in max_corr.index}))\n",
    "print('Features with the greatest correlations:')\n",
    "corr.loc[max_corr_feat, max_corr_feat]"
   ]
  },
  {
   "cell_type": "markdown",
   "metadata": {},
   "source": [
    "This collection of features is highly correlated. This redundancy is undesirable and may increase the variance of models meaning that they generalise poorly. We will look later at ways to ameliorate this.\n",
    "\n",
    "Finally we look the rank of the data matrix to ensure that the columns are linearly independent."
   ]
  },
  {
   "cell_type": "code",
   "execution_count": 8,
   "metadata": {},
   "outputs": [
    {
     "name": "stdout",
     "output_type": "stream",
     "text": [
      "The data matrix has full column rank\n"
     ]
    }
   ],
   "source": [
    "# Compare matrix rank with number of columns\n",
    "rank = np.linalg.matrix_rank(trainval)\n",
    "if rank == trainval.shape[1]:\n",
    "    print('The data matrix has full column rank')\n",
    "else:\n",
    "    print('The data matrix has linearly dependent columns')"
   ]
  },
  {
   "cell_type": "markdown",
   "metadata": {},
   "source": [
    "### Data Preparation"
   ]
  },
  {
   "cell_type": "markdown",
   "metadata": {},
   "source": [
    "We split the data into inputs $X$ and outputs $y$, cast to Numpy arrays, and store some useful values."
   ]
  },
  {
   "cell_type": "code",
   "execution_count": 9,
   "metadata": {},
   "outputs": [],
   "source": [
    "# Split into inputs and outputs\n",
    "X_train = train.loc[:, :56].to_numpy()\n",
    "y_train = train.loc[:, 57].to_numpy()\n",
    "N_train = len(y_train)\n",
    "\n",
    "X_val = val.loc[:, :56].to_numpy()\n",
    "y_val = val.loc[:, 57].to_numpy()\n",
    "N_val = len(y_val)\n",
    "\n",
    "X_test = test.loc[:, :56].to_numpy()\n",
    "y_test = test.loc[:, 57].to_numpy()\n",
    "N_test = len(y_test)\n",
    "\n",
    "# Combined training/validation data\n",
    "X_trainval = trainval.loc[:, :56].to_numpy()\n",
    "y_trainval = trainval.loc[:, 57].to_numpy()\n",
    "N_trainval = len(y_trainval)\n",
    "\n",
    "# Predefined split to aid validation with sklearn\n",
    "test_fold = [-1] * N_train + [0] * N_val\n",
    "ps = PredefinedSplit(test_fold)\n",
    "\n",
    "# Number of features\n",
    "num_feat = X_train.shape[1]"
   ]
  },
  {
   "cell_type": "markdown",
   "metadata": {},
   "source": [
    "### Base Error Rate"
   ]
  },
  {
   "cell_type": "markdown",
   "metadata": {},
   "source": [
    "Finally we calculate the base error rate; the mean-squared error when using the sample mean of $\\mathbf{y}$ for all predictions (this is equivalent to linear regression with only the bias feature)."
   ]
  },
  {
   "cell_type": "code",
   "execution_count": 10,
   "metadata": {},
   "outputs": [
    {
     "name": "stdout",
     "output_type": "stream",
     "text": [
      "Sample mean of train/val data: 0.394\n",
      "\n",
      "Base error rate: 0.2388\n"
     ]
    }
   ],
   "source": [
    "# Finding training sample mean\n",
    "y_trainval_mean = y_trainval.mean()\n",
    "print('Sample mean of train/val data: {:.3f}\\n'.format(y_trainval_mean))\n",
    "\n",
    "# Calculate base error for training data\n",
    "y_trainval_pred_base = np.array([y_trainval_mean] * N_trainval)\n",
    "base_trainval_err = (y_trainval - y_trainval_pred_base).T @ (y_trainval - y_trainval_pred_base) / N_trainval\n",
    "print('Base error rate: {:.4f}'.format(base_trainval_err))"
   ]
  },
  {
   "cell_type": "markdown",
   "metadata": {},
   "source": [
    "This is approximately what we would expect. In a binary classification problem with equal numbers of positive and negative observations, predicting 0.5 at all times will yield a mean-squared error of $(0.5)^2 = 0.25$. "
   ]
  },
  {
   "cell_type": "markdown",
   "metadata": {},
   "source": [
    "## Least Squares"
   ]
  },
  {
   "cell_type": "markdown",
   "metadata": {},
   "source": [
    "We begin by fitting a linear model to the data using least-squares. This is the simplest non-trivial way to fit a linear model to our data and will serve as a baseline on which we wish to improve.\n",
    "\n",
    "Finding the least-squares fit will also allow us to make some additional inferences about the data. In particular we will:\n",
    "- estimate the population variance;\n",
    "- estimate the standard error of the least-squares approximation $\\hat{\\beta}$ to $\\beta$;\n",
    "- calculate the $Z$-scores under the null hypothesis that a specific coefficient $\\beta_j$ is zero;\n",
    "- conduct a hypothesis test against the null hypothesis that a batch of coefficients are simultaneously zero.\n",
    "\n",
    "The last two bullets will give use a measure of the significance of the different features.\n"
   ]
  },
  {
   "cell_type": "markdown",
   "metadata": {},
   "source": [
    "### Model Training"
   ]
  },
  {
   "cell_type": "markdown",
   "metadata": {},
   "source": [
    "We fit the model using the training data. Although least-squares doesn't require validation, we still respect the split between training and validation to allow comparison with later models."
   ]
  },
  {
   "cell_type": "code",
   "execution_count": 11,
   "metadata": {
    "scrolled": true
   },
   "outputs": [
    {
     "name": "stdout",
     "output_type": "stream",
     "text": [
      "Unbiased estimate for population variance: 0.103\n"
     ]
    }
   ],
   "source": [
    "# Create linear regresssion object\n",
    "ls = LinearRegression()\n",
    "\n",
    "# Train using the data\n",
    "ls.fit(X_train, y_train)\n",
    "\n",
    "# Generate predictions for the training/validation data\n",
    "y_train_pred_ls = ls.predict(X_train)\n",
    "\n",
    "# Calculate an unbiased estimate of the variance in the data assuming a linear relationship\n",
    "ls_train_rss = (y_train - y_train_pred_ls).T @ (y_train - y_train_pred_ls)\n",
    "var_est = ls_train_rss / (N_train - num_feat - 1)\n",
    "print('Unbiased estimate for population variance: {:.3f}'.format(var_est))"
   ]
  },
  {
   "cell_type": "markdown",
   "metadata": {},
   "source": [
    "We evaluate the performance of the model using the mean-squared error. Calculating the error on the validation data gives us an insight into how the model with generalise to new data."
   ]
  },
  {
   "cell_type": "code",
   "execution_count": 12,
   "metadata": {},
   "outputs": [
    {
     "name": "stdout",
     "output_type": "stream",
     "text": [
      "Least squares training error: 0.1011\n",
      "Least squares validation error: 0.1170\n"
     ]
    }
   ],
   "source": [
    "# Training error\n",
    "ls_train_err = ls_train_rss / N_train\n",
    "print('Least squares training error: {:.4f}'.format(ls_train_err))\n",
    "\n",
    "# Validation error\n",
    "y_val_pred_ls = ls.predict(X_val)\n",
    "ls_val_err = (y_val - y_val_pred_ls).T @ (y_val - y_val_pred_ls) / N_val\n",
    "print('Least squares validation error: {:.4f}'.format(ls_val_err))"
   ]
  },
  {
   "cell_type": "markdown",
   "metadata": {},
   "source": [
    "We have decreased the error from a base rate of 0.24 to around 0.1. Recall that the least squares fit minimises the training error among all linear models. All adjustments we make to our model from here on aim to decrease the generalisation error, estimated here by the validation error."
   ]
  },
  {
   "cell_type": "markdown",
   "metadata": {},
   "source": [
    "### Hypothesis Testing"
   ]
  },
  {
   "cell_type": "markdown",
   "metadata": {},
   "source": [
    "We have obtained a least-squares approximation $\\hat{\\beta}^{\\text{ls}}_j$ for each coefficient $\\beta_j$. In this section we use these to conduct hypothesis tests again the null that a coefficient $\\beta_j$ or group of coefficients are zero."
   ]
  },
  {
   "cell_type": "markdown",
   "metadata": {},
   "source": [
    "#### Z-Tests"
   ]
  },
  {
   "cell_type": "markdown",
   "metadata": {},
   "source": [
    "We calculate the $Z$-scores for each coefficient $\\beta_j$ under the null hypothesis that $\\beta_j = 0$. In doing so we estimate the standard error of each $\\hat{\\beta}^{\\text{ls}}_j$ as an estimator of $\\beta_j$. An explanation of the formulas used can by found in [HPS, $\\S$3.2.1]."
   ]
  },
  {
   "cell_type": "code",
   "execution_count": 13,
   "metadata": {
    "scrolled": true
   },
   "outputs": [
    {
     "data": {
      "text/html": [
       "<div>\n",
       "<style scoped>\n",
       "    .dataframe tbody tr th:only-of-type {\n",
       "        vertical-align: middle;\n",
       "    }\n",
       "\n",
       "    .dataframe tbody tr th {\n",
       "        vertical-align: top;\n",
       "    }\n",
       "\n",
       "    .dataframe thead th {\n",
       "        text-align: right;\n",
       "    }\n",
       "</style>\n",
       "<table border=\"1\" class=\"dataframe\">\n",
       "  <thead>\n",
       "    <tr style=\"text-align: right;\">\n",
       "      <th></th>\n",
       "      <th>coef</th>\n",
       "      <th>std_err</th>\n",
       "      <th>z_score</th>\n",
       "      <th>abs_z_score</th>\n",
       "    </tr>\n",
       "    <tr>\n",
       "      <th>feature</th>\n",
       "      <th></th>\n",
       "      <th></th>\n",
       "      <th></th>\n",
       "      <th></th>\n",
       "    </tr>\n",
       "  </thead>\n",
       "  <tbody>\n",
       "    <tr>\n",
       "      <th>6</th>\n",
       "      <td>0.206</td>\n",
       "      <td>0.015</td>\n",
       "      <td>13.663</td>\n",
       "      <td>13.663</td>\n",
       "    </tr>\n",
       "    <tr>\n",
       "      <th>intercept</th>\n",
       "      <td>0.193</td>\n",
       "      <td>0.015</td>\n",
       "      <td>13.013</td>\n",
       "      <td>13.013</td>\n",
       "    </tr>\n",
       "    <tr>\n",
       "      <th>15</th>\n",
       "      <td>0.093</td>\n",
       "      <td>0.008</td>\n",
       "      <td>10.957</td>\n",
       "      <td>10.957</td>\n",
       "    </tr>\n",
       "    <tr>\n",
       "      <th>4</th>\n",
       "      <td>0.092</td>\n",
       "      <td>0.010</td>\n",
       "      <td>9.609</td>\n",
       "      <td>9.609</td>\n",
       "    </tr>\n",
       "    <tr>\n",
       "      <th>51</th>\n",
       "      <td>0.093</td>\n",
       "      <td>0.010</td>\n",
       "      <td>9.219</td>\n",
       "      <td>9.219</td>\n",
       "    </tr>\n",
       "    <tr>\n",
       "      <th>20</th>\n",
       "      <td>0.054</td>\n",
       "      <td>0.006</td>\n",
       "      <td>9.154</td>\n",
       "      <td>9.154</td>\n",
       "    </tr>\n",
       "    <tr>\n",
       "      <th>52</th>\n",
       "      <td>0.276</td>\n",
       "      <td>0.030</td>\n",
       "      <td>9.103</td>\n",
       "      <td>9.103</td>\n",
       "    </tr>\n",
       "    <tr>\n",
       "      <th>22</th>\n",
       "      <td>0.174</td>\n",
       "      <td>0.022</td>\n",
       "      <td>8.083</td>\n",
       "      <td>8.083</td>\n",
       "    </tr>\n",
       "    <tr>\n",
       "      <th>56</th>\n",
       "      <td>0.000</td>\n",
       "      <td>0.000</td>\n",
       "      <td>6.978</td>\n",
       "      <td>6.978</td>\n",
       "    </tr>\n",
       "    <tr>\n",
       "      <th>21</th>\n",
       "      <td>0.049</td>\n",
       "      <td>0.007</td>\n",
       "      <td>6.554</td>\n",
       "      <td>6.554</td>\n",
       "    </tr>\n",
       "    <tr>\n",
       "      <th>44</th>\n",
       "      <td>-0.044</td>\n",
       "      <td>0.007</td>\n",
       "      <td>-6.338</td>\n",
       "      <td>6.338</td>\n",
       "    </tr>\n",
       "    <tr>\n",
       "      <th>7</th>\n",
       "      <td>0.089</td>\n",
       "      <td>0.015</td>\n",
       "      <td>6.039</td>\n",
       "      <td>6.039</td>\n",
       "    </tr>\n",
       "    <tr>\n",
       "      <th>26</th>\n",
       "      <td>-0.010</td>\n",
       "      <td>0.002</td>\n",
       "      <td>-5.379</td>\n",
       "      <td>5.379</td>\n",
       "    </tr>\n",
       "    <tr>\n",
       "      <th>23</th>\n",
       "      <td>0.091</td>\n",
       "      <td>0.017</td>\n",
       "      <td>5.237</td>\n",
       "      <td>5.237</td>\n",
       "    </tr>\n",
       "    <tr>\n",
       "      <th>19</th>\n",
       "      <td>0.074</td>\n",
       "      <td>0.015</td>\n",
       "      <td>5.114</td>\n",
       "      <td>5.114</td>\n",
       "    </tr>\n",
       "    <tr>\n",
       "      <th>45</th>\n",
       "      <td>-0.035</td>\n",
       "      <td>0.007</td>\n",
       "      <td>-5.085</td>\n",
       "      <td>5.085</td>\n",
       "    </tr>\n",
       "    <tr>\n",
       "      <th>48</th>\n",
       "      <td>-0.146</td>\n",
       "      <td>0.029</td>\n",
       "      <td>-5.077</td>\n",
       "      <td>5.077</td>\n",
       "    </tr>\n",
       "    <tr>\n",
       "      <th>24</th>\n",
       "      <td>-0.023</td>\n",
       "      <td>0.005</td>\n",
       "      <td>-4.860</td>\n",
       "      <td>4.860</td>\n",
       "    </tr>\n",
       "    <tr>\n",
       "      <th>5</th>\n",
       "      <td>0.112</td>\n",
       "      <td>0.024</td>\n",
       "      <td>4.690</td>\n",
       "      <td>4.690</td>\n",
       "    </tr>\n",
       "    <tr>\n",
       "      <th>11</th>\n",
       "      <td>-0.032</td>\n",
       "      <td>0.007</td>\n",
       "      <td>-4.294</td>\n",
       "      <td>4.294</td>\n",
       "    </tr>\n",
       "    <tr>\n",
       "      <th>17</th>\n",
       "      <td>0.046</td>\n",
       "      <td>0.013</td>\n",
       "      <td>3.662</td>\n",
       "      <td>3.662</td>\n",
       "    </tr>\n",
       "    <tr>\n",
       "      <th>16</th>\n",
       "      <td>0.053</td>\n",
       "      <td>0.015</td>\n",
       "      <td>3.662</td>\n",
       "      <td>3.662</td>\n",
       "    </tr>\n",
       "    <tr>\n",
       "      <th>41</th>\n",
       "      <td>-0.034</td>\n",
       "      <td>0.010</td>\n",
       "      <td>-3.581</td>\n",
       "      <td>3.581</td>\n",
       "    </tr>\n",
       "    <tr>\n",
       "      <th>3</th>\n",
       "      <td>0.024</td>\n",
       "      <td>0.007</td>\n",
       "      <td>3.418</td>\n",
       "      <td>3.418</td>\n",
       "    </tr>\n",
       "    <tr>\n",
       "      <th>18</th>\n",
       "      <td>0.013</td>\n",
       "      <td>0.004</td>\n",
       "      <td>3.355</td>\n",
       "      <td>3.355</td>\n",
       "    </tr>\n",
       "    <tr>\n",
       "      <th>32</th>\n",
       "      <td>-0.035</td>\n",
       "      <td>0.011</td>\n",
       "      <td>-3.299</td>\n",
       "      <td>3.299</td>\n",
       "    </tr>\n",
       "    <tr>\n",
       "      <th>0</th>\n",
       "      <td>-0.069</td>\n",
       "      <td>0.022</td>\n",
       "      <td>-3.184</td>\n",
       "      <td>3.184</td>\n",
       "    </tr>\n",
       "    <tr>\n",
       "      <th>43</th>\n",
       "      <td>-0.027</td>\n",
       "      <td>0.010</td>\n",
       "      <td>-2.775</td>\n",
       "      <td>2.775</td>\n",
       "    </tr>\n",
       "    <tr>\n",
       "      <th>8</th>\n",
       "      <td>0.067</td>\n",
       "      <td>0.025</td>\n",
       "      <td>2.696</td>\n",
       "      <td>2.696</td>\n",
       "    </tr>\n",
       "    <tr>\n",
       "      <th>25</th>\n",
       "      <td>-0.026</td>\n",
       "      <td>0.010</td>\n",
       "      <td>-2.525</td>\n",
       "      <td>2.525</td>\n",
       "    </tr>\n",
       "    <tr>\n",
       "      <th>1</th>\n",
       "      <td>-0.012</td>\n",
       "      <td>0.005</td>\n",
       "      <td>-2.476</td>\n",
       "      <td>2.476</td>\n",
       "    </tr>\n",
       "    <tr>\n",
       "      <th>42</th>\n",
       "      <td>-0.069</td>\n",
       "      <td>0.030</td>\n",
       "      <td>-2.342</td>\n",
       "      <td>2.342</td>\n",
       "    </tr>\n",
       "    <tr>\n",
       "      <th>34</th>\n",
       "      <td>-0.054</td>\n",
       "      <td>0.024</td>\n",
       "      <td>-2.293</td>\n",
       "      <td>2.293</td>\n",
       "    </tr>\n",
       "    <tr>\n",
       "      <th>47</th>\n",
       "      <td>-0.044</td>\n",
       "      <td>0.019</td>\n",
       "      <td>-2.254</td>\n",
       "      <td>2.254</td>\n",
       "    </tr>\n",
       "    <tr>\n",
       "      <th>2</th>\n",
       "      <td>0.029</td>\n",
       "      <td>0.013</td>\n",
       "      <td>2.195</td>\n",
       "      <td>2.195</td>\n",
       "    </tr>\n",
       "    <tr>\n",
       "      <th>49</th>\n",
       "      <td>-0.059</td>\n",
       "      <td>0.027</td>\n",
       "      <td>-2.182</td>\n",
       "      <td>2.182</td>\n",
       "    </tr>\n",
       "    <tr>\n",
       "      <th>37</th>\n",
       "      <td>-0.071</td>\n",
       "      <td>0.037</td>\n",
       "      <td>-1.942</td>\n",
       "      <td>1.942</td>\n",
       "    </tr>\n",
       "    <tr>\n",
       "      <th>29</th>\n",
       "      <td>-0.039</td>\n",
       "      <td>0.020</td>\n",
       "      <td>-1.929</td>\n",
       "      <td>1.929</td>\n",
       "    </tr>\n",
       "    <tr>\n",
       "      <th>9</th>\n",
       "      <td>0.018</td>\n",
       "      <td>0.011</td>\n",
       "      <td>1.656</td>\n",
       "      <td>1.656</td>\n",
       "    </tr>\n",
       "    <tr>\n",
       "      <th>53</th>\n",
       "      <td>0.019</td>\n",
       "      <td>0.012</td>\n",
       "      <td>1.647</td>\n",
       "      <td>1.647</td>\n",
       "    </tr>\n",
       "    <tr>\n",
       "      <th>10</th>\n",
       "      <td>0.053</td>\n",
       "      <td>0.034</td>\n",
       "      <td>1.557</td>\n",
       "      <td>1.557</td>\n",
       "    </tr>\n",
       "    <tr>\n",
       "      <th>35</th>\n",
       "      <td>0.035</td>\n",
       "      <td>0.023</td>\n",
       "      <td>1.491</td>\n",
       "      <td>1.491</td>\n",
       "    </tr>\n",
       "    <tr>\n",
       "      <th>38</th>\n",
       "      <td>-0.021</td>\n",
       "      <td>0.015</td>\n",
       "      <td>-1.391</td>\n",
       "      <td>1.391</td>\n",
       "    </tr>\n",
       "    <tr>\n",
       "      <th>54</th>\n",
       "      <td>0.000</td>\n",
       "      <td>0.000</td>\n",
       "      <td>1.297</td>\n",
       "      <td>1.297</td>\n",
       "    </tr>\n",
       "    <tr>\n",
       "      <th>46</th>\n",
       "      <td>-0.115</td>\n",
       "      <td>0.097</td>\n",
       "      <td>-1.189</td>\n",
       "      <td>1.189</td>\n",
       "    </tr>\n",
       "    <tr>\n",
       "      <th>39</th>\n",
       "      <td>0.042</td>\n",
       "      <td>0.038</td>\n",
       "      <td>1.130</td>\n",
       "      <td>1.130</td>\n",
       "    </tr>\n",
       "    <tr>\n",
       "      <th>36</th>\n",
       "      <td>-0.017</td>\n",
       "      <td>0.016</td>\n",
       "      <td>-1.051</td>\n",
       "      <td>1.051</td>\n",
       "    </tr>\n",
       "    <tr>\n",
       "      <th>55</th>\n",
       "      <td>0.000</td>\n",
       "      <td>0.000</td>\n",
       "      <td>1.022</td>\n",
       "      <td>1.022</td>\n",
       "    </tr>\n",
       "    <tr>\n",
       "      <th>30</th>\n",
       "      <td>-0.021</td>\n",
       "      <td>0.021</td>\n",
       "      <td>-1.002</td>\n",
       "      <td>1.002</td>\n",
       "    </tr>\n",
       "    <tr>\n",
       "      <th>14</th>\n",
       "      <td>0.026</td>\n",
       "      <td>0.028</td>\n",
       "      <td>0.918</td>\n",
       "      <td>0.918</td>\n",
       "    </tr>\n",
       "    <tr>\n",
       "      <th>27</th>\n",
       "      <td>0.016</td>\n",
       "      <td>0.018</td>\n",
       "      <td>0.890</td>\n",
       "      <td>0.890</td>\n",
       "    </tr>\n",
       "    <tr>\n",
       "      <th>28</th>\n",
       "      <td>-0.012</td>\n",
       "      <td>0.014</td>\n",
       "      <td>-0.803</td>\n",
       "      <td>0.803</td>\n",
       "    </tr>\n",
       "    <tr>\n",
       "      <th>33</th>\n",
       "      <td>0.078</td>\n",
       "      <td>0.176</td>\n",
       "      <td>0.442</td>\n",
       "      <td>0.442</td>\n",
       "    </tr>\n",
       "    <tr>\n",
       "      <th>13</th>\n",
       "      <td>0.006</td>\n",
       "      <td>0.019</td>\n",
       "      <td>0.321</td>\n",
       "      <td>0.321</td>\n",
       "    </tr>\n",
       "    <tr>\n",
       "      <th>50</th>\n",
       "      <td>0.014</td>\n",
       "      <td>0.076</td>\n",
       "      <td>0.185</td>\n",
       "      <td>0.185</td>\n",
       "    </tr>\n",
       "    <tr>\n",
       "      <th>40</th>\n",
       "      <td>0.003</td>\n",
       "      <td>0.017</td>\n",
       "      <td>0.147</td>\n",
       "      <td>0.147</td>\n",
       "    </tr>\n",
       "    <tr>\n",
       "      <th>31</th>\n",
       "      <td>-0.013</td>\n",
       "      <td>0.181</td>\n",
       "      <td>-0.073</td>\n",
       "      <td>0.073</td>\n",
       "    </tr>\n",
       "    <tr>\n",
       "      <th>12</th>\n",
       "      <td>-0.001</td>\n",
       "      <td>0.021</td>\n",
       "      <td>-0.029</td>\n",
       "      <td>0.029</td>\n",
       "    </tr>\n",
       "  </tbody>\n",
       "</table>\n",
       "</div>"
      ],
      "text/plain": [
       "            coef  std_err  z_score  abs_z_score\n",
       "feature                                        \n",
       "6          0.206    0.015   13.663       13.663\n",
       "intercept  0.193    0.015   13.013       13.013\n",
       "15         0.093    0.008   10.957       10.957\n",
       "4          0.092    0.010    9.609        9.609\n",
       "51         0.093    0.010    9.219        9.219\n",
       "20         0.054    0.006    9.154        9.154\n",
       "52         0.276    0.030    9.103        9.103\n",
       "22         0.174    0.022    8.083        8.083\n",
       "56         0.000    0.000    6.978        6.978\n",
       "21         0.049    0.007    6.554        6.554\n",
       "44        -0.044    0.007   -6.338        6.338\n",
       "7          0.089    0.015    6.039        6.039\n",
       "26        -0.010    0.002   -5.379        5.379\n",
       "23         0.091    0.017    5.237        5.237\n",
       "19         0.074    0.015    5.114        5.114\n",
       "45        -0.035    0.007   -5.085        5.085\n",
       "48        -0.146    0.029   -5.077        5.077\n",
       "24        -0.023    0.005   -4.860        4.860\n",
       "5          0.112    0.024    4.690        4.690\n",
       "11        -0.032    0.007   -4.294        4.294\n",
       "17         0.046    0.013    3.662        3.662\n",
       "16         0.053    0.015    3.662        3.662\n",
       "41        -0.034    0.010   -3.581        3.581\n",
       "3          0.024    0.007    3.418        3.418\n",
       "18         0.013    0.004    3.355        3.355\n",
       "32        -0.035    0.011   -3.299        3.299\n",
       "0         -0.069    0.022   -3.184        3.184\n",
       "43        -0.027    0.010   -2.775        2.775\n",
       "8          0.067    0.025    2.696        2.696\n",
       "25        -0.026    0.010   -2.525        2.525\n",
       "1         -0.012    0.005   -2.476        2.476\n",
       "42        -0.069    0.030   -2.342        2.342\n",
       "34        -0.054    0.024   -2.293        2.293\n",
       "47        -0.044    0.019   -2.254        2.254\n",
       "2          0.029    0.013    2.195        2.195\n",
       "49        -0.059    0.027   -2.182        2.182\n",
       "37        -0.071    0.037   -1.942        1.942\n",
       "29        -0.039    0.020   -1.929        1.929\n",
       "9          0.018    0.011    1.656        1.656\n",
       "53         0.019    0.012    1.647        1.647\n",
       "10         0.053    0.034    1.557        1.557\n",
       "35         0.035    0.023    1.491        1.491\n",
       "38        -0.021    0.015   -1.391        1.391\n",
       "54         0.000    0.000    1.297        1.297\n",
       "46        -0.115    0.097   -1.189        1.189\n",
       "39         0.042    0.038    1.130        1.130\n",
       "36        -0.017    0.016   -1.051        1.051\n",
       "55         0.000    0.000    1.022        1.022\n",
       "30        -0.021    0.021   -1.002        1.002\n",
       "14         0.026    0.028    0.918        0.918\n",
       "27         0.016    0.018    0.890        0.890\n",
       "28        -0.012    0.014   -0.803        0.803\n",
       "33         0.078    0.176    0.442        0.442\n",
       "13         0.006    0.019    0.321        0.321\n",
       "50         0.014    0.076    0.185        0.185\n",
       "40         0.003    0.017    0.147        0.147\n",
       "31        -0.013    0.181   -0.073        0.073\n",
       "12        -0.001    0.021   -0.029        0.029"
      ]
     },
     "execution_count": 13,
     "metadata": {},
     "output_type": "execute_result"
    }
   ],
   "source": [
    "# Estimate the variance of the least squares estimate\n",
    "bias = np.ones(shape=(N_train, 1))\n",
    "X_train_bias = np.concatenate((bias, X_train), axis=1)\n",
    "coef_var_est = var_est * np.linalg.inv(X_train_bias.T @ X_train_bias)\n",
    "\n",
    "# Create data frame to contain data\n",
    "feat = list(range(57))\n",
    "ls_coefs = pd.DataFrame(index = ['intercept'] + feat,\n",
    "                        columns = ['coef', 'std_err', 'z_score', 'abs_z_score'],\n",
    "                        dtype = 'float')\n",
    "ls_coefs.index.name = 'feature'\n",
    "\n",
    "# Fill in coefficient values\n",
    "ls_coefs.loc[feat, 'coef'] = ls.coef_\n",
    "ls_coefs.loc['intercept', 'coef'] = ls.intercept_\n",
    "\n",
    "# Fill in standardnerrors\n",
    "ls_coefs.loc[:, 'std_err'] = np.sqrt(np.diagonal(coef_var_est))\n",
    "\n",
    "# Z-score is the coefficient over the estimated standard error\n",
    "ls_coefs.loc[:, 'z_score'] = ls_coefs.coef / ls_coefs.std_err\n",
    "ls_coefs.loc[:, 'abs_z_score'] = np.abs(ls_coefs.z_score)\n",
    "\n",
    "# Print a summary of coefficient data ordered by absolute Z-score\n",
    "ls_coefs.sort_values('abs_z_score', ascending = False).round(3)"
   ]
  },
  {
   "cell_type": "markdown",
   "metadata": {},
   "source": [
    "Roughly speaking, an absolute $Z$-score above 2 signifies that the coefficient is significantly non-zero at the 95% level. Around 36 out of 58 terms are significantly non-zero at this level.\n",
    "\n",
    "The absolute $Z$-scores give an indication of the relevance significance of different features, however this measure of importance can be misleading as it describes the effect of dropping a feature *while keeping the others in the model*. As an example, consider features 31 and 33. Both are near the bottom of the list of $Z$-scores. However, recall that these two are very highly correlated, so one while one would expect that dropping just one of them would have little effect on the model, dropping them both may have a large effect. "
   ]
  },
  {
   "cell_type": "markdown",
   "metadata": {},
   "source": [
    "#### F-Test"
   ]
  },
  {
   "cell_type": "markdown",
   "metadata": {},
   "source": [
    "Motivated by the final paragraph of the previous section we perform an $F$-test against the null hypothesis that a group of coefficients are zero. The features we choose are $[30, 31, 33, 35, 39]$. Note that none of these are significantly individually non-zero, but since they are highly correlated it is worthwhile test if they are significantly non-zero when taken together. Again an explanation of the test we use can be found in [HPS, $\\S$3.2.1]."
   ]
  },
  {
   "cell_type": "code",
   "execution_count": 14,
   "metadata": {},
   "outputs": [
    {
     "name": "stdout",
     "output_type": "stream",
     "text": [
      "F-statistic: 3.295\n",
      "95.0th percentile of F-distribution with (5, 2702) degrees of freedom: 2.217\n"
     ]
    }
   ],
   "source": [
    "# Take reduced set of features\n",
    "test_feat = [30, 31, 33, 35, 39]\n",
    "\n",
    "feat_red = feat.copy()\n",
    "for item in test_feat:\n",
    "    feat_red.remove(item)\n",
    "    \n",
    "# Fit least squares to reduced features\n",
    "ls_red = LinearRegression()\n",
    "ls_red.fit(X_train[:, feat_red], y_train)\n",
    "\n",
    "# Calculate RSS for reduced model\n",
    "y_train_pred_ls_red = ls_red.predict(X_train[:, feat_red])\n",
    "ls_red_train_rss = (y_train - y_train_pred_ls_red).T @ (y_train - y_train_pred_ls_red)\n",
    "\n",
    "# Calculate F-statistic\n",
    "F_stat = (ls_red_train_rss - ls_train_rss) / (num_feat - len(feat_red))\n",
    "F_stat /= var_est\n",
    "print('F-statistic: {:.3f}'.format(F_stat))\n",
    "\n",
    "# Percentiles of F-distribution\n",
    "alpha = 0.05\n",
    "df1 = num_feat - len(feat_red)\n",
    "df2 = N_train - num_feat - 1\n",
    "F_perc = stats.f(dfn=df1, dfd=df2).ppf(1-alpha)\n",
    "print('{perc:.1f}th percentile of F-distribution with ({df1}, {df2}) degrees of freedom: {F_perc:.3f}'.format(perc=100*(1-alpha), df1=df1, df2=df2, F_perc=F_perc))"
   ]
  },
  {
   "cell_type": "markdown",
   "metadata": {},
   "source": [
    "So we reject the hypothesis that all five of these coefficients are zero at the 95% signficane level, although we *didn't* reject the hypothesis than any one of them is zero individually."
   ]
  },
  {
   "cell_type": "markdown",
   "metadata": {},
   "source": [
    "## Subset Selection"
   ]
  },
  {
   "cell_type": "markdown",
   "metadata": {},
   "source": [
    "There are four methods for subset selection discussed in the text:\n",
    "- best-subset selection\n",
    "- forward-stepwise selection\n",
    "- backward-stepwise selection\n",
    "- forward-stagewise selection\n",
    "\n",
    "Unfortunately none of these appear to be implemented in Scikit-learn. \n",
    "\n",
    "The closest to best-subset selection in scikit-learn is `feature_selection.SelectKBest`. For each index $j$, this conducts an $F$-test for the null hypothesis that $\\beta_j=0$ under the assumption of a simple univariate model $Y=\\beta_0 + \\beta_j X_j$, and then chooses the $k$ indices with the highest $F$-scores. This is equivalent to choosing the indices with the highest coefficient of determination $R^2$. The issue with this is the same as described at the end of the previous section; it only considers the features individually. This can be problematic if some features are highly correlated as in our case.\n",
    "\n",
    "There is also a method `feature_selection.RFE` (RFE stands for Recursive Feature Elimination) that sounds similar to backward-stepwise selection, but it requires the estimator to contain information about the feature importance which `LinearRegression` doesn't.\n",
    "\n",
    "So we have to implement these methods ourselves. We will neglect best-subset and forward-stagewise - the first is only practical for up to 30-40 features and the second would take more time than I want to spend - and concrentrate on forward- and backward-stepwise sleection. With each method we will require:\n",
    "- the full list of features in the order they are added/removed;\n",
    "- the coefficients of the least squares fit at each step;\n",
    "- the residual sum-of-squares at each step.\n",
    "\n",
    "We will compare the outcome of the two methods on the spam data. In particular we wish to compare:\n",
    "- the order in which features were added/removed;\n",
    "- the speed of convergence to the training error of the full least-squares model;\n",
    "- the evolution of training and validation errors with subset size.\n",
    "\n",
    "We will then use validation to choose the complexity parameter - the subset size - for each method."
   ]
  },
  {
   "cell_type": "markdown",
   "metadata": {},
   "source": [
    "### Model Training"
   ]
  },
  {
   "cell_type": "markdown",
   "metadata": {},
   "source": [
    "The following custom module allows us to apply forward- and backward-stepwise selection, compare their sequences of features, and compute their errors when run on a test set."
   ]
  },
  {
   "cell_type": "code",
   "execution_count": 15,
   "metadata": {},
   "outputs": [],
   "source": [
    "# Import stepwise-selection module\n",
    "import stepsel"
   ]
  },
  {
   "cell_type": "markdown",
   "metadata": {},
   "source": [
    "We begin by performing forward and backward stepwise selection on our training data."
   ]
  },
  {
   "cell_type": "code",
   "execution_count": 16,
   "metadata": {},
   "outputs": [],
   "source": [
    "# Forward stepwise\n",
    "active_set, fss_coef, fss_RSS = stepsel.forward_stepwise_selection(X_train, y_train)\n",
    "\n",
    "# Backward stepwise\n",
    "inactive_set, bss_coef, bss_RSS = stepsel.backward_stepwise_selection(X_train, y_train)"
   ]
  },
  {
   "cell_type": "markdown",
   "metadata": {},
   "source": [
    "### Comparing the Order of Features"
   ]
  },
  {
   "cell_type": "markdown",
   "metadata": {},
   "source": [
    "From forward-stepwise selection we obtain a list `active_set` giving the order in which features were added to the model. From backward-stepwise selection we obtain a list `inactive_set` giving the order in which features were removed. Ideally we would hope that each of these lists were the reverse of the other, but this generally won't be the case. We would like a measure of how the orderings of these lists are different. The measure we will use is the number of *inversions*."
   ]
  },
  {
   "cell_type": "markdown",
   "metadata": {},
   "source": [
    "#### Inversions"
   ]
  },
  {
   "cell_type": "markdown",
   "metadata": {},
   "source": [
    "The number of inversions between two permutations $\\sigma_1$, $\\sigma_2$ of a set $S$ is the number of pairs $a,b\\in S$ such that $a$ comes before $b$ in $\\sigma_1$ but after it in $\\sigma_2$. For the moment (and without loss of generality) we will assume that $S = \\{1,\\ldots, n\\}$, $\\sigma_1$ has the elements of $S$ in order, and just speak of the number of inversions in $\\sigma = \\sigma_2$.\n",
    "\n",
    "Let $I_n(k)$ denote the number of permutations of length $n$ with $k$ inversions. Then $I_n(k)$ is the coefficient of $x^k$ in\n",
    "\n",
    "\\begin{equation}\n",
    "    \\prod_{m=1}^n \\sum_{i=0}^{m-1} x_i = (1+x)(1+x+x^2)\\cdots(1+x+\\cdots+x^{n-1}).\n",
    "\\end{equation}\n",
    "\n",
    "In particular, $I_n(0) = 1$, $I_n\\left(\\frac{n(n-1)}{2}\\right) = 1$, and $I_n(k)=0$ for $k > \\frac{n(n-1)}{2}$. Moreover, $I_n(k)$ is symmetic: $I_n(k) = I_n\\left(\\frac{n(n-1)}{2} - k\\right)$\n",
    "\n",
    "Let $\\xi_n$ be a random variable representing the number of inversions in a permutation in $S_n$ sampled with a uniform distribution. Then\n",
    "\n",
    "\\begin{equation}\n",
    "    \\text{E}(\\xi_n) = \\frac{n(n-1)}{4} \\qquad\\text{and}\\qquad \\text{Var}(\\xi_n) = \\frac{n(n-1)(2n+5)}{72}.\n",
    "\\end{equation}\n",
    "\n",
    "Moreover, the standardised variable $(\\xi_n - \\text{E}(\\xi_n)) \\big/ \\sqrt{\\text{Var}(\\xi_n)}$ has an asymptotically standard normal distribution.\n",
    "\n",
    "See the 2001 paper 'Permutations with inversions' by Margolis in the Journal of Integer Sequences for more details: \n",
    "\n",
    "https://cs.uwaterloo.ca/journals/JIS/VOL4/MARGOLIUS/inversions.html"
   ]
  },
  {
   "cell_type": "markdown",
   "metadata": {},
   "source": [
    "#### Comparison"
   ]
  },
  {
   "cell_type": "markdown",
   "metadata": {},
   "source": [
    "We use inversions to compare the two sequences `active_set` and the reverse of `inactive_set`."
   ]
  },
  {
   "cell_type": "code",
   "execution_count": 17,
   "metadata": {},
   "outputs": [
    {
     "name": "stdout",
     "output_type": "stream",
     "text": [
      "Expected number of inversions: 826.5\n",
      "Standard deviation: 74.5\n",
      "\n",
      "Actual number of inversions: 127\n",
      "Proportion of pairs that are inverted: 0.077\n"
     ]
    }
   ],
   "source": [
    "# Distribution of number of inversions\n",
    "n_elts = len(active_set)\n",
    "exp_inv = n_elts * (n_elts - 1) / 4\n",
    "stdev_inv = sqrt(n_elts * (n_elts - 1) * (2 * n_elts + 5) / 72)\n",
    "print('Expected number of inversions: {}'.format(exp_inv))\n",
    "print('Standard deviation: {:.1f}\\n'.format(stdev_inv))\n",
    "\n",
    "# Count number of inversions between sequences of features\n",
    "n_inv = stepsel.count_inversions(active_set, inactive_set[::-1])\n",
    "\n",
    "print('Actual number of inversions: {}'.format(n_inv))\n",
    "print('Proportion of pairs that are inverted: {:.3f}'.format(n_inv / (2 * exp_inv)))"
   ]
  },
  {
   "cell_type": "markdown",
   "metadata": {},
   "source": [
    "So the sequences are not identical. Around 8% of pairs of features are inverted. To put this in context we use the normal approximation to the number of inversions to get an approximate percentile."
   ]
  },
  {
   "cell_type": "code",
   "execution_count": 18,
   "metadata": {},
   "outputs": [
    {
     "name": "stdout",
     "output_type": "stream",
     "text": [
      "Percentile of number of inversions: 3.16161344665385e-19\n"
     ]
    }
   ],
   "source": [
    "# Find approximate percentile for number of inversions\n",
    "norm = stats.norm(loc=exp_inv, scale=stdev_inv)\n",
    "perc = norm.cdf(n_inv) * 100\n",
    "print('Percentile of number of inversions: {}'.format(perc))"
   ]
  },
  {
   "cell_type": "markdown",
   "metadata": {},
   "source": [
    "So although the two sequences are different, statistically speaking they are extraordinarily similar. More precisely, there is essentially a 0% chance that two orderings of the features taken at random would be this similar."
   ]
  },
  {
   "cell_type": "markdown",
   "metadata": {},
   "source": [
    "**TODO: Compare against the feature order suggested by $Z$-scores?**"
   ]
  },
  {
   "cell_type": "markdown",
   "metadata": {},
   "source": [
    "### Evaluating Performance"
   ]
  },
  {
   "cell_type": "markdown",
   "metadata": {},
   "source": [
    "We evaluate performance through training and validation error. We use mean-squared error as our error metric."
   ]
  },
  {
   "cell_type": "code",
   "execution_count": 19,
   "metadata": {},
   "outputs": [],
   "source": [
    "# Training errors\n",
    "fss_train_err = fss_RSS / N_train\n",
    "bss_train_err = bss_RSS / N_train\n",
    "\n",
    "# Validation errors\n",
    "fss_val_err = stepsel.test_error(fss_coef, X_val, y_val)\n",
    "bss_val_err = stepsel.test_error(bss_coef, X_val, y_val)"
   ]
  },
  {
   "cell_type": "markdown",
   "metadata": {},
   "source": [
    "The evaluation of training error allows us to compare how quickly the two models converge to the optimal solution"
   ]
  },
  {
   "cell_type": "code",
   "execution_count": 20,
   "metadata": {
    "scrolled": false
   },
   "outputs": [
    {
     "data": {
      "image/png": "[encoded data removed]",
      "text/plain": [
       "<Figure size 1080x576 with 1 Axes>"
      ]
     },
     "metadata": {
      "needs_background": "light"
     },
     "output_type": "display_data"
    }
   ],
   "source": [
    "# Plot training error against subset size for both models\n",
    "fig, ax = plt.subplots(figsize = (15, 8))\n",
    "\n",
    "# Figure parameters\n",
    "ax.set_title('Comparison of Stepwise Selection Training Errors', fontsize = 15)\n",
    "ax.set_ylabel('Training Error', fontsize = 13)\n",
    "ax.set_xlabel('Subset Size', fontsize = 13)\n",
    "\n",
    "# Plot data\n",
    "ax.plot(fss_train_err, marker = 'x', label = 'forward_stepwise')\n",
    "ax.plot(bss_train_err, marker = 'x', label = 'backward_stepwise')\n",
    "\n",
    "ax.legend(fontsize = 'x-large');"
   ]
  },
  {
   "cell_type": "markdown",
   "metadata": {},
   "source": [
    "Observe that forward-stepwise selection converges to the error of the least-squares solution much more quickly than backward-stepwise. Moreover, the convergence of forward-stepwise is much smoother."
   ]
  },
  {
   "cell_type": "markdown",
   "metadata": {},
   "source": [
    "We want also wish to compare training and validation errors for the two models as subset size varies. This allows us to diagnose the bias-variance trade-off, estimate how our models will generalise to independent data, and choose the optimal subset size."
   ]
  },
  {
   "cell_type": "code",
   "execution_count": 21,
   "metadata": {
    "scrolled": false
   },
   "outputs": [
    {
     "data": {
      "image/png": "[encoded data removed]",
      "text/plain": [
       "<Figure size 1080x864 with 2 Axes>"
      ]
     },
     "metadata": {
      "needs_background": "light"
     },
     "output_type": "display_data"
    }
   ],
   "source": [
    "# Create two set of axes - one for each method\n",
    "fig, [ax1, ax2] = plt.subplots(nrows = 2, figsize = (15, 12))\n",
    "\n",
    "# Parameters for forward-stepwise axes\n",
    "ax1.set_title('Forward Stepwise-Selection Error', fontsize = 15)\n",
    "ax1.set_ylabel('MSE', fontsize = 13)\n",
    "ax1.set_xlabel('Subset Size ($k$)', fontsize = 13)\n",
    "\n",
    "# Plot forward-stepwise data\n",
    "ax1.plot(fss_train_err, marker = 'x', label = 'training_error')\n",
    "ax1.plot(fss_val_err, marker = 'x', label  = 'validation error')\n",
    "\n",
    "ax1.legend(fontsize = 'x-large')\n",
    "\n",
    "# Parameters for back-stepwise axes\n",
    "ax2.set_title('Backward-Stepwise Selection Error', fontsize = 15)\n",
    "ax2.set_ylabel('MSE', fontsize = 13)\n",
    "ax2.set_xlabel('Subset Size ($k$)', fontsize = 13)\n",
    "\n",
    "# Plot backward-stepwise data\n",
    "ax2.plot(bss_train_err, marker = 'x', label = 'training_error')\n",
    "ax2.plot(bss_val_err, marker = 'x', label  = 'validation error')\n",
    "\n",
    "ax2.legend(fontsize = 'x-large');"
   ]
  },
  {
   "cell_type": "markdown",
   "metadata": {},
   "source": [
    "As with the training error, the validation error for forward-stepwise selection converges much more quickly than backward and more smoothly. Both plateau around 0.117, compared with a training error of 0.101. The lowest validation error occurs for forward-stepwise at subset size $k=52$ and for backward-stepwise at $k=58$. However, the difference between the validation error for forward-stepwise at $k=52$ and $k=58$ is negligible and easily explained by random error.\n",
    "\n",
    "This suggests that our models do not suffer from having too many parameters. If they did, we would expect the validation error to creep up as the subset size increased. Rather, the fact that both validation and training error plateau suggests that our models lack complexity and performance could be improved by either adding new features or changing the base model. This is unsurprising given that we are employing linear regression models with untransformed features, particularly given that this is really a classification task.\n",
    "\n",
    "However, for the sake of the exercise we will select the forward-stepwise model with subset size $k=52$ moving forward."
   ]
  },
  {
   "cell_type": "code",
   "execution_count": 22,
   "metadata": {},
   "outputs": [
    {
     "name": "stdout",
     "output_type": "stream",
     "text": [
      "Foward-stepwise regression training error: 0.1011\n",
      "Foward-stepwise regression validation error: 0.1169\n"
     ]
    }
   ],
   "source": [
    "# Restrict active set to the first 52 variables\n",
    "# Need to reindex for data set without bias column\n",
    "fss_active_set = [feat - 1 for feat in active_set[:52] if feat > 0]\n",
    "\n",
    "# Create linear regresssion object\n",
    "fss = LinearRegression()\n",
    "\n",
    "# Train using the restricted features\n",
    "fss.fit(X_train[:, fss_active_set], y_train)\n",
    "\n",
    "# Calculate training error\n",
    "y_train_pred_fss = fss.predict(X_train[:, fss_active_set])\n",
    "y_train_pred_err = (y_train - y_train_pred_fss).T @ (y_train - y_train_pred_fss) / N_train\n",
    "print('Foward-stepwise regression training error: {:.4f}'.format(y_train_pred_err))\n",
    "\n",
    "# Calculate validation error\n",
    "y_val_pred_fss = fss.predict(X_val[:, fss_active_set])\n",
    "y_val_pred_err = (y_val - y_val_pred_fss).T @ (y_val - y_val_pred_fss) / N_val\n",
    "print('Foward-stepwise regression validation error: {:.4f}'.format(y_val_pred_err))"
   ]
  },
  {
   "cell_type": "markdown",
   "metadata": {},
   "source": [
    "## Ridge Regression"
   ]
  },
  {
   "cell_type": "markdown",
   "metadata": {},
   "source": [
    "**TODO:** Plot coefficient path first"
   ]
  },
  {
   "cell_type": "markdown",
   "metadata": {},
   "source": [
    "We perform ridge regression on the data. The principle is to artificially shrink the coefficients in the linear model to decrease variance and hence the generalisation error.\n",
    "\n",
    "Ridge regression depends on a complexity parameter $\\alpha$ which controls the shrinkage. We perform a grid search over a range of values of this parameter, computing the mean-squared error against the training and validation sets for each. We will use this to find an optimal value for $\\alpha$.\n",
    "\n",
    "Because ridge regression is not invariant under scaling of inputs we create a pipeline in which we first standardise the input data to have mean zero and unit variance."
   ]
  },
  {
   "cell_type": "code",
   "execution_count": 250,
   "metadata": {},
   "outputs": [
    {
     "name": "stdout",
     "output_type": "stream",
     "text": [
      "Ridge minimum validation error: 0.1140 at alpha = 802\n"
     ]
    }
   ],
   "source": [
    "# Parameter grid for grid search\n",
    "#ridge_params = np.linspace(0, 4000, 100)\n",
    "ridge_params = np.linspace(0, 200000, 500)\n",
    "param_grid = {'ridge__alpha' : ridge_params}\n",
    "\n",
    "# Instantiate model\n",
    "ridge_pipe = make_pipeline(StandardScaler(), \n",
    "                           Ridge(fit_intercept=True, normalize=False, tol = 1e-4))\n",
    "\n",
    "# Create grid search\n",
    "scoring = 'neg_mean_squared_error'\n",
    "ridge = GridSearchCV(ridge_pipe, \n",
    "                     param_grid, \n",
    "                     scoring=scoring,\n",
    "                     cv = ps,\n",
    "                     return_train_score=True)\n",
    "\n",
    "# Fit to data\n",
    "ridge.fit(X_trainval, y_trainval)\n",
    "\n",
    "# Get training and valuation error (negative scores because our scoring function was negative mse)\n",
    "ridge_train_err = -ridge.cv_results_['split0_train_score']\n",
    "ridge_val_err = -ridge.cv_results_['split0_test_score']\n",
    "\n",
    "# Optimal values\n",
    "ridge_param_best = ridge.best_params_['ridge__alpha']\n",
    "ridge_val_err_best = -ridge.best_score_\n",
    "print('Ridge minimum validation error: {err:.4f} at alpha = {param:.0f}'.format(err=ridge_val_err_best, param=ridge_param_best))"
   ]
  },
  {
   "cell_type": "markdown",
   "metadata": {},
   "source": [
    "We want to plot how training and valuation error change with model complexity. However, the parameter $\\alpha$ doesn't provide a meaningful scale. Instead we will plot the errors against *effective degrees of freedom* $\\text{df}(\\alpha)$ as defined in [HTF, $\\S$3.4.2]. \n",
    "\n",
    "Roughly, we should think that $\\text{df}(\\alpha) = k$ corresponds to a least-squares fit with $k$ features. However, this doesn't allow a direct comparison with stepwise subset selection since we considered all features when choosing which subset of size $k$ to select, meaning that the model with subset size $k$ has effective degrees of freedom greater than $k$. So the subset selection graphs should be stretched for toward small values of $k$ and compressed for higher values."
   ]
  },
  {
   "cell_type": "code",
   "execution_count": 251,
   "metadata": {},
   "outputs": [],
   "source": [
    "def df_ridge(alpha, sing_val):\n",
    "    '''\n",
    "    Computes effective degrees of freedom for a ridge model\n",
    "    \n",
    "    Parameters:\n",
    "    ----------\n",
    "    alpha: int, float, list, or array of shape (k, )\n",
    "           Complexity parameter(s)\n",
    "           \n",
    "    sing_val: numpy array of shape (p, )\n",
    "              Singular values of standardised input data matrix\n",
    "    \n",
    "    Returns:\n",
    "    -------\n",
    "    df: float or array of shape (k, )\n",
    "        Effective degrees of freedom for each alpha\n",
    "    '''\n",
    "    if type(alpha) is not np.ndarray:\n",
    "        alpha = np.array(alpha)\n",
    "        \n",
    "    cross_sums = sum(np.meshgrid(alpha, sing_val ** 2))\n",
    "    df = (sing_val ** 2) @ (1 / cross_sums)\n",
    "    \n",
    "    return df"
   ]
  },
  {
   "cell_type": "markdown",
   "metadata": {},
   "source": [
    "We use this function to calculate the degrees of freedom for the complexity parameters in our grid search."
   ]
  },
  {
   "cell_type": "code",
   "execution_count": 252,
   "metadata": {},
   "outputs": [],
   "source": [
    "# Standardise data\n",
    "scaler = StandardScaler()\n",
    "scaler.fit(X_train)\n",
    "\n",
    "# Compute singular values of standardised data\n",
    "sing_val = np.linalg.svd(scaler.transform(X_train), compute_uv=False)\n",
    "\n",
    "# Compute degrees of freedom for parameters used in ridge model\n",
    "ridge_params_df = df_ridge(ridge_params, sing_val)\n",
    "ridge_param_best_df = df_ridge(ridge_param_best, sing_val)"
   ]
  },
  {
   "cell_type": "markdown",
   "metadata": {},
   "source": [
    "Now we plot the training and validation error against effective degrees of freedom."
   ]
  },
  {
   "cell_type": "code",
   "execution_count": 253,
   "metadata": {},
   "outputs": [
    {
     "data": {
      "image/png": "[encoded data removed]",
      "text/plain": [
       "<Figure size 1080x576 with 1 Axes>"
      ]
     },
     "metadata": {
      "needs_background": "light"
     },
     "output_type": "display_data"
    }
   ],
   "source": [
    "# Initialise plot\n",
    "fig, ax = plt.subplots(figsize=(15, 8))\n",
    "\n",
    "# Fig parameters\n",
    "ax.set_title('Ridge Error Against Effective Degrees of Freedom', fontsize=15)\n",
    "ax.set_xlabel('Effective Degrees of Freedom', fontsize=13)\n",
    "ax.set_ylabel('MSE', fontsize=13)\n",
    "\n",
    "# Plot errors\n",
    "ax.plot(ridge_params_df, ridge_train_err, marker='x', label='training error')\n",
    "ax.plot(ridge_params_df, ridge_val_err, marker='x', label='validation error')\n",
    "\n",
    "# Plot optimal value\n",
    "ax.axvline(ridge_param_best_df, linestyle='--', color='k')\n",
    "\n",
    "ax.legend(fontsize='x-large');"
   ]
  },
  {
   "cell_type": "markdown",
   "metadata": {},
   "source": [
    "**NOTE: The scale of this graph makes increase seem marked. It isn't if you zoom further out.**"
   ]
  },
  {
   "cell_type": "markdown",
   "metadata": {},
   "source": [
    "The graph shows how training and validation error change with the degrees of freedom. The least-squares fit corresponds to the right-most points and the vertical line gives the value of $\\text{df}$ taht minimises validation error.\n",
    "\n",
    "The shape of the graph demonstrates that the full least squares fit has too high variance. While the training error continues to decrease with $\\text{df}$, the validation error starts to increase which suggests that we are over-fitting the data. By using a ridge model with $\\alpha=929$ we hope to decrease error on the test set.\n",
    "\n",
    "Before moving on we plot the evolution of coefficients against degrees of freedom to demonstrate how ridge applies shrinkage. First we calculate the coefficients for different values of $\\alpha$ (unfortunately GridSearchCV doesn't allow us to store these)."
   ]
  },
  {
   "cell_type": "code",
   "execution_count": 113,
   "metadata": {},
   "outputs": [],
   "source": [
    "# Choose alpha values to plot\n",
    "coef_plot_params = np.linspace(0, 200000, 300)\n",
    "\n",
    "# Initialise array for coefficients\n",
    "coef = np.empty(shape=(num_feat, 0))\n",
    "\n",
    "# Store coefficients in columns of coef for each value of alpha\n",
    "for alpha in coef_plot_params:\n",
    "    pipe = make_pipeline(StandardScaler(), Ridge(alpha=alpha, tol=1e-4))\n",
    "    pipe.fit(X_train, y_train)\n",
    "    coef = np.concatenate([coef, pipe['ridge'].coef_[:, None]], axis = 1)\n",
    "    \n",
    "# Calculate degrees of freedom for alpha values\n",
    "coef_plot_params_df = df_ridge(coef_plot_params, sing_val)\n",
    "\n",
    "# Add df = 0 <-> alpha = inf\n",
    "coef_plot_params_df = np.append(coef_plot_params_df, 0)\n",
    "coef = np.concatenate([coef, np.zeros(shape=(num_feat, 1))], axis = 1)"
   ]
  },
  {
   "cell_type": "markdown",
   "metadata": {},
   "source": [
    "Now we plot the coefficient paths for 10 randomly selected features."
   ]
  },
  {
   "cell_type": "code",
   "execution_count": 115,
   "metadata": {},
   "outputs": [
    {
     "data": {
      "image/png": "[encoded data removed]",
      "text/plain": [
       "<Figure size 1080x576 with 1 Axes>"
      ]
     },
     "metadata": {
      "needs_background": "light"
     },
     "output_type": "display_data"
    }
   ],
   "source": [
    "# Choose 10 features at random to plot\n",
    "coef_plot_feat = np.random.choice(range(num_feat), size=10, replace=False)\n",
    "\n",
    "# Initialise plot\n",
    "fig, ax = plt.subplots(figsize=(15, 8))\n",
    "\n",
    "# Fig parameters\n",
    "ax.set_title('Ridge Coefficient Paths', fontsize=15)\n",
    "ax.set_xlabel('Effective Degrees of Freedom', fontsize=13)\n",
    "ax.set_ylabel('Coefficient', fontsize=13)\n",
    "\n",
    "# Plot coefficient paths\n",
    "for feat in coef_plot_feat:\n",
    "    ax.plot(coef_plot_params_df, coef[feat, :], label='feature_{}'.format(str(feat)))\n",
    "\n",
    "# Plot optimal value\n",
    "ax.axvline(ridge_param_best_df, linestyle='--', color='k')\n",
    "\n",
    "# Plot y = 0\n",
    "ax.axhline(0, linestyle='--', color='k', alpha=0.5)\n",
    "\n",
    "ax.legend(fontsize='large', loc=2);"
   ]
  },
  {
   "cell_type": "markdown",
   "metadata": {},
   "source": [
    "Again, the right-most values are the least-squares fit and the vertical line is the optimal value chosen by validation. Note that the coefficients vary smoothly towards their final value."
   ]
  },
  {
   "cell_type": "markdown",
   "metadata": {},
   "source": [
    "## Lasso and LAR"
   ]
  },
  {
   "cell_type": "markdown",
   "metadata": {},
   "source": [
    "In this section we perform lasso and least angle regression (LAR) on the data. Since these methods are very similar we  will only take a single method through to the test stage."
   ]
  },
  {
   "cell_type": "markdown",
   "metadata": {},
   "source": [
    "### Lasso"
   ]
  },
  {
   "cell_type": "markdown",
   "metadata": {},
   "source": [
    "Lasso is similar to ridge regression in that it shrinks coefficients to reduce variance and this shrinkage is controlled by a complexity parameter $\\alpha$. However, while ridge regression results in smooth coefficient paths, lasso coefficient paths are piecewise linear and undergo soft-thresholding. This has the advantage that the final lasso model will depend on only a subset of the features.\n",
    "\n",
    "We begin by calculating the full coefficient path under lasso using the modified LAR algorithm. We will use $L^1$ arc length for our horizontal scale in plots, scaled so that the least-squares fit is at 1.0."
   ]
  },
  {
   "cell_type": "code",
   "execution_count": 256,
   "metadata": {},
   "outputs": [],
   "source": [
    "# Calculate lasso path\n",
    "lasso_path = lars_path(X_train, y_train, method='lasso')\n",
    "lasso_path_params = lasso_path[0]\n",
    "lasso_path_coef = lasso_path[2]\n",
    "\n",
    "# Scaled arc lengths along path\n",
    "lasso_arc_length = np.sum(np.abs(lasso_path_coef), axis=0)\n",
    "lasso_scaled_arc_length = lasso_arc_length / lasso_arc_length[-1]"
   ]
  },
  {
   "cell_type": "markdown",
   "metadata": {},
   "source": [
    "We plot the coefficient paths for 10 features selected at random."
   ]
  },
  {
   "cell_type": "code",
   "execution_count": 255,
   "metadata": {},
   "outputs": [
    {
     "data": {
      "image/png": "[encoded data removed]",
      "text/plain": [
       "<Figure size 1080x576 with 1 Axes>"
      ]
     },
     "metadata": {
      "needs_background": "light"
     },
     "output_type": "display_data"
    }
   ],
   "source": [
    "# Choose 10 features at random to plot\n",
    "coef_plot_feat = np.random.choice(range(num_feat), size=10, replace=False)\n",
    "\n",
    "# Initialise plot\n",
    "fig, ax = plt.subplots(figsize=(15, 8))\n",
    "\n",
    "# Fig parameters\n",
    "ax.set_title('Lasso Coefficient Paths', fontsize=15)\n",
    "ax.set_xlabel('Scaled Arc Length', fontsize=13)\n",
    "ax.set_ylabel('Coefficient', fontsize=13)\n",
    "\n",
    "# Plot coefficient paths\n",
    "for feat in coef_plot_feat:\n",
    "    ax.plot(lasso_scaled_arc_length, lasso_path_coef[feat, :], label='feature_{}'.format(str(feat)))\n",
    "\n",
    "# Plot y = 0\n",
    "ax.axhline(0, linestyle='--', color='k', alpha=0.5)\n",
    "\n",
    "ax.legend(fontsize='large', loc=2);"
   ]
  },
  {
   "cell_type": "markdown",
   "metadata": {},
   "source": [
    "As described above, note that the coefficient paths are piecewise linear and are zero for a portion of the path - soft-thresholding.\n",
    "\n",
    "Now we use validation to find the complexity parameter $\\alpha$ that minimises validation error. We use the $\\alpha$ values from the coefficient path as the values to test."
   ]
  },
  {
   "cell_type": "code",
   "execution_count": 263,
   "metadata": {},
   "outputs": [
    {
     "name": "stdout",
     "output_type": "stream",
     "text": [
      "Lasso minimum validation error: 0.1162\n",
      "Corresponding alpha value: 0.00451\n",
      "Approximate degrees of freedom: 34\n"
     ]
    }
   ],
   "source": [
    "# Parameter grid for grid search\n",
    "param_grid = {'lassolars__alpha' : lasso_path_params}\n",
    "\n",
    "# Instantiate model\n",
    "lasso_pipe = make_pipeline(StandardScaler(), \n",
    "                           LassoLars(fit_intercept=True, normalize=False, fit_path=True))\n",
    "\n",
    "# Create grid search\n",
    "scoring = 'neg_mean_squared_error'\n",
    "lasso = GridSearchCV(lasso_pipe, \n",
    "                     param_grid, \n",
    "                     scoring=scoring,\n",
    "                     cv = ps,\n",
    "                     return_train_score=True)\n",
    "\n",
    "# Fit to data\n",
    "lasso.fit(X_trainval, y_trainval)\n",
    "\n",
    "# Get training and valuation error (negative scores because our scoring function was negative mse)\n",
    "lasso_train_err = -lasso.cv_results_['split0_train_score']\n",
    "lasso_val_err = -lasso.cv_results_['split0_test_score']\n",
    "\n",
    "# Optimal values\n",
    "lasso_param_best = lasso.best_params_['lassolars__alpha']\n",
    "lasso_idx_best = lasso.best_index_\n",
    "lasso_val_err_best = -lasso.best_score_\n",
    "print('Lasso minimum validation error: {:.4f}'.format(lasso_val_err_best, param=lasso_param_best))\n",
    "print('Corresponding alpha value: {:.5f}'.format(lasso_param_best))\n",
    "\n",
    "# Calculate number of non-zero coefficients at each alpha value\n",
    "lasso_df = np.count_nonzero(lasso_path_coef, axis=0)\n",
    "lasso_df_best = lasso_df[lasso_idx_best]\n",
    "print('Approximate effective degrees of freedom: {}'.format(lasso_df_best))"
   ]
  },
  {
   "cell_type": "markdown",
   "metadata": {},
   "source": [
    "For lasso, the effective degrees of freedom is approximately equal to the number of non-zero coefficients, so the optimal lasso model only depends on 34 features rather than the full 57.\n",
    "\n",
    "Now we plot training and validation errors against scaled $L^1$ arc length."
   ]
  },
  {
   "cell_type": "code",
   "execution_count": 265,
   "metadata": {},
   "outputs": [
    {
     "data": {
      "image/png": "[encoded data removed]",
      "text/plain": [
       "<Figure size 1080x576 with 1 Axes>"
      ]
     },
     "metadata": {
      "needs_background": "light"
     },
     "output_type": "display_data"
    }
   ],
   "source": [
    "# Initialise plot\n",
    "fig, ax = plt.subplots(figsize=(15, 8))\n",
    "\n",
    "# Fig parameters\n",
    "ax.set_title('Lasso Error Against Scaled Arc Length', fontsize=15)\n",
    "ax.set_xlabel('Scaled Arc Length', fontsize=13)\n",
    "ax.set_ylabel('MSE', fontsize=13)\n",
    "\n",
    "# Plot errors\n",
    "ax.plot(scaled_lasso_path_length, lasso_train_err, marker='x', label='training error')\n",
    "ax.plot(scaled_lasso_path_length, lasso_val_err, marker='x', label='validation error')\n",
    "\n",
    "# Plot optimal value\n",
    "ax.axvline(scaled_lasso_path_length[lasso_idx_best], linestyle='--', color='k')\n",
    "\n",
    "ax.legend(fontsize='x-large');"
   ]
  },
  {
   "cell_type": "markdown",
   "metadata": {},
   "source": [
    "As usual, complexity increases as we move right so the far right point corresponds to the least-squares solution and the vertical line corresponds to the value that minimises validation error.\n",
    "\n",
    "Note that as with forward-stepwise selection the training and validation errors have more-or-less stabilised by the time 32 features are included in the model and adding more makes little difference."
   ]
  },
  {
   "cell_type": "markdown",
   "metadata": {},
   "source": [
    "### LAR"
   ]
  },
  {
   "cell_type": "markdown",
   "metadata": {},
   "source": [
    "As mentioned, least angle regression is very similar to lasso and so we don't consider it worthwhile to take a separate LAR model to testing. We will however compute the LAR coefficient path in order to illustrate how it can differ from the lasso path."
   ]
  },
  {
   "cell_type": "code",
   "execution_count": 267,
   "metadata": {},
   "outputs": [],
   "source": [
    "# Calculate lar path\n",
    "lar_path = lars_path(X_train, y_train, method='lar')\n",
    "lar_path_params = lar_path[0]\n",
    "lar_path_coef = lar_path[2]\n",
    "\n",
    "# Scaled arc lengths along path\n",
    "lar_arc_length = np.sum(np.abs(lar_path_coef), axis=0)\n",
    "lar_scaled_arc_length = lar_arc_length / lar_arc_length[-1]"
   ]
  },
  {
   "cell_type": "markdown",
   "metadata": {},
   "source": [
    "**TODO: Feature 55 is the only one that goes zero and then back. Plot to see what's happening.**"
   ]
  },
  {
   "cell_type": "code",
   "execution_count": 271,
   "metadata": {},
   "outputs": [
    {
     "data": {
      "text/plain": [
       "array([ 0,  1,  2,  3,  4,  5,  6,  7,  8,  9, 10, 11, 12, 13, 14, 15, 16,\n",
       "       17, 18, 19, 20, 21, 22, 23, 24, 25, 26, 27])"
      ]
     },
     "execution_count": 271,
     "metadata": {},
     "output_type": "execute_result"
    }
   ],
   "source": [
    "lasso_df[:28]"
   ]
  },
  {
   "cell_type": "code",
   "execution_count": 317,
   "metadata": {},
   "outputs": [
    {
     "data": {
      "text/plain": [
       "array([1, 1, 0, 0, 0, 0, 0, 0, 0, 0, 0, 0, 0, 0, 0, 0, 0, 0, 0, 0, 0, 0,\n",
       "       0, 0, 0, 0, 0, 0, 0, 1, 1, 0, 0, 0, 0, 0, 0, 0, 0, 0, 0, 0, 0, 0,\n",
       "       0, 0, 0, 0, 0, 0, 0, 0, 0, 0, 0, 0, 0, 0, 0, 0])"
      ]
     },
     "execution_count": 317,
     "metadata": {},
     "output_type": "execute_result"
    }
   ],
   "source": [
    "(lasso_path_coef == 0).astype(int)[55, :]"
   ]
  },
  {
   "cell_type": "code",
   "execution_count": 318,
   "metadata": {},
   "outputs": [
    {
     "data": {
      "text/plain": [
       "array([ 0, -1,  0,  0,  0,  0,  0,  0,  0,  0,  0,  0,  0,  0,  0,  0,  0,\n",
       "        0,  0,  0,  0,  0,  0,  0,  0,  0,  0,  0,  1,  0, -1,  0,  0,  0,\n",
       "        0,  0,  0,  0,  0,  0,  0,  0,  0,  0,  0,  0,  0,  0,  0,  0,  0,\n",
       "        0,  0,  0,  0,  0,  0,  0,  0])"
      ]
     },
     "execution_count": 318,
     "metadata": {},
     "output_type": "execute_result"
    }
   ],
   "source": [
    "lasso_lar_diff[55, :]"
   ]
  },
  {
   "cell_type": "code",
   "execution_count": 316,
   "metadata": {},
   "outputs": [
    {
     "data": {
      "text/plain": [
       "55"
      ]
     },
     "execution_count": 316,
     "metadata": {},
     "output_type": "execute_result"
    }
   ],
   "source": [
    "lasso_lar_diff = np.diff((lasso_path_coef == 0).astype(int), axis=1)\n",
    "np.argmax(lasso_lar_diff[:, 28])"
   ]
  },
  {
   "cell_type": "markdown",
   "metadata": {},
   "source": [
    "## LARS"
   ]
  },
  {
   "cell_type": "markdown",
   "metadata": {},
   "source": [
    "**TODO:** \n",
    "- At the $k$th step in the path, the effective degrees freedom is exactly $k$. Does this mean it would be better to do validation with LARS, not lasso?\n",
    "- Compare LARS and lasso at step 18?"
   ]
  },
  {
   "cell_type": "markdown",
   "metadata": {},
   "source": [
    "We perform Least Angle Regression (LAS) on the data. We expect the outcome to be very similar to lasso.\n",
    "\n",
    "We begin by computing the full LAR path."
   ]
  },
  {
   "cell_type": "code",
   "execution_count": 237,
   "metadata": {},
   "outputs": [],
   "source": [
    "# Calculate lars path\n",
    "lar_path = lars_path(X_train, y_train, method='lar')\n",
    "lar_path_params = lar_path[0]\n",
    "lar_path_coef = lar_path[2]\n",
    "\n",
    "# Scaled arc lengths along path\n",
    "lar_arc_length = np.sum(np.abs(lar_path_coef), axis=0)\n",
    "lar_scaled_arc_length = lar_arc_length / lar_arc_length[-1]"
   ]
  },
  {
   "cell_type": "markdown",
   "metadata": {},
   "source": [
    "We plot the coefficient paths for 10 features selected at random."
   ]
  },
  {
   "cell_type": "code",
   "execution_count": 238,
   "metadata": {},
   "outputs": [
    {
     "data": {
      "image/png": "[encoded data removed]",
      "text/plain": [
       "<Figure size 1080x576 with 1 Axes>"
      ]
     },
     "metadata": {
      "needs_background": "light"
     },
     "output_type": "display_data"
    }
   ],
   "source": [
    "# Choose 10 features at random to plot\n",
    "coef_plot_feat = np.random.choice(range(num_feat), size=10, replace=False)\n",
    "\n",
    "# Initialise plot\n",
    "fig, ax = plt.subplots(figsize=(15, 8))\n",
    "\n",
    "# Fig parameters\n",
    "ax.set_title('LAR Coefficient Paths', fontsize=15)\n",
    "ax.set_xlabel('Scaled Arc Length', fontsize=13)\n",
    "ax.set_ylabel('Coefficient', fontsize=13)\n",
    "\n",
    "# Plot coefficient paths\n",
    "for feat in coef_plot_feat:\n",
    "    ax.plot(lar_scaled_arc_length, lar_path_coef[feat, :], label='feature_{}'.format(str(feat)))\n",
    "\n",
    "# Plot y = 0\n",
    "ax.axhline(0, linestyle='--', color='k', alpha=0.5)\n",
    "\n",
    "ax.legend(fontsize='large', loc=2);"
   ]
  },
  {
   "cell_type": "markdown",
   "metadata": {},
   "source": [
    "Now use validation to choose optimal parameter"
   ]
  },
  {
   "cell_type": "code",
   "execution_count": 246,
   "metadata": {},
   "outputs": [
    {
     "name": "stdout",
     "output_type": "stream",
     "text": [
      "LAR minimum validation error: 0.1162 with 48 non-zero coefficients\n"
     ]
    }
   ],
   "source": [
    "# Parameter grid for grid search\n",
    "lar_params = range(57)\n",
    "param_grid = {'lars__n_nonzero_coefs' : lar_params}\n",
    "\n",
    "# Instantiate model\n",
    "lar_pipe = make_pipeline(StandardScaler(), \n",
    "                         Lars(fit_intercept=True, normalize=False, fit_path=True))\n",
    "\n",
    "# Create grid search\n",
    "scoring = 'neg_mean_squared_error'\n",
    "lar = GridSearchCV(lar_pipe, \n",
    "                   param_grid, \n",
    "                   scoring=scoring,\n",
    "                   cv = ps,\n",
    "                   return_train_score=True)\n",
    "\n",
    "# Fit to data\n",
    "lar.fit(X_trainval, y_trainval)\n",
    "\n",
    "# Get training and valuation error (negative scores because our scoring function was negative mse)\n",
    "lar_train_err = -lar.cv_results_['split0_train_score']\n",
    "lar_val_err = -lar.cv_results_['split0_test_score']\n",
    "\n",
    "# Optimal values\n",
    "lar_param_best = lar.best_params_['lars__n_nonzero_coefs']\n",
    "lar_val_err_best = -lar.best_score_\n",
    "print('LAR minimum validation error: {err:.4f} with {param} non-zero coefficients'.format(err=lar_val_err_best, param=lar_param_best))"
   ]
  },
  {
   "cell_type": "code",
   "execution_count": null,
   "metadata": {},
   "outputs": [],
   "source": []
  },
  {
   "cell_type": "markdown",
   "metadata": {},
   "source": [
    "Plot errors against effective degrees of freedom"
   ]
  },
  {
   "cell_type": "code",
   "execution_count": 249,
   "metadata": {},
   "outputs": [
    {
     "data": {
      "image/png": "[encoded data removed]",
      "text/plain": [
       "<Figure size 1080x576 with 1 Axes>"
      ]
     },
     "metadata": {
      "needs_background": "light"
     },
     "output_type": "display_data"
    }
   ],
   "source": [
    "# Initialise plot\n",
    "fig, ax = plt.subplots(figsize=(15, 8))\n",
    "\n",
    "# Fig parameters\n",
    "ax.set_title('LAR Error Against Degrees of Freedom', fontsize=15)\n",
    "ax.set_xlabel('Effective Degrees of Freedom', fontsize=13)\n",
    "ax.set_ylabel('MSE', fontsize=13)\n",
    "\n",
    "# Plot errors\n",
    "ax.plot(lar_train_err, marker='x', label='training error')\n",
    "ax.plot(lar_val_err, marker='x', label='validation error')\n",
    "\n",
    "# Plot optimal value\n",
    "ax.axvline(lar_param_best, linestyle='--', color='k')\n",
    "\n",
    "ax.legend(fontsize='x-large');"
   ]
  },
  {
   "cell_type": "code",
   "execution_count": null,
   "metadata": {},
   "outputs": [],
   "source": []
  }
 ],
 "metadata": {
  "kernelspec": {
   "display_name": "Python 3",
   "language": "python",
   "name": "python3"
  },
  "language_info": {
   "codemirror_mode": {
    "name": "ipython",
    "version": 3
   },
   "file_extension": ".py",
   "mimetype": "text/x-python",
   "name": "python",
   "nbconvert_exporter": "python",
   "pygments_lexer": "ipython3",
   "version": "3.7.7"
  }
 },
 "nbformat": 4,
 "nbformat_minor": 4
}
