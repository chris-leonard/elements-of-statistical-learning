{
 "cells": [
  {
   "cell_type": "markdown",
   "metadata": {},
   "source": [
    "# Simulation for Exercise 3.2"
   ]
  },
  {
   "cell_type": "markdown",
   "metadata": {},
   "source": [
    "## Outline\n",
    "\n",
    "What do I need to calculate the confidence intervals?\n",
    "\n",
    "- Functions to generate $\\mathbf{X}$ and $\\mathbf{y}$ given distribution of $X$, parameters $\\beta$, variance of $\\mathbf{y}$, and sample size $N$\n",
    "- Function to calculate $\\hat{\\beta}$ from $\\mathbf{X}$ and $\\mathbf{y}$ - ~~use scikit-learn~~\n",
    "- Regression function $\\text{E}(Y|X) = f(X) = X^T\\beta$\n",
    "- Function to calculate variance estimate $\\hat{\\sigma}^2$\n",
    "- Functions for $t$ and $\\chi^2$ percentiles based on degrees of freedom and confidence level - scipy?\n",
    "- Functions for endpoints of confidence intervals\n",
    "- ~~Function to average simulations~~\n",
    "- Function to plot results\n",
    "\n",
    "This should all be packaged in a big function that generates and plots confidence bounds against the original function. It will be a function of $(\\beta,\\mu,\\tau^2,\\sigma^2,N,\\alpha)$.\n",
    "\n",
    "To simplify things:\n",
    "\n",
    "- Assume data points $x_1,\\ldots, x_N$ are sampled from a normal distribution with mean $\\mu$ and variance $\\tau^2$\n",
    "- By default, generate confidence bounds and plot for $x_0$ within two standard deviations of $\\text{E}(X)=\\mu$ (can make this an optional parameter)\n",
    "- *Don't average simulations - just do one*\n",
    "\n",
    "I think I should start with the big function and work down."
   ]
  },
  {
   "cell_type": "markdown",
   "metadata": {},
   "source": [
    "### Main function\n",
    "\n",
    "`run_sim(beta,alpha,N,sigma2,xmean,xvar,plot_range=None)`\n",
    "\n",
    "- Should print $f(x)$, $\\hat{f}(x)=x^T\\hat{\\beta}$, $\\hat{\\sigma}^2$, $x_0^T(\\mathbf{X}^T\\mathbf{X})^{-1}x_0$, confidence intervals at xmean\n",
    "- Print training error?\n",
    "- Should plot regression function f and upper and lower limits of confidence bounds for two methods for $x_0$ in given range. Print range and confidence level\n",
    "- Set `plot_range = [xmean-2*sqrt(xvar), xmean+2*sqrt(var)]` if not specified"
   ]
  },
  {
   "cell_type": "markdown",
   "metadata": {},
   "source": [
    "### Plot function\n",
    "\n",
    "`plot_conf(regfun, zconf, chiconf, plot_range)`\n",
    "- plot regression function and upper and lower limits for z and chi methods for $x_0$ in plot_range\n",
    "- Show legend\n",
    "- Print range and confidence level"
   ]
  },
  {
   "cell_type": "markdown",
   "metadata": {},
   "source": [
    "### Generate confidence interval functions\n",
    "\n",
    "`gen_zconf(regfunhat, sigma2hat, X, alpha, XTXinv = None)`\n",
    "- Return function zconf: x_0 -> [zconf_upper, zconf_lower]\n",
    "\n",
    "`gen_chiconf(regfunhat, sigma2hat, X, alpha, XTXinv = None)`\n",
    "- Return function chiconf: x_0 -> [chiconf_upper, chiconf_lower]\n",
    "\n",
    "Thoughts:\n",
    "- Both of these functions make use of $(\\mathbf{X}^T\\mathbf{X})^{-1}$. It would speed things up to store this somewhere\n",
    "- Store values like XTXinv, X(XTXinv), sigmahat*t, sigmahat*chi in the function so they don't have to be recalculated\n",
    "- Both functions calculate x_0^T(XTXinv)x_0, but these are all 4 dimensional so shouldn't be computationally restrictive"
   ]
  },
  {
   "cell_type": "markdown",
   "metadata": {},
   "source": [
    "### Calculate $\\hat{\\sigma}$\n",
    "\n",
    "`gen_sigma2hat(y,yhat)`\n",
    "- Returns $\\hat{\\sigma}^2 = \\frac{1}{N-p-1}(\\mathbf{y}-\\hat{\\mathbf{y}})^T(\\mathbf{y}-\\hat{\\mathbf{y}})$"
   ]
  },
  {
   "cell_type": "markdown",
   "metadata": {},
   "source": [
    "### Calculate estimated regression function\n",
    "\n",
    "`gen_regfunhat(betahat)`\n",
    "- Returns function regfunhat:x -> $x^T\\hat{\\beta}$\n",
    "\n",
    "#### Calculate least squares estimate $\\hat{\\beta}$\n",
    "\n",
    "`fit_ls(X, y, XTXinv = None)`\n",
    "- Returns $\\hat{\\beta} = (\\mathbf{X}^T\\mathbf{X})^{-1}\\mathbf{X}\\mathbf{y}$ and $\\hat{y}=X\\hat{\\beta}$\n",
    "\n",
    "#### Calculate $(\\mathbf{X}^T\\mathbf{X})^{-1}$\n",
    "\n",
    "`gen_XTXinv(X)`"
   ]
  },
  {
   "cell_type": "markdown",
   "metadata": {},
   "source": [
    "### Sample data\n",
    "\n",
    "`sample_data(beta,N,sigma,xmean,xvar)`\n",
    "- Return numpy arrays $X$ and $y$"
   ]
  },
  {
   "cell_type": "markdown",
   "metadata": {},
   "source": [
    "## Test Space"
   ]
  },
  {
   "cell_type": "code",
   "execution_count": 50,
   "metadata": {},
   "outputs": [],
   "source": [
    "import numpy as np\n",
    "from numpy import linalg\n",
    "from matplotlib import pyplot as plt"
   ]
  },
  {
   "cell_type": "code",
   "execution_count": 57,
   "metadata": {},
   "outputs": [],
   "source": [
    "def sample_data(beta, N, sigma, xmean, xvar):\n",
    "    X = np.random.normal(loc=xmean, scale=xvar, size=(N))\n",
    "    X = np.expand_dims(X, axis=1)\n",
    "    \n",
    "    bias = np.ones(shape=(N, 1))\n",
    "    X = np.concatenate((bias, X, X**2, X**3), axis=1)\n",
    "    \n",
    "    y = np.random.normal(loc=X@beta, scale=sigma, size=N)\n",
    "    \n",
    "    return X, y\n",
    "\n",
    "def fit_ls(X, y):\n",
    "    betahat = linalg.inv(X.T@X)@X.T@y\n",
    "    yhat = X@betahat\n",
    "    \n",
    "    return betahat, yhat\n",
    "\n"
   ]
  },
  {
   "cell_type": "code",
   "execution_count": 69,
   "metadata": {},
   "outputs": [],
   "source": [
    "beta = [0, 0, 0, 1]\n",
    "N = 10000\n",
    "sigma = 1\n",
    "xmean = 0\n",
    "xvar = 2"
   ]
  },
  {
   "cell_type": "code",
   "execution_count": 70,
   "metadata": {},
   "outputs": [],
   "source": [
    "X, y = sample_data(beta, N, sigma, xmean, xvar)"
   ]
  },
  {
   "cell_type": "code",
   "execution_count": 51,
   "metadata": {},
   "outputs": [],
   "source": [
    "XTXinv = linalg.inv(X.T@X)"
   ]
  },
  {
   "cell_type": "code",
   "execution_count": 71,
   "metadata": {},
   "outputs": [],
   "source": [
    "betahat, yhat = fit_ls(X, y)"
   ]
  },
  {
   "cell_type": "code",
   "execution_count": 72,
   "metadata": {},
   "outputs": [
    {
     "data": {
      "text/plain": [
       "(array([ 0.00451426,  0.00476163, -0.00151666,  1.00009733]), [0, 0, 0, 1])"
      ]
     },
     "execution_count": 72,
     "metadata": {},
     "output_type": "execute_result"
    }
   ],
   "source": [
    "betahat, beta"
   ]
  },
  {
   "cell_type": "code",
   "execution_count": 73,
   "metadata": {},
   "outputs": [
    {
     "data": {
      "text/plain": [
       "(array([  0.10258289,  -1.04422809,   0.5394553 , ...,  32.04872766,\n",
       "        -23.08442243,  -1.57031092]),\n",
       " array([ -0.48691099,  -0.44964531,   1.22843217, ...,  32.05909578,\n",
       "        -24.63605879,  -2.09971816]))"
      ]
     },
     "execution_count": 73,
     "metadata": {},
     "output_type": "execute_result"
    }
   ],
   "source": [
    "yhat, y"
   ]
  },
  {
   "cell_type": "code",
   "execution_count": null,
   "metadata": {},
   "outputs": [],
   "source": []
  }
 ],
 "metadata": {
  "kernelspec": {
   "display_name": "Python 3",
   "language": "python",
   "name": "python3"
  },
  "language_info": {
   "codemirror_mode": {
    "name": "ipython",
    "version": 3
   },
   "file_extension": ".py",
   "mimetype": "text/x-python",
   "name": "python",
   "nbconvert_exporter": "python",
   "pygments_lexer": "ipython3",
   "version": "3.7.7"
  }
 },
 "nbformat": 4,
 "nbformat_minor": 4
}
