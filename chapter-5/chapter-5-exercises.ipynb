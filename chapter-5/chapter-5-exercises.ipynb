{
 "cells": [
  {
   "cell_type": "markdown",
   "metadata": {},
   "source": [
    "# The Elements of Statistical Learning - Chapter 5 Exercises"
   ]
  },
  {
   "cell_type": "markdown",
   "metadata": {},
   "source": [
    "## Exercise 5.1\n",
    "\n",
    "Show that the truncated power basis functions in (5.3) represent a basis for a cubic spline with the two knots as indicated."
   ]
  },
  {
   "cell_type": "markdown",
   "metadata": {},
   "source": [
    "### Solution\n",
    "\n",
    "Recall that\n",
    "\n",
    "\\begin{align}\n",
    "    h_1(X) = 1,\\qquad h_3(X) = X^2, \\qquad h_5(X) = (X-\\xi_1)^3 \\\\\n",
    "    h_2(X) = X,\\qquad h_4(X) = X^3, \\qquad h_6(X) = (X-\\xi_2)^3.\n",
    "\\end{align}\n",
    "\n",
    "First note that each of these has continuity up to the second derivative so any linear combination of them does also. Moreover they are linearly independent: if $\\sum_{m=1}^6 \\beta_m h_m(X)\\equiv 0$ then $\\sum_{m=1}^4 \\beta_m h_m(X)\\equiv 0$ for $X<\\xi_1$ so $\\beta_1=\\beta_2=\\beta_3=\\beta_4=0$, so $\\beta_5 h_5(X)\\equiv 0$ for $X < \\xi_2$ implying $\\beta_5=0$, so $\\beta_6 h_6(X)\\equiv 0$ and thus all $\\beta_m=0$.\n",
    "\n",
    "It remains to show that the $h_m(X)$ span the space of cubic splines with knots $\\xi_1$ and $\\xi_2$. We establish this via the following claim. \n",
    "\n",
    "**Claim:** Suppose that $f^{(1)}(X)$ and $f^{(2)}(X)$ are cubics and\n",
    "\n",
    "\\begin{equation}\n",
    "    f(X) =\n",
    "        \\begin{cases}\n",
    "            f^{(1)}(X) & \\text{if } X < \\xi_1 \\\\\n",
    "            f^{(2)}(X) & \\text{if } X \\geq \\xi_1\n",
    "        \\end{cases}\n",
    "\\end{equation}\n",
    "\n",
    "is continuous up to its second derivative. Then there exists $\\beta\\in\\mathbb{R}$ such that\n",
    "\n",
    "\\begin{equation}\n",
    "    f^{(2)}(X) \\equiv f^{(1)}(X) + \\beta(X - \\xi)^3.\n",
    "\\end{equation}\n",
    "\n",
    "for $X \\geq \\xi$.\n",
    "\n",
    "Spanning follows from this: if $f(X)$ is a cubic spline with $f(X)=f^{(1)}(X)$ for $X<\\xi_1$, $f(X)=f^{(2)}(X)$ for $\\xi_1\\leq X<\\xi_2$, and $f(X)=f^{(3)}(X)$ for $\\xi_2\\leq X<$ then $f^{(1)}$ can be written as a linear combination of $h_1,\\ldots,h_4$ and then claim shows that adding in suitable multiples of $h_5$ and $h_6$ yields a function that equals $f^{(2)}$ and $f^{(3)}$ on their domains.\n",
    "\n",
    "**Proof of Claim:** To establish this, write\n",
    "\n",
    "\\begin{equation}\n",
    "    f^{(i)}(X) = \\sum_{m=0}^3 \\alpha_m^{(i)} (X - \\xi)^m\n",
    "\\end{equation}\n",
    "\n",
    "for $i=1, 2$. Then\n",
    "\n",
    "\\begin{align}\n",
    "    f^{(1)}(\\xi) = f^{(2)}(\\xi)\n",
    "        \\qquad & \\Rightarrow \\qquad  \\alpha_0^{(1)}=\\alpha_0^{(2)} \\\\\n",
    "    (f^{(1)})^{\\prime}(\\xi) = (f^{(2)})^{\\prime}(\\xi)\n",
    "        \\qquad & \\Rightarrow \\qquad \\alpha_1^{(1)}=\\alpha_1^{(2)} \\\\\n",
    "    (f^{(1)})^{\\prime\\prime}(\\xi) = (f^{(2)})^{\\prime\\prime}(\\xi)\n",
    "        \\qquad & \\Rightarrow \\qquad \\alpha_2^{(1)}=\\alpha_2^{(2)}\n",
    "\\end{align}\n",
    "\n",
    "so $\\beta = \\alpha_3^{(2)} - \\alpha_3^{(1)}$ suffices."
   ]
  },
  {
   "cell_type": "code",
   "execution_count": null,
   "metadata": {},
   "outputs": [],
   "source": []
  }
 ],
 "metadata": {
  "kernelspec": {
   "display_name": "Python 3",
   "language": "python",
   "name": "python3"
  },
  "language_info": {
   "codemirror_mode": {
    "name": "ipython",
    "version": 3
   },
   "file_extension": ".py",
   "mimetype": "text/x-python",
   "name": "python",
   "nbconvert_exporter": "python",
   "pygments_lexer": "ipython3",
   "version": "3.7.7"
  }
 },
 "nbformat": 4,
 "nbformat_minor": 4
}
