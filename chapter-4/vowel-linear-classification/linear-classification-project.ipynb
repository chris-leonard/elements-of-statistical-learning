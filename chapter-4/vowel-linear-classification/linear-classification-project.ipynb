{
 "cells": [
  {
   "cell_type": "markdown",
   "metadata": {},
   "source": [
    "# Linear Classification Project"
   ]
  },
  {
   "cell_type": "code",
   "execution_count": 32,
   "metadata": {},
   "outputs": [],
   "source": [
    "# Packages\n",
    "import numpy as np\n",
    "import pandas as pd\n",
    "from math import floor, ceil\n",
    "\n",
    "# To monitor performance\n",
    "from time import perf_counter\n",
    "\n",
    "# Custom module of utils for classification with linear discriminants\n",
    "import lindiscr\n",
    "\n",
    "# For graphics\n",
    "from matplotlib import pyplot as plt\n",
    "\n",
    "# Optimisation\n",
    "from scipy.optimize import minimize, brute\n",
    "\n",
    "# Models\n",
    "from sklearn.linear_model import LinearRegression\n",
    "from sklearn.discriminant_analysis import LinearDiscriminantAnalysis\n",
    "from sklearn.discriminant_analysis import QuadraticDiscriminantAnalysis\n",
    "\n",
    "# To partition data\n",
    "from sklearn.model_selection import train_test_split\n",
    "\n",
    "# For validation and parameter runing\n",
    "from sklearn.model_selection import PredefinedSplit\n",
    "from sklearn.model_selection import GridSearchCV\n",
    "\n",
    "# Metrics\n",
    "from sklearn.metrics import accuracy_score"
   ]
  },
  {
   "cell_type": "markdown",
   "metadata": {},
   "source": [
    "The goal of this project is to get experience applying the methods from Chapter 4.\n",
    "\n",
    "Things I would like to try:\n",
    "- Linear regression of indicator matrix\n",
    "- Linear discriminant analysis\n",
    "    - LDA but choosing cut-point to minimise training error (validation?)\n",
    "    - Comparing QDA with LDA on quadratic terms\n",
    "    - Regularised LDA (validation)\n",
    "    - Projection onto canonical variates\n",
    "    - Reduced-Rank LDA (validation)\n",
    "- Logistic Regression\n",
    "    - Hypothesis testing using Z-scores\n",
    "    - Subset selection using Wald Test, Likelihood Ratio Test, or Rao's Score Test\n",
    "    - $L^1$-regularised Logistic Regression (validation)\n",
    "- Separating hyperplanes? Presumably won't actually be possible\n",
    "\n",
    "Some of these would work better on binary classification problems (such as spam data) and some would work better on classification problems with more than two classes (such as vowel data). I could always do a mixture but that wouldn't allow me to compare performance on test data.\n",
    "\n",
    "The logistic regression hypothesis tests have only been described for binary classification problems. The disadvantage of the vowel data is that there aren't very many data points. A downside with binary classification is that a lot of these techniques become very similar.\n",
    "\n",
    "I will move forward with vowel data."
   ]
  },
  {
   "cell_type": "markdown",
   "metadata": {},
   "source": [
    "## Data Preparation"
   ]
  },
  {
   "cell_type": "markdown",
   "metadata": {},
   "source": [
    "This is the same dataset as in the enclosing folder. To get a better split in the data I have recombined it and split it into training, validation, and test sets in the proportion 60-20-20."
   ]
  },
  {
   "cell_type": "code",
   "execution_count": 2,
   "metadata": {},
   "outputs": [
    {
     "data": {
      "text/html": [
       "<div>\n",
       "<style scoped>\n",
       "    .dataframe tbody tr th:only-of-type {\n",
       "        vertical-align: middle;\n",
       "    }\n",
       "\n",
       "    .dataframe tbody tr th {\n",
       "        vertical-align: top;\n",
       "    }\n",
       "\n",
       "    .dataframe thead th {\n",
       "        text-align: right;\n",
       "    }\n",
       "</style>\n",
       "<table border=\"1\" class=\"dataframe\">\n",
       "  <thead>\n",
       "    <tr style=\"text-align: right;\">\n",
       "      <th></th>\n",
       "      <th>0</th>\n",
       "      <th>1</th>\n",
       "      <th>2</th>\n",
       "      <th>3</th>\n",
       "      <th>4</th>\n",
       "      <th>5</th>\n",
       "      <th>6</th>\n",
       "      <th>7</th>\n",
       "      <th>8</th>\n",
       "      <th>9</th>\n",
       "      <th>10</th>\n",
       "    </tr>\n",
       "  </thead>\n",
       "  <tbody>\n",
       "    <tr>\n",
       "      <th>0</th>\n",
       "      <td>11</td>\n",
       "      <td>-3.725</td>\n",
       "      <td>1.904</td>\n",
       "      <td>-0.737</td>\n",
       "      <td>0.433</td>\n",
       "      <td>-0.369</td>\n",
       "      <td>1.047</td>\n",
       "      <td>0.120</td>\n",
       "      <td>0.425</td>\n",
       "      <td>-0.678</td>\n",
       "      <td>-0.391</td>\n",
       "    </tr>\n",
       "    <tr>\n",
       "      <th>1</th>\n",
       "      <td>5</td>\n",
       "      <td>-2.967</td>\n",
       "      <td>2.781</td>\n",
       "      <td>-1.277</td>\n",
       "      <td>0.354</td>\n",
       "      <td>-0.936</td>\n",
       "      <td>1.505</td>\n",
       "      <td>-0.004</td>\n",
       "      <td>-0.418</td>\n",
       "      <td>-0.560</td>\n",
       "      <td>0.725</td>\n",
       "    </tr>\n",
       "    <tr>\n",
       "      <th>2</th>\n",
       "      <td>8</td>\n",
       "      <td>-4.175</td>\n",
       "      <td>3.320</td>\n",
       "      <td>-0.446</td>\n",
       "      <td>0.988</td>\n",
       "      <td>-1.480</td>\n",
       "      <td>0.133</td>\n",
       "      <td>0.507</td>\n",
       "      <td>0.605</td>\n",
       "      <td>0.691</td>\n",
       "      <td>-0.462</td>\n",
       "    </tr>\n",
       "    <tr>\n",
       "      <th>3</th>\n",
       "      <td>4</td>\n",
       "      <td>-3.194</td>\n",
       "      <td>1.589</td>\n",
       "      <td>-0.774</td>\n",
       "      <td>0.814</td>\n",
       "      <td>-1.087</td>\n",
       "      <td>0.618</td>\n",
       "      <td>0.218</td>\n",
       "      <td>-0.450</td>\n",
       "      <td>-0.003</td>\n",
       "      <td>0.526</td>\n",
       "    </tr>\n",
       "    <tr>\n",
       "      <th>4</th>\n",
       "      <td>4</td>\n",
       "      <td>-2.030</td>\n",
       "      <td>1.764</td>\n",
       "      <td>-0.386</td>\n",
       "      <td>-0.249</td>\n",
       "      <td>0.180</td>\n",
       "      <td>0.117</td>\n",
       "      <td>0.096</td>\n",
       "      <td>-0.121</td>\n",
       "      <td>0.067</td>\n",
       "      <td>-0.552</td>\n",
       "    </tr>\n",
       "  </tbody>\n",
       "</table>\n",
       "</div>"
      ],
      "text/plain": [
       "   0      1      2      3      4      5      6      7      8      9      10\n",
       "0  11 -3.725  1.904 -0.737  0.433 -0.369  1.047  0.120  0.425 -0.678 -0.391\n",
       "1   5 -2.967  2.781 -1.277  0.354 -0.936  1.505 -0.004 -0.418 -0.560  0.725\n",
       "2   8 -4.175  3.320 -0.446  0.988 -1.480  0.133  0.507  0.605  0.691 -0.462\n",
       "3   4 -3.194  1.589 -0.774  0.814 -1.087  0.618  0.218 -0.450 -0.003  0.526\n",
       "4   4 -2.030  1.764 -0.386 -0.249  0.180  0.117  0.096 -0.121  0.067 -0.552"
      ]
     },
     "execution_count": 2,
     "metadata": {},
     "output_type": "execute_result"
    }
   ],
   "source": [
    "# Import data\n",
    "train = pd.read_csv('vowel-train.csv', header=None)\n",
    "val = pd.read_csv('vowel-val.csv', header=None)\n",
    "test = pd.read_csv('vowel-test.csv', header=None)\n",
    "\n",
    "# Combine the training/validation set into a single dataframe\n",
    "trainval = pd.concat([train, val]).reset_index(drop = True)\n",
    "\n",
    "# Take a look at the data\n",
    "trainval.head(5)"
   ]
  },
  {
   "cell_type": "code",
   "execution_count": 3,
   "metadata": {},
   "outputs": [
    {
     "data": {
      "text/html": [
       "<div>\n",
       "<style scoped>\n",
       "    .dataframe tbody tr th:only-of-type {\n",
       "        vertical-align: middle;\n",
       "    }\n",
       "\n",
       "    .dataframe tbody tr th {\n",
       "        vertical-align: top;\n",
       "    }\n",
       "\n",
       "    .dataframe thead th {\n",
       "        text-align: right;\n",
       "    }\n",
       "</style>\n",
       "<table border=\"1\" class=\"dataframe\">\n",
       "  <thead>\n",
       "    <tr style=\"text-align: right;\">\n",
       "      <th></th>\n",
       "      <th>count</th>\n",
       "      <th>mean</th>\n",
       "      <th>std</th>\n",
       "      <th>min</th>\n",
       "      <th>25%</th>\n",
       "      <th>50%</th>\n",
       "      <th>75%</th>\n",
       "      <th>max</th>\n",
       "    </tr>\n",
       "  </thead>\n",
       "  <tbody>\n",
       "    <tr>\n",
       "      <th>0</th>\n",
       "      <td>792.0</td>\n",
       "      <td>6.039141</td>\n",
       "      <td>3.180175</td>\n",
       "      <td>1.000</td>\n",
       "      <td>3.00000</td>\n",
       "      <td>6.0000</td>\n",
       "      <td>9.00000</td>\n",
       "      <td>11.000</td>\n",
       "    </tr>\n",
       "    <tr>\n",
       "      <th>1</th>\n",
       "      <td>792.0</td>\n",
       "      <td>-3.220919</td>\n",
       "      <td>0.866414</td>\n",
       "      <td>-5.211</td>\n",
       "      <td>-3.90375</td>\n",
       "      <td>-3.1710</td>\n",
       "      <td>-2.62650</td>\n",
       "      <td>-0.961</td>\n",
       "    </tr>\n",
       "    <tr>\n",
       "      <th>2</th>\n",
       "      <td>792.0</td>\n",
       "      <td>1.897836</td>\n",
       "      <td>1.176604</td>\n",
       "      <td>-1.274</td>\n",
       "      <td>1.07050</td>\n",
       "      <td>1.9070</td>\n",
       "      <td>2.78550</td>\n",
       "      <td>5.074</td>\n",
       "    </tr>\n",
       "    <tr>\n",
       "      <th>3</th>\n",
       "      <td>792.0</td>\n",
       "      <td>-0.529126</td>\n",
       "      <td>0.706045</td>\n",
       "      <td>-2.487</td>\n",
       "      <td>-0.99925</td>\n",
       "      <td>-0.5860</td>\n",
       "      <td>-0.10225</td>\n",
       "      <td>1.431</td>\n",
       "    </tr>\n",
       "    <tr>\n",
       "      <th>4</th>\n",
       "      <td>792.0</td>\n",
       "      <td>0.530307</td>\n",
       "      <td>0.743921</td>\n",
       "      <td>-1.247</td>\n",
       "      <td>-0.04725</td>\n",
       "      <td>0.4675</td>\n",
       "      <td>1.09850</td>\n",
       "      <td>2.377</td>\n",
       "    </tr>\n",
       "    <tr>\n",
       "      <th>5</th>\n",
       "      <td>792.0</td>\n",
       "      <td>-0.306451</td>\n",
       "      <td>0.676090</td>\n",
       "      <td>-2.127</td>\n",
       "      <td>-0.79400</td>\n",
       "      <td>-0.3120</td>\n",
       "      <td>0.17625</td>\n",
       "      <td>1.831</td>\n",
       "    </tr>\n",
       "    <tr>\n",
       "      <th>6</th>\n",
       "      <td>792.0</td>\n",
       "      <td>0.641318</td>\n",
       "      <td>0.592950</td>\n",
       "      <td>-0.836</td>\n",
       "      <td>0.22975</td>\n",
       "      <td>0.5625</td>\n",
       "      <td>1.02250</td>\n",
       "      <td>2.327</td>\n",
       "    </tr>\n",
       "    <tr>\n",
       "      <th>7</th>\n",
       "      <td>792.0</td>\n",
       "      <td>-0.005274</td>\n",
       "      <td>0.449826</td>\n",
       "      <td>-1.454</td>\n",
       "      <td>-0.31225</td>\n",
       "      <td>0.0330</td>\n",
       "      <td>0.28275</td>\n",
       "      <td>1.286</td>\n",
       "    </tr>\n",
       "    <tr>\n",
       "      <th>8</th>\n",
       "      <td>792.0</td>\n",
       "      <td>0.333104</td>\n",
       "      <td>0.578171</td>\n",
       "      <td>-1.293</td>\n",
       "      <td>-0.10575</td>\n",
       "      <td>0.3220</td>\n",
       "      <td>0.77325</td>\n",
       "      <td>1.972</td>\n",
       "    </tr>\n",
       "    <tr>\n",
       "      <th>9</th>\n",
       "      <td>792.0</td>\n",
       "      <td>-0.308096</td>\n",
       "      <td>0.568027</td>\n",
       "      <td>-1.613</td>\n",
       "      <td>-0.70800</td>\n",
       "      <td>-0.3005</td>\n",
       "      <td>0.09125</td>\n",
       "      <td>1.309</td>\n",
       "    </tr>\n",
       "    <tr>\n",
       "      <th>10</th>\n",
       "      <td>792.0</td>\n",
       "      <td>-0.068176</td>\n",
       "      <td>0.603858</td>\n",
       "      <td>-1.680</td>\n",
       "      <td>-0.54550</td>\n",
       "      <td>-0.1450</td>\n",
       "      <td>0.37225</td>\n",
       "      <td>1.294</td>\n",
       "    </tr>\n",
       "  </tbody>\n",
       "</table>\n",
       "</div>"
      ],
      "text/plain": [
       "    count      mean       std    min      25%     50%      75%     max\n",
       "0   792.0  6.039141  3.180175  1.000  3.00000  6.0000  9.00000  11.000\n",
       "1   792.0 -3.220919  0.866414 -5.211 -3.90375 -3.1710 -2.62650  -0.961\n",
       "2   792.0  1.897836  1.176604 -1.274  1.07050  1.9070  2.78550   5.074\n",
       "3   792.0 -0.529126  0.706045 -2.487 -0.99925 -0.5860 -0.10225   1.431\n",
       "4   792.0  0.530307  0.743921 -1.247 -0.04725  0.4675  1.09850   2.377\n",
       "5   792.0 -0.306451  0.676090 -2.127 -0.79400 -0.3120  0.17625   1.831\n",
       "6   792.0  0.641318  0.592950 -0.836  0.22975  0.5625  1.02250   2.327\n",
       "7   792.0 -0.005274  0.449826 -1.454 -0.31225  0.0330  0.28275   1.286\n",
       "8   792.0  0.333104  0.578171 -1.293 -0.10575  0.3220  0.77325   1.972\n",
       "9   792.0 -0.308096  0.568027 -1.613 -0.70800 -0.3005  0.09125   1.309\n",
       "10  792.0 -0.068176  0.603858 -1.680 -0.54550 -0.1450  0.37225   1.294"
      ]
     },
     "execution_count": 3,
     "metadata": {},
     "output_type": "execute_result"
    }
   ],
   "source": [
    "# Display descriptive statistics\n",
    "trainval.describe().transpose()"
   ]
  },
  {
   "cell_type": "code",
   "execution_count": 4,
   "metadata": {},
   "outputs": [
    {
     "name": "stdout",
     "output_type": "stream",
     "text": [
      "594 training samples\n",
      "198 validation samples\n",
      "198 test samples\n",
      "10 features\n",
      "Class labels:  [ 1  2  3  4  5  6  7  8  9 10 11]\n"
     ]
    }
   ],
   "source": [
    "# Print values\n",
    "print('{} training samples'.format(train.shape[0]))\n",
    "print('{} validation samples'.format(val.shape[0]))\n",
    "print('{} test samples'.format(test.shape[0]))\n",
    "print('{} features'.format(train.shape[1] - 1))\n",
    "\n",
    "# Classes\n",
    "print('Class labels: ', np.sort(train.iloc[:, 0].unique()))"
   ]
  },
  {
   "cell_type": "markdown",
   "metadata": {},
   "source": [
    "It would be more convenient if our class labels were 0,..,10 so I'll just subtract 1 from the outputs."
   ]
  },
  {
   "cell_type": "code",
   "execution_count": 5,
   "metadata": {},
   "outputs": [],
   "source": [
    "# Relabel classes by subtracting one\n",
    "train.iloc[:, 0] = train.iloc[:, 0] - 1\n",
    "trainval.iloc[:, 0] = trainval.iloc[:, 0] - 1\n",
    "val.iloc[:, 0] = val.iloc[:, 0] - 1\n",
    "test.iloc[:, 0] = test.iloc[:, 0] - 1"
   ]
  },
  {
   "cell_type": "code",
   "execution_count": 6,
   "metadata": {},
   "outputs": [
    {
     "data": {
      "text/plain": [
       "0     72\n",
       "1     67\n",
       "2     77\n",
       "3     71\n",
       "4     75\n",
       "5     65\n",
       "6     69\n",
       "7     73\n",
       "8     74\n",
       "9     75\n",
       "10    74\n",
       "Name: 0, dtype: int64"
      ]
     },
     "execution_count": 6,
     "metadata": {},
     "output_type": "execute_result"
    }
   ],
   "source": [
    "# Occurances of different classes in training/validation data\n",
    "class_counts = trainval.iloc[:, 0].value_counts()\n",
    "class_counts[list(range(len(class_counts)))]"
   ]
  },
  {
   "cell_type": "markdown",
   "metadata": {},
   "source": [
    "So different classes occur in approximately equal proportion. This means that the base error rate (from classifying to the most common class) is around $1 - \\frac{1}{K}$."
   ]
  },
  {
   "cell_type": "code",
   "execution_count": 7,
   "metadata": {},
   "outputs": [
    {
     "name": "stdout",
     "output_type": "stream",
     "text": [
      "Base error rate: 0.9091\n"
     ]
    }
   ],
   "source": [
    "print('Base error rate: {:.4f}'.format(1 - 1/11))"
   ]
  },
  {
   "cell_type": "markdown",
   "metadata": {},
   "source": [
    "Now we prepare the data for use."
   ]
  },
  {
   "cell_type": "code",
   "execution_count": 8,
   "metadata": {},
   "outputs": [],
   "source": [
    "# Split into inputs and outputs\n",
    "y_train = train.iloc[:, 0].to_numpy()\n",
    "X_train = train.iloc[:, 1:].to_numpy()\n",
    "N_train = len(y_train)\n",
    "\n",
    "y_trainval = trainval.iloc[:, 0].to_numpy()\n",
    "X_trainval = trainval.iloc[:, 1:].to_numpy()\n",
    "N_trainval = len(y_trainval)\n",
    "\n",
    "y_val = val.iloc[:, 0].to_numpy()\n",
    "X_val = val.iloc[:, 1:].to_numpy()\n",
    "N_val = len(y_val)\n",
    "\n",
    "y_test = test.iloc[:, 0].to_numpy()\n",
    "X_test = test.iloc[:, 1:].to_numpy()\n",
    "N_test = len(y_test)\n",
    "\n",
    "# Some useful constants\n",
    "p = X_train.shape[1]\n",
    "K = len(np.unique(y_train))\n",
    "\n",
    "# Predefined split to aid validation with sklearn\n",
    "test_fold = [-1] * N_train + [0] * N_val\n",
    "ps = PredefinedSplit(test_fold)"
   ]
  },
  {
   "cell_type": "markdown",
   "metadata": {},
   "source": [
    "## Linear Regression of Indicator Matrix"
   ]
  },
  {
   "cell_type": "markdown",
   "metadata": {},
   "source": [
    "We begin by simply performing ordinary least squares regression on the indicator matrix."
   ]
  },
  {
   "cell_type": "code",
   "execution_count": 9,
   "metadata": {},
   "outputs": [],
   "source": [
    "def gen_indicator_responses(y, K):\n",
    "    'Turn output vector with entries 0,..,K-1 into indicator reponse matrix'\n",
    "    N = y.shape[0]\n",
    "\n",
    "    Y = np.zeros(shape=(N, K))\n",
    "    Y[range(N), y] = 1\n",
    "\n",
    "    return Y"
   ]
  },
  {
   "cell_type": "code",
   "execution_count": 10,
   "metadata": {},
   "outputs": [],
   "source": [
    "# Indicator response matrices\n",
    "Y_train = gen_indicator_responses(y_train, K)\n",
    "Y_trainval = gen_indicator_responses(y_trainval, K)\n",
    "#Y_val = gen_indicator_responses(y_val, K)\n",
    "#Y_test = gen_indicator_responses(y_test, K)"
   ]
  },
  {
   "cell_type": "markdown",
   "metadata": {},
   "source": [
    "We use training and validation to get an estimate of prediction error."
   ]
  },
  {
   "cell_type": "code",
   "execution_count": 11,
   "metadata": {},
   "outputs": [
    {
     "name": "stdout",
     "output_type": "stream",
     "text": [
      "Ordinary least squares training error: 0.540\n",
      "Ordinary least squares validation error: 0.591\n"
     ]
    }
   ],
   "source": [
    "# Fit regression model to training and validation data\n",
    "ols = LinearRegression()\n",
    "ols.fit(X_train, Y_train)\n",
    "\n",
    "# Generate classification predictions for training data\n",
    "y_train_pred_ols = ols.predict(X_train)\n",
    "y_train_pred_ols = np.argmax(y_train_pred_ols, axis=1)\n",
    "train_err_ols = 1 - accuracy_score(y_train, y_train_pred_ols)\n",
    "print('Ordinary least squares training error: {:.3f}'.format(train_err_ols))\n",
    "\n",
    "# Classification predictions for validation data\n",
    "y_val_pred_ols = ols.predict(X_val)\n",
    "y_val_pred_ols = np.argmax(y_val_pred_ols, axis=1)\n",
    "val_err_ols = 1 - accuracy_score(y_val, y_val_pred_ols)\n",
    "print('Ordinary least squares validation error: {:.3f}'.format(val_err_ols))"
   ]
  },
  {
   "cell_type": "markdown",
   "metadata": {},
   "source": [
    "## Discriminant Analysis"
   ]
  },
  {
   "cell_type": "markdown",
   "metadata": {},
   "source": [
    "We begin with standard linear discriminant analysis"
   ]
  },
  {
   "cell_type": "code",
   "execution_count": 12,
   "metadata": {},
   "outputs": [
    {
     "name": "stdout",
     "output_type": "stream",
     "text": [
      "Linear discriminant analysis training error: 0.315\n",
      "Linear discriminant analysis validation error: 0.409\n"
     ]
    }
   ],
   "source": [
    "# Fit model\n",
    "lda = LinearDiscriminantAnalysis()\n",
    "lda.fit(X_train, y_train)\n",
    "\n",
    "# Training error\n",
    "y_train_pred_lda = lda.predict(X_train)\n",
    "train_err_lda = 1 - accuracy_score(y_train, y_train_pred_lda)\n",
    "print('Linear discriminant analysis training error: {:.3f}'.format(train_err_lda))\n",
    "\n",
    "# Validation error\n",
    "y_val_pred_lda = lda.predict(X_val)\n",
    "val_err_lda = 1 - accuracy_score(y_val, y_val_pred_lda)\n",
    "print('Linear discriminant analysis validation error: {:.3f}'.format(val_err_lda))"
   ]
  },
  {
   "cell_type": "markdown",
   "metadata": {},
   "source": [
    "### Optimising the Intercept"
   ]
  },
  {
   "cell_type": "markdown",
   "metadata": {},
   "source": [
    "The text recommends choosing the intercept term in LDA that empirically minimises the misclassification rate over the training set. As I couldn't find tools for this in scikit-learn, we will select the intercept using a custom module `lindiscr.py` for dealing with classification by linear discriminant functions."
   ]
  },
  {
   "cell_type": "markdown",
   "metadata": {},
   "source": [
    "#### Background\n",
    "\n",
    "We give a short explanation of the algorithms used to select the intercept.\n",
    "\n",
    "Suppose we have an initial guess $w_0 = (w_{10},\\ldots, w_{K0})$ for the intercept. Our discriminant functions are of the form $\\delta_k(x) = w_{k0} + x^T w_k$ with\n",
    "\n",
    "\\begin{equation}\n",
    "    \\ln\\left(\\frac{P(G=k \\mid X=x)}{P(G=l \\mid X=x)}\\right) = \\delta_k(x) - \\delta_l(x).\n",
    "\\end{equation}\n",
    "\n",
    "So we classify to to the class $k$ with $\\delta_k(x)$ maximal and we may assume that $w_{K0}=0$ without loss of generality. \n",
    "\n",
    "If we decrease (resp. increase) $w_{k0}$ then we will classify fewer (resp. more) points in $\\mathbf{X}$ to class $k$. Moreover, we can find the endpoints of this - where none or all points are classified to class $k$. The upper and lower bounds are respectively\n",
    "\n",
    "\\begin{equation}\n",
    "    \\underset{i, l}{\\text{max}} \\left(w_{l0} + x_i^T (w_l - w_k)\\right)\n",
    "        \\qquad\\text{and}\\qquad \\underset{i}{\\text{min}}\\;\\underset{l}{\\text{max}} \\left(w_{l0} + x_i^T (w_l - w_k)\\right)\n",
    "\\end{equation}\n",
    "\n",
    "Thus we can approximate the optimal value of $w_{k0}$ (under the constraint that other $w_{l0}$ are fixed) by taking an evenly spaced mesh of values between the minimum and maximum and choosing the value that minimises the classification error. We can then move on to $w_{k+1,0}$ and repeat, cycling through classes (recall that we have fixed $w_{K0}=0$) until the classification error stabilises.\n",
    "\n",
    "The function `lindiscr.optimize_intercept` is an implementation of this algorithm. It converges quickly (a few loops of all features is generally sufficient) and I believe its performance is fairly well optimised with vectorised implementations of the main operations. However, the objective function - classification error - has many local minima and this algorithm rarely converges to a global minimum.\n",
    "\n",
    "To deal with this, the function `lindiscr.optimize_intercept_seed` runs the above algorithm multiple times, randomly seeding the initial guess $w_0 = (w_{10},\\ldots, w_{K0})$ from a uniform distribution with a user-specified range for each class. This works but becomes very slow if we run with a lot of different initial seeds (5-10 minutes for 1000 seeds)."
   ]
  },
  {
   "cell_type": "markdown",
   "metadata": {},
   "source": [
    "#### Results\n",
    "\n",
    "Since the function `lindiscr.optimize_intercept_seed` runs very slowly, the code in this section is commented out and we will simply state the results.\n",
    "\n",
    "We began by running the intercept optimiser 1000 times with initial values for the intercept seeded from a uniform distribution on $[-100, 100]$."
   ]
  },
  {
   "cell_type": "code",
   "execution_count": null,
   "metadata": {},
   "outputs": [],
   "source": [
    "# # Set input parameters\n",
    "# kwargs = {\n",
    "#     'X' : X_train,\n",
    "#     'y' : y_train,\n",
    "#     'coef' : lda.coef_,\n",
    "#     'seed_ranges' : [(-100, 100) for i in range(K-1)],\n",
    "#     'num_tests' : 1000,\n",
    "#     'grid_density' : 10,\n",
    "#     'err_tol' : 0.001\n",
    "# } \n",
    "\n",
    "# # Run tests\n",
    "# start_time = perf_counter()\n",
    "# errs, intercepts, seeds = lindiscr.optimize_intercept_seed(**kwargs)\n",
    "# end_time = perf_counter()\n",
    "\n",
    "# print('Run time: {:0.1f}'.format(end_time - start_time))"
   ]
  },
  {
   "cell_type": "markdown",
   "metadata": {},
   "source": [
    "This ran in 493 seconds and yielded the following classification errors. Note that the $y$-axis just consists of random jitter for readability."
   ]
  },
  {
   "cell_type": "code",
   "execution_count": null,
   "metadata": {},
   "outputs": [],
   "source": [
    "# # Plot errors\n",
    "# fig, ax = plt.subplots(figsize=(8, 3))\n",
    "\n",
    "# ax.scatter(errs, np.random.normal(loc=0, scale=0.1, size=len(errs)), marker='x'),\n",
    "# ax.axhline(0, color='k', ls='--')\n",
    "\n",
    "# ax.set_ylim(-1, 1)\n",
    "# ax.set_yticks(ticks=[]);\n",
    "\n",
    "# ax.set_xlabel('Error');"
   ]
  },
  {
   "cell_type": "markdown",
   "metadata": {},
   "source": [
    "<img src=\"intercept-errs-1.png\" width=\"500\">"
   ]
  },
  {
   "cell_type": "code",
   "execution_count": 79,
   "metadata": {},
   "outputs": [
    {
     "name": "stdout",
     "output_type": "stream",
     "text": [
      "Min error: 0.286\n",
      "Best intercept:  [ -5.9   1.4  12.7  15.1   3.5   8.9  -3.3 -26.9 -20.5 -27.1   0. ]\n"
     ]
    }
   ],
   "source": [
    "# Optimal values\n",
    "min_err = 0.286\n",
    "best_intercept = np.array([-5.9, 1.4, 12.7, 15.1, 3.5, 8.9, -3.3, -26.9, -20.5, -27.1, 0])\n",
    "\n",
    "print('Min error: {:.3f}'.format(min_err))\n",
    "print('Best intercept: ', best_intercept.round(1))"
   ]
  },
  {
   "cell_type": "markdown",
   "metadata": {},
   "source": [
    "All but one of these errors is greater than that from the intercept generated using the Gaussian approximation, but that one has far lower training error.\n",
    "\n",
    "To improve further we run another 1000 intercept optimisers, now with initial values seeded from a narrower uniform distribution centred at the best intercept found above."
   ]
  },
  {
   "cell_type": "code",
   "execution_count": null,
   "metadata": {},
   "outputs": [],
   "source": [
    "# # Set new ranges for seeds close to best value found\n",
    "# seed_ranges = [(i-10, i+10) for i in best_intercept[:-1].round(0)]\n",
    "\n",
    "# kwargs = {\n",
    "#     'X' : X_train,\n",
    "#     'y' : y_train,\n",
    "#     'coef' : lda.coef_,\n",
    "#     'seed_ranges' : seed_ranges,\n",
    "#     'num_tests' : 1000,\n",
    "#     'grid_density' : 10,\n",
    "#     'err_tol' : 0.001\n",
    "# } \n",
    "\n",
    "# # Run tests\n",
    "# start_time = perf_counter()\n",
    "# errs, intercepts, seeds = lindiscr.optimize_intercept_seed(**kwargs)\n",
    "# end_time = perf_counter()\n",
    "\n",
    "# print('Run time: {:0.1f}'.format(end_time - start_time))"
   ]
  },
  {
   "cell_type": "markdown",
   "metadata": {},
   "source": [
    "This ran in 661 seconds and yielded the following errors."
   ]
  },
  {
   "cell_type": "code",
   "execution_count": null,
   "metadata": {},
   "outputs": [],
   "source": [
    "# # Plot errors\n",
    "# fig, ax = plt.subplots(figsize=(8, 3))\n",
    "\n",
    "# ax.scatter(errs, np.random.normal(loc=0, scale=0.1, size=len(errs)), marker='x'),\n",
    "# ax.axhline(0, color='k', ls='--')\n",
    "\n",
    "# ax.set_ylim(-1, 1)\n",
    "# ax.set_yticks(ticks=[]);\n",
    "\n",
    "# ax.set_xlabel('Error');"
   ]
  },
  {
   "cell_type": "markdown",
   "metadata": {},
   "source": [
    "<img src=\"intercept-errs-2.png\" width=\"500\">"
   ]
  },
  {
   "cell_type": "code",
   "execution_count": 88,
   "metadata": {},
   "outputs": [
    {
     "name": "stdout",
     "output_type": "stream",
     "text": [
      "Min error: 0.286\n",
      "Best intercept:  [ -5.9   1.4  12.7  15.1   3.5   8.9  -3.3 -26.9 -20.5 -27.1   0. ]\n"
     ]
    }
   ],
   "source": [
    "# Optimal values\n",
    "min_err = 0.274\n",
    "best_intercept =  np.array([ -6.8, 0.5, 12.5, 15.5, 3.5, 9.4, -2.8, -25.6, -19.3, -26.4, 0])\n",
    "\n",
    "print('Min error: {:.3f}'.format(min_err))\n",
    "print('Best intercept: ', best_intercept.round(1))"
   ]
  },
  {
   "cell_type": "markdown",
   "metadata": {},
   "source": [
    "This gives many more values for the intercept with lower training error than the Gaussian and decreases the minimum."
   ]
  },
  {
   "cell_type": "markdown",
   "metadata": {},
   "source": [
    "#### Analysis"
   ]
  },
  {
   "cell_type": "markdown",
   "metadata": {},
   "source": [
    "**CONTINUE FROM HERE. TRY TO FINISH TOMORROW**"
   ]
  },
  {
   "cell_type": "markdown",
   "metadata": {},
   "source": [
    "HTF suggest setting the cut-point to minimise classification error over the training data.\n",
    "\n",
    "We have an algorithm to find local minimum of classification error given an initial value. We run this a few times with random initial values and a high error tolerance and plot the local minima."
   ]
  },
  {
   "cell_type": "code",
   "execution_count": 48,
   "metadata": {},
   "outputs": [
    {
     "name": "stdout",
     "output_type": "stream",
     "text": [
      "Run time: 492.9\n"
     ]
    }
   ],
   "source": [
    "# Set input parameters\n",
    "kwargs = {\n",
    "    'X' : X_train,\n",
    "    'y' : y_train,\n",
    "    'coef' : lda.coef_,\n",
    "    'seed_ranges' : [(-100, 100) for i in range(K-1)],\n",
    "    'num_tests' : 1000,\n",
    "    'grid_density' : 10,\n",
    "    'err_tol' : 0.001\n",
    "} \n",
    "\n",
    "# Run tests\n",
    "start_time = perf_counter()\n",
    "#errs, intercepts, seeds = lindiscr.optimize_intercept_seed(**kwargs)\n",
    "end_time = perf_counter()\n",
    "\n",
    "print('Run time: {:0.1f}'.format(end_time - start_time))"
   ]
  },
  {
   "cell_type": "code",
   "execution_count": 49,
   "metadata": {},
   "outputs": [
    {
     "data": {
      "image/png": "[encoded data removed]",
      "text/plain": [
       "<Figure size 576x216 with 1 Axes>"
      ]
     },
     "metadata": {
      "needs_background": "light"
     },
     "output_type": "display_data"
    }
   ],
   "source": [
    "# Plot errors\n",
    "fig, ax = plt.subplots(figsize=(8, 3))\n",
    "\n",
    "ax.scatter(errs, np.random.normal(loc=0, scale=0.1, size=len(errs)), marker='x'),\n",
    "ax.axhline(0, color='k', ls='--')\n",
    "\n",
    "ax.set_ylim(-1, 1)\n",
    "ax.set_yticks(ticks=[]);\n",
    "\n",
    "ax.set_xlabel('Error');"
   ]
  },
  {
   "cell_type": "code",
   "execution_count": 56,
   "metadata": {},
   "outputs": [
    {
     "name": "stdout",
     "output_type": "stream",
     "text": [
      "Min error: 0.286\n",
      "Best intercept:  [ -5.9   1.4  12.7  15.1   3.5   8.9  -3.3 -26.9 -20.5 -27.1   0. ]\n",
      "Best seed:  [  0.9 -89.   -9.4 -61.6  -3.5 -98.9 -72.  -82.5 -54.9 -27.1   0. ]\n"
     ]
    }
   ],
   "source": [
    "# Identify the optimal values\n",
    "min_err_idx = np.argmin(errs)\n",
    "min_err = np.min(errs)\n",
    "best_intercept = intercepts[:, min_err_idx]\n",
    "best_seed = seeds[:, min_err_idx]\n",
    "\n",
    "print('Min error: {:.3f}'.format(min_err))\n",
    "print('Best intercept: ', best_intercept.round(1))\n",
    "print('Best seed: ', best_seed.round(1))"
   ]
  },
  {
   "cell_type": "markdown",
   "metadata": {},
   "source": [
    "Now we'll run another set of tests with seeds close to this best intercept"
   ]
  },
  {
   "cell_type": "code",
   "execution_count": 89,
   "metadata": {},
   "outputs": [
    {
     "data": {
      "text/plain": [
       "array([ -5.9,   1.4,  12.7,  15.1,   3.5,   8.9,  -3.3, -26.9, -20.5,\n",
       "       -27.1,   0. ])"
      ]
     },
     "execution_count": 89,
     "metadata": {},
     "output_type": "execute_result"
    }
   ],
   "source": [
    "best_intercept"
   ]
  },
  {
   "cell_type": "code",
   "execution_count": 87,
   "metadata": {},
   "outputs": [
    {
     "ename": "KeyboardInterrupt",
     "evalue": "",
     "output_type": "error",
     "traceback": [
      "\u001b[0;31m---------------------------------------------------------------------------\u001b[0m",
      "\u001b[0;31mKeyboardInterrupt\u001b[0m                         Traceback (most recent call last)",
      "\u001b[0;32m<ipython-input-87-7b0aafc2e1a6>\u001b[0m in \u001b[0;36m<module>\u001b[0;34m\u001b[0m\n\u001b[1;32m     14\u001b[0m \u001b[0;31m# Run tests\u001b[0m\u001b[0;34m\u001b[0m\u001b[0;34m\u001b[0m\u001b[0;34m\u001b[0m\u001b[0m\n\u001b[1;32m     15\u001b[0m \u001b[0mstart_time\u001b[0m \u001b[0;34m=\u001b[0m \u001b[0mperf_counter\u001b[0m\u001b[0;34m(\u001b[0m\u001b[0;34m)\u001b[0m\u001b[0;34m\u001b[0m\u001b[0;34m\u001b[0m\u001b[0m\n\u001b[0;32m---> 16\u001b[0;31m \u001b[0merrs\u001b[0m\u001b[0;34m,\u001b[0m \u001b[0mintercepts\u001b[0m\u001b[0;34m,\u001b[0m \u001b[0mseeds\u001b[0m \u001b[0;34m=\u001b[0m \u001b[0mlindiscr\u001b[0m\u001b[0;34m.\u001b[0m\u001b[0moptimize_intercept_seed\u001b[0m\u001b[0;34m(\u001b[0m\u001b[0;34m**\u001b[0m\u001b[0mkwargs\u001b[0m\u001b[0;34m)\u001b[0m\u001b[0;34m\u001b[0m\u001b[0;34m\u001b[0m\u001b[0m\n\u001b[0m\u001b[1;32m     17\u001b[0m \u001b[0mend_time\u001b[0m \u001b[0;34m=\u001b[0m \u001b[0mperf_counter\u001b[0m\u001b[0;34m(\u001b[0m\u001b[0;34m)\u001b[0m\u001b[0;34m\u001b[0m\u001b[0;34m\u001b[0m\u001b[0m\n\u001b[1;32m     18\u001b[0m \u001b[0;34m\u001b[0m\u001b[0m\n",
      "\u001b[0;32m~/P/elements-of-statistical-learning/chapter-4/vowel-linear-classification/lindiscr.py\u001b[0m in \u001b[0;36moptimize_intercept_seed\u001b[0;34m(X, y, coef, seed_ranges, num_tests, grid_density, err_tol)\u001b[0m\n\u001b[1;32m     71\u001b[0m             \u001b[0;34m'err_tol'\u001b[0m\u001b[0;34m:\u001b[0m \u001b[0merr_tol\u001b[0m\u001b[0;34m\u001b[0m\u001b[0;34m\u001b[0m\u001b[0m\n\u001b[1;32m     72\u001b[0m         }\n\u001b[0;32m---> 73\u001b[0;31m         \u001b[0mseed_errs\u001b[0m\u001b[0;34m,\u001b[0m \u001b[0mseed_intercepts\u001b[0m \u001b[0;34m=\u001b[0m \u001b[0moptimize_intercept\u001b[0m\u001b[0;34m(\u001b[0m\u001b[0;34m**\u001b[0m\u001b[0mkwargs\u001b[0m\u001b[0;34m)\u001b[0m\u001b[0;34m\u001b[0m\u001b[0;34m\u001b[0m\u001b[0m\n\u001b[0m\u001b[1;32m     74\u001b[0m \u001b[0;34m\u001b[0m\u001b[0m\n\u001b[1;32m     75\u001b[0m         \u001b[0;31m# Store\u001b[0m\u001b[0;34m\u001b[0m\u001b[0;34m\u001b[0m\u001b[0;34m\u001b[0m\u001b[0m\n",
      "\u001b[0;32m~/P/elements-of-statistical-learning/chapter-4/vowel-linear-classification/lindiscr.py\u001b[0m in \u001b[0;36moptimize_intercept\u001b[0;34m(X, y, coef, initial_value, gradient, grid_density, err_tol)\u001b[0m\n\u001b[1;32m    152\u001b[0m             \u001b[0;31m# when we never classify to feat to when we always do\u001b[0m\u001b[0;34m\u001b[0m\u001b[0;34m\u001b[0m\u001b[0;34m\u001b[0m\u001b[0m\n\u001b[1;32m    153\u001b[0m             \u001b[0mcls_range_max\u001b[0m \u001b[0;34m=\u001b[0m \u001b[0mnp\u001b[0m\u001b[0;34m.\u001b[0m\u001b[0mmax\u001b[0m\u001b[0;34m(\u001b[0m\u001b[0mlog_odds_max\u001b[0m\u001b[0;34m)\u001b[0m\u001b[0;34m\u001b[0m\u001b[0;34m\u001b[0m\u001b[0m\n\u001b[0;32m--> 154\u001b[0;31m             \u001b[0mcls_range_min\u001b[0m \u001b[0;34m=\u001b[0m \u001b[0mnp\u001b[0m\u001b[0;34m.\u001b[0m\u001b[0mmin\u001b[0m\u001b[0;34m(\u001b[0m\u001b[0mlog_odds_max\u001b[0m\u001b[0;34m)\u001b[0m\u001b[0;34m\u001b[0m\u001b[0;34m\u001b[0m\u001b[0m\n\u001b[0m\u001b[1;32m    155\u001b[0m             \u001b[0mcls_range\u001b[0m \u001b[0;34m=\u001b[0m \u001b[0mnp\u001b[0m\u001b[0;34m.\u001b[0m\u001b[0marange\u001b[0m\u001b[0;34m(\u001b[0m\u001b[0mcls_range_min\u001b[0m\u001b[0;34m,\u001b[0m \u001b[0mcls_range_max\u001b[0m\u001b[0;34m,\u001b[0m \u001b[0;36m1\u001b[0m\u001b[0;34m/\u001b[0m\u001b[0mgrid_density\u001b[0m\u001b[0;34m)\u001b[0m\u001b[0;34m\u001b[0m\u001b[0;34m\u001b[0m\u001b[0m\n\u001b[1;32m    156\u001b[0m             \u001b[0mM\u001b[0m \u001b[0;34m=\u001b[0m \u001b[0mlen\u001b[0m\u001b[0;34m(\u001b[0m\u001b[0mcls_range\u001b[0m\u001b[0;34m)\u001b[0m\u001b[0;34m\u001b[0m\u001b[0;34m\u001b[0m\u001b[0m\n",
      "\u001b[0;31mKeyboardInterrupt\u001b[0m: "
     ]
    }
   ],
   "source": [
    "# Set new ranges for seeds close to best value found\n",
    "seed_ranges = [(i-10, i+10) for i in best_intercept[:-1].round(0)]\n",
    "\n",
    "kwargs = {\n",
    "    'X' : X_train,\n",
    "    'y' : y_train,\n",
    "    'coef' : lda.coef_,\n",
    "    'seed_ranges' : seed_ranges,\n",
    "    'num_tests' : 1000,\n",
    "    'grid_density' : 10,\n",
    "    'err_tol' : 0.001\n",
    "} \n",
    "\n",
    "# Run tests\n",
    "start_time = perf_counter()\n",
    "errs, intercepts, seeds = lindiscr.optimize_intercept_seed(**kwargs)\n",
    "end_time = perf_counter()\n",
    "\n",
    "print('Run time: {:0.1f}'.format(end_time - start_time))"
   ]
  },
  {
   "cell_type": "code",
   "execution_count": 67,
   "metadata": {},
   "outputs": [
    {
     "data": {
      "image/png": "[encoded data removed]",
      "text/plain": [
       "<Figure size 576x216 with 1 Axes>"
      ]
     },
     "metadata": {
      "needs_background": "light"
     },
     "output_type": "display_data"
    }
   ],
   "source": [
    "# Plot errors\n",
    "fig, ax = plt.subplots(figsize=(8, 3))\n",
    "\n",
    "ax.scatter(errs, np.random.normal(loc=0, scale=0.1, size=len(errs)), marker='x'),\n",
    "ax.axhline(0, color='k', ls='--')\n",
    "\n",
    "ax.set_ylim(-1, 1)\n",
    "ax.set_yticks(ticks=[]);\n",
    "\n",
    "ax.set_xlabel('Error');"
   ]
  },
  {
   "cell_type": "code",
   "execution_count": 83,
   "metadata": {},
   "outputs": [
    {
     "name": "stdout",
     "output_type": "stream",
     "text": [
      "Min error: 0.300\n",
      "Best intercept:  [ -5.3   1.7  12.9  17.    5.4  10.9  -1.3 -24.2 -17.8 -25.3   0. ]\n"
     ]
    }
   ],
   "source": [
    "# Identify the optimal values\n",
    "min_err_idx = np.argmin(errs)\n",
    "min_err = np.min(errs)\n",
    "best_intercept = intercepts[:, min_err_idx]\n",
    "best_seed = seeds[:, min_err_idx]\n",
    "\n",
    "print('Min error: {:.3f}'.format(min_err))\n",
    "print('Best intercept: ', best_intercept.round(1))"
   ]
  },
  {
   "cell_type": "code",
   "execution_count": 91,
   "metadata": {},
   "outputs": [
    {
     "data": {
      "text/plain": [
       "0.27441077441077444"
      ]
     },
     "execution_count": 91,
     "metadata": {},
     "output_type": "execute_result"
    }
   ],
   "source": [
    "lindiscr.classification_error(best_intercept, X_train @ lda.coef_.T, y_train)"
   ]
  },
  {
   "cell_type": "code",
   "execution_count": 90,
   "metadata": {},
   "outputs": [],
   "source": [
    "best_intercept =  np.array([ -6.8, 0.5, 12.5, 15.5, 3.5, 9.4, -2.8, -25.6, -19.3, -26.4, 0])"
   ]
  },
  {
   "cell_type": "code",
   "execution_count": 71,
   "metadata": {},
   "outputs": [
    {
     "name": "stdout",
     "output_type": "stream",
     "text": [
      "Run time: 7.2\n"
     ]
    }
   ],
   "source": [
    "# Set new ranges for seeds close to best value found\n",
    "seed_ranges = [(i-10, i+10) for i in best_intercept[:-1].round(0)]\n",
    "\n",
    "kwargs = {\n",
    "    'X' : X_train,\n",
    "    'y' : y_train,\n",
    "    'coef' : lda.coef_,\n",
    "    'seed_ranges' : seed_ranges,\n",
    "    'num_tests' : 10,\n",
    "    'grid_density' : 10,\n",
    "    'err_tol' : 0.001\n",
    "} \n",
    "\n",
    "# Run tests\n",
    "start_time = perf_counter()\n",
    "errs, intercepts, seeds = lindiscr.optimize_intercept_seed(**kwargs)\n",
    "end_time = perf_counter()\n",
    "\n",
    "print('Run time: {:0.1f}'.format(end_time - start_time))"
   ]
  },
  {
   "cell_type": "code",
   "execution_count": 72,
   "metadata": {},
   "outputs": [
    {
     "data": {
      "image/png": "[encoded data removed]",
      "text/plain": [
       "<Figure size 576x216 with 1 Axes>"
      ]
     },
     "metadata": {
      "needs_background": "light"
     },
     "output_type": "display_data"
    }
   ],
   "source": [
    "# Plot errors\n",
    "fig, ax = plt.subplots(figsize=(8, 3))\n",
    "\n",
    "ax.scatter(errs, np.random.normal(loc=0, scale=0.1, size=len(errs)), marker='x'),\n",
    "ax.axhline(0, color='k', ls='--')\n",
    "\n",
    "ax.set_ylim(-1, 1)\n",
    "ax.set_yticks(ticks=[]);\n",
    "\n",
    "ax.set_xlabel('Error');"
   ]
  },
  {
   "cell_type": "code",
   "execution_count": 15,
   "metadata": {},
   "outputs": [],
   "source": [
    "def discriminant(intercept, gradient, y):\n",
    "    intercept = np.append(intercept, 0)\n",
    "    y_pred = np.argmax(intercept + gradient, axis=1)\n",
    "    err = 1 - accuracy_score(y, y_pred)\n",
    "    \n",
    "    return err"
   ]
  },
  {
   "cell_type": "code",
   "execution_count": 16,
   "metadata": {},
   "outputs": [
    {
     "data": {
      "text/plain": [
       "0.40909090909090906"
      ]
     },
     "execution_count": 16,
     "metadata": {},
     "output_type": "execute_result"
    }
   ],
   "source": [
    "x0 = [lda.intercept_[i] - lda.intercept_[K-1] for i in range(K-1)]\n",
    "gradient = X_val @ lda.coef_.T\n",
    "y = y_val\n",
    "\n",
    "discriminant(x0, gradient, y)"
   ]
  },
  {
   "cell_type": "code",
   "execution_count": 44,
   "metadata": {},
   "outputs": [
    {
     "ename": "MemoryError",
     "evalue": "Unable to allocate 1.19 PiB for an array with shape (10, 21, 21, 21, 21, 21, 21, 21, 21, 21, 21) and data type float64",
     "output_type": "error",
     "traceback": [
      "\u001b[0;31m---------------------------------------------------------------------------\u001b[0m",
      "\u001b[0;31mMemoryError\u001b[0m                               Traceback (most recent call last)",
      "\u001b[0;32m<ipython-input-44-fa3dbdbf79c4>\u001b[0m in \u001b[0;36m<module>\u001b[0;34m\u001b[0m\n\u001b[1;32m      5\u001b[0m \u001b[0;31m# ranges = tuple([np.linspace(-10, 10, 21)])*(K-1)\u001b[0m\u001b[0;34m\u001b[0m\u001b[0;34m\u001b[0m\u001b[0;34m\u001b[0m\u001b[0m\n\u001b[1;32m      6\u001b[0m \u001b[0mranges\u001b[0m \u001b[0;34m=\u001b[0m \u001b[0mtuple\u001b[0m\u001b[0;34m(\u001b[0m\u001b[0;34m[\u001b[0m\u001b[0;34m(\u001b[0m\u001b[0;34m-\u001b[0m\u001b[0;36m10\u001b[0m\u001b[0;34m,\u001b[0m \u001b[0;36m10\u001b[0m\u001b[0;34m)\u001b[0m\u001b[0;34m]\u001b[0m\u001b[0;34m)\u001b[0m\u001b[0;34m*\u001b[0m\u001b[0;34m(\u001b[0m\u001b[0mK\u001b[0m\u001b[0;34m-\u001b[0m\u001b[0;36m1\u001b[0m\u001b[0;34m)\u001b[0m\u001b[0;34m\u001b[0m\u001b[0;34m\u001b[0m\u001b[0m\n\u001b[0;32m----> 7\u001b[0;31m \u001b[0mres\u001b[0m \u001b[0;34m=\u001b[0m \u001b[0mbrute\u001b[0m\u001b[0;34m(\u001b[0m\u001b[0mdiscriminant\u001b[0m\u001b[0;34m,\u001b[0m \u001b[0mranges\u001b[0m\u001b[0;34m,\u001b[0m \u001b[0margs\u001b[0m\u001b[0;34m=\u001b[0m\u001b[0;34m(\u001b[0m\u001b[0mgradient\u001b[0m\u001b[0;34m,\u001b[0m \u001b[0my\u001b[0m\u001b[0;34m)\u001b[0m\u001b[0;34m,\u001b[0m \u001b[0mNs\u001b[0m\u001b[0;34m=\u001b[0m\u001b[0;36m21\u001b[0m\u001b[0;34m)\u001b[0m\u001b[0;34m\u001b[0m\u001b[0;34m\u001b[0m\u001b[0m\n\u001b[0m",
      "\u001b[0;32m~/P/elements-of-statistical-learning/env/lib/python3.7/site-packages/scipy/optimize/optimize.py\u001b[0m in \u001b[0;36mbrute\u001b[0;34m(func, ranges, args, Ns, full_output, finish, disp, workers)\u001b[0m\n\u001b[1;32m   2914\u001b[0m         \u001b[0mlrange\u001b[0m \u001b[0;34m=\u001b[0m \u001b[0mlrange\u001b[0m\u001b[0;34m[\u001b[0m\u001b[0;36m0\u001b[0m\u001b[0;34m]\u001b[0m\u001b[0;34m\u001b[0m\u001b[0;34m\u001b[0m\u001b[0m\n\u001b[1;32m   2915\u001b[0m \u001b[0;34m\u001b[0m\u001b[0m\n\u001b[0;32m-> 2916\u001b[0;31m     \u001b[0mgrid\u001b[0m \u001b[0;34m=\u001b[0m \u001b[0mnp\u001b[0m\u001b[0;34m.\u001b[0m\u001b[0mmgrid\u001b[0m\u001b[0;34m[\u001b[0m\u001b[0mlrange\u001b[0m\u001b[0;34m]\u001b[0m\u001b[0;34m\u001b[0m\u001b[0;34m\u001b[0m\u001b[0m\n\u001b[0m\u001b[1;32m   2917\u001b[0m \u001b[0;34m\u001b[0m\u001b[0m\n\u001b[1;32m   2918\u001b[0m     \u001b[0;31m# obtain an array of parameters that is iterable by a map-like callable\u001b[0m\u001b[0;34m\u001b[0m\u001b[0;34m\u001b[0m\u001b[0;34m\u001b[0m\u001b[0m\n",
      "\u001b[0;32m~/P/elements-of-statistical-learning/env/lib/python3.7/site-packages/numpy/lib/index_tricks.py\u001b[0m in \u001b[0;36m__getitem__\u001b[0;34m(self, key)\u001b[0m\n\u001b[1;32m    171\u001b[0m                         for _x, _t in zip(size, (typ,)*len(size))]\n\u001b[1;32m    172\u001b[0m             \u001b[0;32melse\u001b[0m\u001b[0;34m:\u001b[0m\u001b[0;34m\u001b[0m\u001b[0;34m\u001b[0m\u001b[0m\n\u001b[0;32m--> 173\u001b[0;31m                 \u001b[0mnn\u001b[0m \u001b[0;34m=\u001b[0m \u001b[0m_nx\u001b[0m\u001b[0;34m.\u001b[0m\u001b[0mindices\u001b[0m\u001b[0;34m(\u001b[0m\u001b[0msize\u001b[0m\u001b[0;34m,\u001b[0m \u001b[0mtyp\u001b[0m\u001b[0;34m)\u001b[0m\u001b[0;34m\u001b[0m\u001b[0;34m\u001b[0m\u001b[0m\n\u001b[0m\u001b[1;32m    174\u001b[0m             \u001b[0;32mfor\u001b[0m \u001b[0mk\u001b[0m \u001b[0;32min\u001b[0m \u001b[0mrange\u001b[0m\u001b[0;34m(\u001b[0m\u001b[0mlen\u001b[0m\u001b[0;34m(\u001b[0m\u001b[0msize\u001b[0m\u001b[0;34m)\u001b[0m\u001b[0;34m)\u001b[0m\u001b[0;34m:\u001b[0m\u001b[0;34m\u001b[0m\u001b[0;34m\u001b[0m\u001b[0m\n\u001b[1;32m    175\u001b[0m                 \u001b[0mstep\u001b[0m \u001b[0;34m=\u001b[0m \u001b[0mkey\u001b[0m\u001b[0;34m[\u001b[0m\u001b[0mk\u001b[0m\u001b[0;34m]\u001b[0m\u001b[0;34m.\u001b[0m\u001b[0mstep\u001b[0m\u001b[0;34m\u001b[0m\u001b[0;34m\u001b[0m\u001b[0m\n",
      "\u001b[0;32m~/P/elements-of-statistical-learning/env/lib/python3.7/site-packages/numpy/core/numeric.py\u001b[0m in \u001b[0;36mindices\u001b[0;34m(dimensions, dtype, sparse)\u001b[0m\n\u001b[1;32m   1711\u001b[0m         \u001b[0mres\u001b[0m \u001b[0;34m=\u001b[0m \u001b[0mtuple\u001b[0m\u001b[0;34m(\u001b[0m\u001b[0;34m)\u001b[0m\u001b[0;34m\u001b[0m\u001b[0;34m\u001b[0m\u001b[0m\n\u001b[1;32m   1712\u001b[0m     \u001b[0;32melse\u001b[0m\u001b[0;34m:\u001b[0m\u001b[0;34m\u001b[0m\u001b[0;34m\u001b[0m\u001b[0m\n\u001b[0;32m-> 1713\u001b[0;31m         \u001b[0mres\u001b[0m \u001b[0;34m=\u001b[0m \u001b[0mempty\u001b[0m\u001b[0;34m(\u001b[0m\u001b[0;34m(\u001b[0m\u001b[0mN\u001b[0m\u001b[0;34m,\u001b[0m\u001b[0;34m)\u001b[0m\u001b[0;34m+\u001b[0m\u001b[0mdimensions\u001b[0m\u001b[0;34m,\u001b[0m \u001b[0mdtype\u001b[0m\u001b[0;34m=\u001b[0m\u001b[0mdtype\u001b[0m\u001b[0;34m)\u001b[0m\u001b[0;34m\u001b[0m\u001b[0;34m\u001b[0m\u001b[0m\n\u001b[0m\u001b[1;32m   1714\u001b[0m     \u001b[0;32mfor\u001b[0m \u001b[0mi\u001b[0m\u001b[0;34m,\u001b[0m \u001b[0mdim\u001b[0m \u001b[0;32min\u001b[0m \u001b[0menumerate\u001b[0m\u001b[0;34m(\u001b[0m\u001b[0mdimensions\u001b[0m\u001b[0;34m)\u001b[0m\u001b[0;34m:\u001b[0m\u001b[0;34m\u001b[0m\u001b[0;34m\u001b[0m\u001b[0m\n\u001b[1;32m   1715\u001b[0m         idx = arange(dim, dtype=dtype).reshape(\n",
      "\u001b[0;31mMemoryError\u001b[0m: Unable to allocate 1.19 PiB for an array with shape (10, 21, 21, 21, 21, 21, 21, 21, 21, 21, 21) and data type float64"
     ]
    }
   ],
   "source": [
    "x0 = [lda.intercept_[i] - lda.intercept_[K-1] for i in range(K-1)]\n",
    "gradient = X_train @ lda.coef_.T\n",
    "y = y_train\n",
    "\n",
    "# ranges = tuple([np.linspace(-10, 10, 21)])*(K-1)\n",
    "ranges = tuple([(-10, 10)])*(K-1)\n",
    "res = brute(discriminant, ranges, args=(gradient, y), Ns=21)"
   ]
  },
  {
   "cell_type": "markdown",
   "metadata": {},
   "source": [
    "This probably isn't working because the function is very non-smooth. A brute approach doesn't work because too many parameters (requires ~1 petabyte just for array)"
   ]
  },
  {
   "cell_type": "code",
   "execution_count": 97,
   "metadata": {},
   "outputs": [],
   "source": [
    "# Set input parameters\n",
    "X = X_train\n",
    "y = y_train\n",
    "coef = lda.coef_\n",
    "\n",
    "N = len(y_train)\n",
    "\n",
    "# Calculate gradient for reuse\n",
    "gradient = X @ coef.T\n",
    "\n",
    "# Set parameter grid\n",
    "params = np.linspace(-50, 100, 1501)\n",
    "M = len(params)\n",
    "intercepts = np.concatenate([params[:, np.newaxis], np.zeros(shape=(M, K-1))], axis=1)\n",
    "\n",
    "# Calculate error for each set of parameters\n",
    "y_pred = intercepts[:, np.newaxis, :] + gradient\n",
    "y_pred = np.argmax(y_pred, axis=2)\n",
    "err = np.sum((y_pred != y).astype(int), axis=1) / N"
   ]
  },
  {
   "cell_type": "code",
   "execution_count": 98,
   "metadata": {},
   "outputs": [
    {
     "data": {
      "text/plain": [
       "[<matplotlib.lines.Line2D at 0x1415eb9d0>]"
      ]
     },
     "execution_count": 98,
     "metadata": {},
     "output_type": "execute_result"
    },
    {
     "data": {
      "image/png": "[encoded data removed]",
      "text/plain": [
       "<Figure size 432x288 with 1 Axes>"
      ]
     },
     "metadata": {
      "needs_background": "light"
     },
     "output_type": "display_data"
    }
   ],
   "source": [
    "plt.plot(params, err)"
   ]
  },
  {
   "cell_type": "code",
   "execution_count": 153,
   "metadata": {},
   "outputs": [
    {
     "data": {
      "text/plain": [
       "0.8097643097643098"
      ]
     },
     "execution_count": 153,
     "metadata": {},
     "output_type": "execute_result"
    }
   ],
   "source": [
    "err_df = pd.DataFrame(err).set_index(params)\n",
    "err_df.loc[-4, 0]"
   ]
  },
  {
   "cell_type": "code",
   "execution_count": 170,
   "metadata": {},
   "outputs": [
    {
     "data": {
      "text/plain": [
       "(11, 10)"
      ]
     },
     "execution_count": 170,
     "metadata": {},
     "output_type": "execute_result"
    }
   ],
   "source": [
    "coef.shape"
   ]
  },
  {
   "cell_type": "code",
   "execution_count": 171,
   "metadata": {},
   "outputs": [],
   "source": [
    "# Set input parameters\n",
    "X = X_train\n",
    "y = y_train\n",
    "coef = lda.coef_\n",
    "step_size = 0.1\n",
    "\n",
    "# Calculate useful constants\n",
    "N, p = X.shape\n",
    "K = coef.shape[0]\n",
    "\n",
    "# Calculate gradient for reuse\n",
    "gradient = X @ coef.T\n",
    "\n",
    "# Loop over features\n",
    "\n",
    "# Feature to change and current best intercept\n",
    "feat = 0\n",
    "intercept = np.zeros(shape=K)\n",
    "\n",
    "# Calculate log odds against feat for each data point\n",
    "log_odds = np.delete(gradient, feat, axis=1) - gradient[:, feat][:, np.newaxis]\n",
    "log_odds += np.delete(intercept, feat)\n",
    "\n",
    "# We classify to the feature with greatest log odds\n",
    "log_odds_max = np.max(log_odds, axis=1)\n",
    "\n",
    "# Range of values to try for feature intercept will vary from\n",
    "# when we never classify to feat to when we always do\n",
    "feat_range_max = np.max(log_odds_max)\n",
    "feat_range_min = np.min(log_odds_max)\n",
    "feat_range = np.arange(feat_range_min, feat_range_max, step_size)\n",
    "M = len(feat_range)\n",
    "\n",
    "# Create grid of intercepts to try\n",
    "intercept_grid = np.array([intercept] * M)\n",
    "intercept_grid[:, feat] = feat_range\n",
    "\n",
    "# Calculate error for each set of intercepts\n",
    "y_pred = intercepts[:, np.newaxis, :] + gradient\n",
    "y_pred = np.argmax(y_pred, axis=2)\n",
    "err = np.sum((y_pred != y).astype(int), axis=1) / N"
   ]
  },
  {
   "cell_type": "code",
   "execution_count": 172,
   "metadata": {},
   "outputs": [
    {
     "data": {
      "text/plain": [
       "[<matplotlib.lines.Line2D at 0x1328a7910>]"
      ]
     },
     "execution_count": 172,
     "metadata": {},
     "output_type": "execute_result"
    },
    {
     "data": {
      "image/png": "[encoded data removed]",
      "text/plain": [
       "<Figure size 432x288 with 1 Axes>"
      ]
     },
     "metadata": {
      "needs_background": "light"
     },
     "output_type": "display_data"
    }
   ],
   "source": [
    "plt.plot(feat_range, err)"
   ]
  },
  {
   "cell_type": "markdown",
   "metadata": {},
   "source": [
    "Now try looping over all features"
   ]
  },
  {
   "cell_type": "code",
   "execution_count": 225,
   "metadata": {},
   "outputs": [],
   "source": [
    "# Set input parameters\n",
    "X = X_train\n",
    "y = y_train\n",
    "coef = lda.coef_\n",
    "dp = 1\n",
    "initial_value = np.zeros(shape=K)\n",
    "\n",
    "# Calculate useful constants\n",
    "N, p = X.shape\n",
    "K = coef.shape[0]\n",
    "\n",
    "# Calculate gradient for reuse\n",
    "gradient = X @ coef.T\n",
    "\n",
    "# Initial guess\n",
    "intercept = initial_value\n",
    "\n",
    "y_pred = np.argmax(intercept + gradient, axis=1)\n",
    "err = np.sum((y_pred != y).astype(int)) / N\n",
    "\n",
    "# Collect intercepts and errors in array\n",
    "intercepts = intercept[:, np.newaxis]\n",
    "errs = np.array([err])\n",
    "\n",
    "for feat in range(K-1):\n",
    "    # Calculate log odds against feat for each data point\n",
    "    log_odds = np.delete(gradient, feat, axis=1) - gradient[:, feat][:, np.newaxis]\n",
    "    log_odds += np.delete(intercept, feat)\n",
    "\n",
    "    # We classify to the feature with greatest log odds\n",
    "    log_odds_max = np.max(log_odds, axis=1)\n",
    "\n",
    "    # Range of values to try for feature intercept will vary from\n",
    "    # when we never classify to feat to when we always do\n",
    "    feat_range_max = np.max(log_odds_max)\n",
    "    feat_range_max = ceil(feat_range_max * 10**dp) * 10**(-dp)\n",
    "    \n",
    "    feat_range_min = np.min(log_odds_max)\n",
    "    feat_range_min = floor(feat_range_min * 10**dp) * 10**(-dp)\n",
    "    \n",
    "    feat_range = np.arange(feat_range_min, feat_range_max, 10**(-dp))\n",
    "    M = len(feat_range)\n",
    "\n",
    "    # Create grid of intercepts to try\n",
    "    intercept_grid = np.array([intercept] * M)\n",
    "    intercept_grid[:, feat] = feat_range\n",
    "\n",
    "    # Calculate error for each set of intercepts\n",
    "    y_pred = intercept_grid[:, np.newaxis, :] + gradient\n",
    "    y_pred = np.argmax(y_pred, axis=2)\n",
    "    err = np.sum((y_pred != y).astype(int), axis=1) / N\n",
    "\n",
    "    # Get next best intercept\n",
    "    errs = np.append(errs, np.min(err))\n",
    "    intercept = intercept_grid[np.argmin(err), :]\n",
    "    intercepts = np.concatenate([intercepts, intercept[:, np.newaxis]], axis=1)"
   ]
  },
  {
   "cell_type": "code",
   "execution_count": 258,
   "metadata": {},
   "outputs": [
    {
     "data": {
      "text/plain": [
       "[<matplotlib.lines.Line2D at 0x133709c50>]"
      ]
     },
     "execution_count": 258,
     "metadata": {},
     "output_type": "execute_result"
    },
    {
     "data": {
      "image/png": "[encoded data removed]",
      "text/plain": [
       "<Figure size 432x288 with 1 Axes>"
      ]
     },
     "metadata": {
      "needs_background": "light"
     },
     "output_type": "display_data"
    }
   ],
   "source": [
    "plt.plot(errs)"
   ]
  },
  {
   "cell_type": "code",
   "execution_count": 241,
   "metadata": {},
   "outputs": [],
   "source": [
    "dp = 2"
   ]
  },
  {
   "cell_type": "code",
   "execution_count": 242,
   "metadata": {},
   "outputs": [],
   "source": [
    "for feat in range(K-1):\n",
    "    # Calculate log odds against feat for each data point\n",
    "    log_odds = np.delete(gradient, feat, axis=1) - gradient[:, feat][:, np.newaxis]\n",
    "    log_odds += np.delete(intercept, feat)\n",
    "\n",
    "    # We classify to the feature with greatest log odds\n",
    "    log_odds_max = np.max(log_odds, axis=1)\n",
    "\n",
    "    # Range of values to try for feature intercept will vary from\n",
    "    # when we never classify to feat to when we always do\n",
    "    feat_range_max = np.max(log_odds_max)\n",
    "    feat_range_max = ceil(feat_range_max * 10**dp) * 10**(-dp)\n",
    "    \n",
    "    feat_range_min = np.min(log_odds_max)\n",
    "    feat_range_min = floor(feat_range_min * 10**dp) * 10**(-dp)\n",
    "    \n",
    "    feat_range = np.arange(feat_range_min, feat_range_max, 10**(-dp))\n",
    "    M = len(feat_range)\n",
    "\n",
    "    # Create grid of intercepts to try\n",
    "    intercept_grid = np.array([intercept] * M)\n",
    "    intercept_grid[:, feat] = feat_range\n",
    "\n",
    "    # Calculate error for each set of intercepts\n",
    "    y_pred = intercept_grid[:, np.newaxis, :] + gradient\n",
    "    y_pred = np.argmax(y_pred, axis=2)\n",
    "    err = np.sum((y_pred != y).astype(int), axis=1) / N\n",
    "\n",
    "    # Get next best intercept\n",
    "    errs = np.append(errs, np.min(err))\n",
    "    intercept = intercept_grid[np.argmin(err), :]\n",
    "    intercepts = np.concatenate([intercepts, intercept[:, np.newaxis]], axis=1)"
   ]
  },
  {
   "cell_type": "code",
   "execution_count": 257,
   "metadata": {},
   "outputs": [
    {
     "data": {
      "text/plain": [
       "<matplotlib.legend.Legend at 0x133554550>"
      ]
     },
     "execution_count": 257,
     "metadata": {},
     "output_type": "execute_result"
    },
    {
     "data": {
      "image/png": "[encoded data removed]",
      "text/plain": [
       "<Figure size 1080x576 with 1 Axes>"
      ]
     },
     "metadata": {
      "needs_background": "light"
     },
     "output_type": "display_data"
    }
   ],
   "source": [
    "fig, ax = plt.subplots(figsize=(15, 8))\n",
    "\n",
    "for feat in range(K-1):\n",
    "    ax.plot(intercepts[feat, :], label='feature '+str(feat))\n",
    "\n",
    "ax.legend()"
   ]
  },
  {
   "cell_type": "code",
   "execution_count": 285,
   "metadata": {
    "scrolled": true
   },
   "outputs": [
    {
     "name": "stdout",
     "output_type": "stream",
     "text": [
      "1\n",
      "2\n",
      "3\n",
      "4\n",
      "5\n",
      "6\n"
     ]
    }
   ],
   "source": [
    "# Set input parameters\n",
    "X = X_train\n",
    "y = y_train\n",
    "coef = lda.coef_\n",
    "dp = 1\n",
    "initial_value = np.random.normal(loc=0, scale=10, size=K)\n",
    "\n",
    "# Calculate useful constants\n",
    "N, p = X.shape\n",
    "K = coef.shape[0]\n",
    "\n",
    "# Calculate gradient for reuse\n",
    "gradient = X @ coef.T\n",
    "\n",
    "# Initial guess\n",
    "intercept = initial_value\n",
    "\n",
    "# Error for initial guess\n",
    "y_pred = np.argmax(intercept + gradient, axis=1)\n",
    "err = np.sum((y_pred != y).astype(int)) / N\n",
    "\n",
    "# Collect intercepts and errors in array\n",
    "intercepts = intercept[:, np.newaxis]\n",
    "errs = np.array([err])\n",
    "\n",
    "max_intercept_change = 10**(-dp)\n",
    "num_loops = 0\n",
    "\n",
    "while max_intercept_change >= 10**(-dp):\n",
    "    num_loops+=1\n",
    "    print(num_loops)\n",
    "    \n",
    "    for feat in range(K-1):\n",
    "        # Calculate log odds against feat for each data point\n",
    "        log_odds = np.delete(gradient, feat, axis=1) - gradient[:, feat][:, np.newaxis]\n",
    "        log_odds += np.delete(intercept, feat)\n",
    "\n",
    "        # We classify to the feature with greatest log odds\n",
    "        log_odds_max = np.max(log_odds, axis=1)\n",
    "\n",
    "        # Range of values to try for feature intercept will vary from\n",
    "        # when we never classify to feat to when we always do\n",
    "        feat_range_max = np.max(log_odds_max)\n",
    "        feat_range_max = ceil(feat_range_max * 10**dp) * 10**(-dp)\n",
    "\n",
    "        feat_range_min = np.min(log_odds_max)\n",
    "        feat_range_min = floor(feat_range_min * 10**dp) * 10**(-dp)\n",
    "\n",
    "        feat_range = np.arange(feat_range_min, feat_range_max, 10**(-dp))\n",
    "        M = len(feat_range)\n",
    "\n",
    "        # Create grid of intercepts to try\n",
    "        intercept_grid = np.array([intercept] * M)\n",
    "        intercept_grid[:, feat] = feat_range\n",
    "\n",
    "        # Calculate error for each set of intercepts\n",
    "        y_pred = intercept_grid[:, np.newaxis, :] + gradient\n",
    "        y_pred = np.argmax(y_pred, axis=2)\n",
    "        err = np.sum((y_pred != y).astype(int), axis=1) / N\n",
    "        \n",
    "        # Next best intercept\n",
    "        min_err = np.min(err)\n",
    "        intercept = intercept_grid[np.argmin(err), :]\n",
    "    \n",
    "    # Calculate change from last loop\n",
    "    intercept_change = np.abs(intercept - intercepts[:, -1])\n",
    "    max_intercept_change = np.max(intercept_change)\n",
    "      \n",
    "    # Record latest error and intercept\n",
    "    errs = np.append(errs, min_err)\n",
    "    intercepts = np.concatenate([intercepts, intercept[:, np.newaxis]], axis=1)"
   ]
  },
  {
   "cell_type": "code",
   "execution_count": 269,
   "metadata": {},
   "outputs": [
    {
     "data": {
      "text/plain": [
       "array([0.78619529, 0.3973064 , 0.32828283, 0.32659933, 0.32323232,\n",
       "       0.32323232, 0.32323232, 0.32323232])"
      ]
     },
     "execution_count": 269,
     "metadata": {},
     "output_type": "execute_result"
    }
   ],
   "source": [
    "errs"
   ]
  },
  {
   "cell_type": "code",
   "execution_count": 272,
   "metadata": {},
   "outputs": [
    {
     "data": {
      "text/plain": [
       "array([14.2, 21.6, 33.6, 36.2, 24.9, 30.4, 18.6, -4.3,  2. , -5.3,  0. ])"
      ]
     },
     "execution_count": 272,
     "metadata": {},
     "output_type": "execute_result"
    }
   ],
   "source": [
    "intercepts[:,-1]"
   ]
  },
  {
   "cell_type": "code",
   "execution_count": 274,
   "metadata": {},
   "outputs": [
    {
     "data": {
      "text/plain": [
       "array([0.78619529, 0.39225589, 0.38720539, 0.38552189, 0.38552189,\n",
       "       0.38552189, 0.38552189])"
      ]
     },
     "execution_count": 274,
     "metadata": {},
     "output_type": "execute_result"
    }
   ],
   "source": [
    "errs"
   ]
  },
  {
   "cell_type": "code",
   "execution_count": 275,
   "metadata": {},
   "outputs": [
    {
     "data": {
      "text/plain": [
       "array([14.69, 22.07, 33.29, 35.89, 24.31, 29.89, 18.1 , -1.7 ,  4.59,\n",
       "       -2.83,  0.  ])"
      ]
     },
     "execution_count": 275,
     "metadata": {},
     "output_type": "execute_result"
    }
   ],
   "source": [
    "intercepts[:,-1]"
   ]
  },
  {
   "cell_type": "code",
   "execution_count": 286,
   "metadata": {},
   "outputs": [
    {
     "data": {
      "text/plain": [
       "array([0.79461279, 0.38047138, 0.30639731, 0.29124579, 0.28956229,\n",
       "       0.28956229, 0.28956229])"
      ]
     },
     "execution_count": 286,
     "metadata": {},
     "output_type": "execute_result"
    }
   ],
   "source": [
    "errs"
   ]
  },
  {
   "cell_type": "code",
   "execution_count": 287,
   "metadata": {},
   "outputs": [
    {
     "data": {
      "text/plain": [
       "array([24.7       , 32.1       , 43.3       , 45.9       , 33.6       ,\n",
       "       39.2       , 27.        ,  3.3       ,  9.6       ,  2.2       ,\n",
       "       30.20576373])"
      ]
     },
     "execution_count": 287,
     "metadata": {},
     "output_type": "execute_result"
    }
   ],
   "source": [
    "intercepts[:, -1]"
   ]
  },
  {
   "cell_type": "markdown",
   "metadata": {},
   "source": [
    "How can this be giving a lower error?"
   ]
  },
  {
   "cell_type": "markdown",
   "metadata": {},
   "source": [
    "Could I make it adaptive so that it seeks a particular accuracy in error"
   ]
  },
  {
   "cell_type": "markdown",
   "metadata": {},
   "source": [
    "Functions for classification via linear discriminant "
   ]
  },
  {
   "cell_type": "code",
   "execution_count": 338,
   "metadata": {},
   "outputs": [],
   "source": [
    "def classification_error(intercept, gradient, y):\n",
    "    N = len(y)\n",
    "    \n",
    "    if intercept.ndim == 1:\n",
    "        y_pred = np.argmax(intercept + gradient, axis=1)\n",
    "        err = np.sum((y_pred != y).astype(int)) / N\n",
    "    \n",
    "    elif intercept.ndim == 2:\n",
    "        y_pred = intercept[:, np.newaxis, :] + gradient\n",
    "        y_pred = np.argmax(y_pred, axis=2)\n",
    "        err = np.sum((y_pred != y).astype(int), axis=1) / N\n",
    "    \n",
    "    return err"
   ]
  },
  {
   "cell_type": "code",
   "execution_count": 371,
   "metadata": {},
   "outputs": [],
   "source": [
    "def optimize_intercept(X, y, coef, initial_value, gradient=None, grid_density=10, err_tol=0.01):\n",
    "    # Calculate useful constants\n",
    "    N, p = X.shape\n",
    "    K = coef.shape[0]\n",
    "\n",
    "    # Calculate gradient for reuse\n",
    "    if gradient == None:\n",
    "        gradient = X @ coef.T\n",
    "\n",
    "    # Initialise values\n",
    "    intercept = initial_value\n",
    "    err = classification_error(intercept, gradient, y)\n",
    "    err_change = np.inf\n",
    "\n",
    "    # Store intercepts and errors in an array\n",
    "    intercepts = initial_value[:, np.newaxis]\n",
    "    errs = np.array([err])\n",
    "\n",
    "    # For performance monitoring\n",
    "    num_loops = 0\n",
    "\n",
    "    while err_change >= err_tol:\n",
    "        num_loops+=1\n",
    "\n",
    "        for feat in range(K-1):\n",
    "            # Calculate log odds against feat for each data point\n",
    "            log_odds = np.delete(gradient, feat, axis=1) - gradient[:, feat][:, np.newaxis]\n",
    "            log_odds += np.delete(intercept, feat)\n",
    "\n",
    "            # We classify to the feature with greatest log odds\n",
    "            log_odds_max = np.max(log_odds, axis=1)\n",
    "\n",
    "            # Range of values to try for feature intercept will vary from\n",
    "            # when we never classify to feat to when we always do\n",
    "            feat_range_max = np.max(log_odds_max)\n",
    "            feat_range_min = np.min(log_odds_max)\n",
    "            feat_range = np.arange(feat_range_min, feat_range_max, 1/grid_density)\n",
    "            M = len(feat_range)\n",
    "\n",
    "            # Create grid of intercepts to try\n",
    "            intercept_grid = np.array([intercept] * M)\n",
    "            intercept_grid[:, feat] = feat_range\n",
    "\n",
    "            # Calculate error for each set of intercepts\n",
    "            err = lda_classification_error(intercept_grid, gradient, y)\n",
    "\n",
    "            # Best values\n",
    "            min_err = np.min(err)\n",
    "            intercept = intercept_grid[np.argmin(err), :]\n",
    "\n",
    "        # Record error and intercept\n",
    "        err_change = np.abs(errs[-1] - min_err)\n",
    "        errs = np.append(errs, min_err)\n",
    "        intercepts = np.concatenate([intercepts, intercept[:, np.newaxis]], axis=1)\n",
    "    \n",
    "    #print('Loops: {}'.format(num_loops))\n",
    "    #print('Min error: {}'.format(min_err))\n",
    "    #print('Best intercept: {}'.format(intercept.round(1)))\n",
    "    \n",
    "    return errs, intercepts"
   ]
  },
  {
   "cell_type": "code",
   "execution_count": 381,
   "metadata": {},
   "outputs": [],
   "source": [
    "def optimize_intercept_seed(X, y, coef, seed_range=None, nsim=None, grid_density=10, err_tol=0.01):\n",
    "    # Calculate useful constants\n",
    "    N, p = X.shape\n",
    "    K = coef.shape[0]\n",
    "\n",
    "    # Calculate gradient for reuse\n",
    "    gradient = X @ coef.T\n",
    "    \n",
    "    # Initialise arrays for results\n",
    "    seeds = np.empty(shape=(K, nsim))\n",
    "    intercepts = np.empty(shape=(K, nsim))\n",
    "    errs = np.empty(shape=nsim)\n",
    "    \n",
    "    for sim in range(nsim):\n",
    "        # Generate random seed\n",
    "        seed = np.random.uniform(low=seed_range[0], high=seed_range[1], size=K-1)\n",
    "        seed = np.append(seed, 0)\n",
    "        \n",
    "        # Run optimization with seed\n",
    "        kwargs = {\n",
    "            'X' : X,\n",
    "            'y' : y,\n",
    "            'coef' : coef,\n",
    "            'initial_value' : seed,\n",
    "            'grid_density' : grid_density,\n",
    "            'err_tol' : err_tol\n",
    "        }       \n",
    "        seed_errs, seed_intercepts = optimize_intercept(**kwargs)\n",
    "        \n",
    "        # Store \n",
    "        seeds[:, sim] = seed\n",
    "        errs[sim] = seed_errs[-1]\n",
    "        intercepts[:, sim] = seed_intercepts[:, -1]\n",
    "        \n",
    "    return seeds, errs, intercepts"
   ]
  },
  {
   "cell_type": "code",
   "execution_count": 407,
   "metadata": {},
   "outputs": [
    {
     "data": {
      "text/plain": [
       "Text(0.5, 0, 'Error')"
      ]
     },
     "execution_count": 407,
     "metadata": {},
     "output_type": "execute_result"
    },
    {
     "data": {
      "image/png": "[encoded data removed]",
      "text/plain": [
       "<Figure size 576x216 with 1 Axes>"
      ]
     },
     "metadata": {
      "needs_background": "light"
     },
     "output_type": "display_data"
    }
   ],
   "source": [
    "# Set input parameters\n",
    "kwargs = {\n",
    "    'X' : X_train,\n",
    "    'y' : y_train,\n",
    "    'coef' : lda.coef_,\n",
    "    'seed_range' : (-50, 50),\n",
    "    'nsim' : 1000,\n",
    "    'grid_density' : 10,\n",
    "    'err_tol' : 0.001\n",
    "}     \n",
    "\n",
    "seeds, errs, intercepts = optimize_intercept_seed(**kwargs)\n",
    "\n",
    "fig, ax = plt.subplots(figsize=(8, 3))\n",
    "\n",
    "ax.scatter(errs, np.random.normal(loc=0, scale=0.1, size=len(errs)), marker='x'),\n",
    "ax.axhline(0, color='k', ls='--')\n",
    "\n",
    "ax.set_ylim(-1, 1)\n",
    "ax.set_yticks(ticks=[]);\n",
    "\n",
    "ax.set_xlabel('Error')"
   ]
  },
  {
   "cell_type": "code",
   "execution_count": 408,
   "metadata": {},
   "outputs": [
    {
     "data": {
      "text/plain": [
       "Text(0.5, 0, 'Error')"
      ]
     },
     "execution_count": 408,
     "metadata": {},
     "output_type": "execute_result"
    },
    {
     "data": {
      "image/png": "[encoded data removed]",
      "text/plain": [
       "<Figure size 576x216 with 1 Axes>"
      ]
     },
     "metadata": {
      "needs_background": "light"
     },
     "output_type": "display_data"
    }
   ],
   "source": [
    "fig, ax = plt.subplots(figsize=(8, 3))\n",
    "\n",
    "ax.scatter(errs, np.random.normal(loc=0, scale=0.1, size=len(errs)), marker='x'),\n",
    "ax.axhline(0, color='k', ls='--')\n",
    "\n",
    "ax.set_ylim(-1, 1)\n",
    "ax.set_yticks(ticks=[]);\n",
    "\n",
    "ax.set_xlabel('Error')"
   ]
  },
  {
   "cell_type": "code",
   "execution_count": 412,
   "metadata": {},
   "outputs": [],
   "source": [
    "# Find intercepts with minimum error\n",
    "min_err = np.min(errs)\n",
    "best_intercept = intercepts[:, np.argmin(errs)]"
   ]
  },
  {
   "cell_type": "code",
   "execution_count": 413,
   "metadata": {},
   "outputs": [
    {
     "data": {
      "text/plain": [
       "array([ -6.02827319,   1.32938951,  12.57510498,  15.2541773 ,\n",
       "         3.20639432,   8.75526576,  -3.17379176, -26.62568817,\n",
       "       -20.28887663, -26.8124179 ,   0.        ])"
      ]
     },
     "execution_count": 413,
     "metadata": {},
     "output_type": "execute_result"
    }
   ],
   "source": [
    "best_intercept"
   ]
  },
  {
   "cell_type": "code",
   "execution_count": 361,
   "metadata": {},
   "outputs": [
    {
     "name": "stdout",
     "output_type": "stream",
     "text": [
      "10\n"
     ]
    }
   ],
   "source": [
    "kwargs = {\n",
    "    'X' : X,\n",
    "    'y' : y,\n",
    "    'coef' : coef,\n",
    "    'initial_value' : initial_value,\n",
    "    'grid_density' : 10,\n",
    "    'err_tol' : 0.01\n",
    "}\n",
    "\n",
    "errs, intercepts = optimize_intercept(X, y, coef, initial_value, grid_density=10, err_tol=0.01)"
   ]
  },
  {
   "cell_type": "code",
   "execution_count": 362,
   "metadata": {},
   "outputs": [
    {
     "name": "stdout",
     "output_type": "stream",
     "text": [
      "10\n"
     ]
    },
    {
     "data": {
      "text/plain": [
       "(array([0.81481481, 0.41077441, 0.33333333, 0.30639731, 0.3013468 ]),\n",
       " array([[ 34.72915988,  33.43800178,  34.92818499,  34.92494707,\n",
       "          34.68055209],\n",
       "        [-33.88695503,  42.08584769,  42.08260978,  42.0382148 ,\n",
       "          41.79381982],\n",
       "        [ 32.76035977,  53.74376924,  53.69937426,  53.75497928,\n",
       "          53.5105843 ],\n",
       "        [-29.40992435,  56.38892802,  56.73837644,  58.11230715,\n",
       "          57.96104917],\n",
       "        [-42.61910784,  45.19371957,  46.91798877,  46.85369302,\n",
       "          46.28480455],\n",
       "        [-20.09982027,  50.57179372,  52.03489328,  52.1021508 ,\n",
       "          51.87140936],\n",
       "        [  8.46441477,  41.49348219,  40.59911264,  39.80974078,\n",
       "          39.69891603],\n",
       "        [ 27.3557944 ,  17.38212173,  16.45253972,  16.46121033,\n",
       "          16.20544643],\n",
       "        [-15.67507316,  22.15378576,  22.79802186,  22.54225796,\n",
       "          22.48649406],\n",
       "        [-36.13469871,  15.63024449,  15.37448059,  15.31871669,\n",
       "          15.06295279],\n",
       "        [ 40.65010335,  40.65010335,  40.65010335,  40.65010335,\n",
       "          40.65010335]]))"
      ]
     },
     "execution_count": 362,
     "metadata": {},
     "output_type": "execute_result"
    }
   ],
   "source": [
    "optimize_intercept(**kwargs)"
   ]
  },
  {
   "cell_type": "code",
   "execution_count": 310,
   "metadata": {},
   "outputs": [
    {
     "data": {
      "text/plain": [
       "array([ -7.10608129, -36.96863143,  30.38713106, -26.39495837,\n",
       "       -46.35180543,  25.26565094, -41.0883945 ,  41.73470304,\n",
       "        43.97847325,  -3.7769394 , -13.47475825])"
      ]
     },
     "execution_count": 310,
     "metadata": {},
     "output_type": "execute_result"
    }
   ],
   "source": [
    "np.random.uniform(-50, 50, size=K)"
   ]
  },
  {
   "cell_type": "code",
   "execution_count": 332,
   "metadata": {},
   "outputs": [],
   "source": [
    "def classification_error(intercept, gradient, y):\n",
    "    N = len(y)\n",
    "    \n",
    "    if intercept.ndim == 1:\n",
    "        y_pred = np.argmax(intercept + gradient, axis=1)\n",
    "        err = np.sum((y_pred != y).astype(int)) / N\n",
    "    \n",
    "    elif intercept.ndim == 2:\n",
    "        y_pred = intercept[:, np.newaxis, :] + gradient\n",
    "        y_pred = np.argmax(y_pred, axis=2)\n",
    "        err = np.sum((y_pred != y).astype(int), axis=1) / N\n",
    "    \n",
    "    return err"
   ]
  },
  {
   "cell_type": "code",
   "execution_count": null,
   "metadata": {},
   "outputs": [],
   "source": [
    "        # Calculate error for each set of intercepts\n",
    "        y_pred = intercept_grid[:, np.newaxis, :] + gradient\n",
    "        y_pred = np.argmax(y_pred, axis=2)\n",
    "        err = np.sum((y_pred != y).astype(int), axis=1) / N"
   ]
  },
  {
   "cell_type": "code",
   "execution_count": null,
   "metadata": {},
   "outputs": [],
   "source": [
    "y_pred = np.argmax(intercept + gradient, axis=1)\n",
    "err = np.sum((y_pred != y).astype(int)) / N"
   ]
  },
  {
   "cell_type": "code",
   "execution_count": 328,
   "metadata": {},
   "outputs": [
    {
     "data": {
      "text/plain": [
       "1"
      ]
     },
     "execution_count": 328,
     "metadata": {},
     "output_type": "execute_result"
    }
   ],
   "source": [
    "intercept.ndim"
   ]
  },
  {
   "cell_type": "code",
   "execution_count": 325,
   "metadata": {},
   "outputs": [
    {
     "data": {
      "text/plain": [
       "array([[ 30.8     ,  38.2     ,  51.3     , ...,  18.8     ,   8.6     ,\n",
       "        -43.500793],\n",
       "       [ 30.8     ,  38.2     ,  51.3     , ...,  18.8     ,   8.7     ,\n",
       "        -43.500793],\n",
       "       [ 30.8     ,  38.2     ,  51.3     , ...,  18.8     ,   8.8     ,\n",
       "        -43.500793],\n",
       "       ...,\n",
       "       [ 30.8     ,  38.2     ,  51.3     , ...,  18.8     ,  44.4     ,\n",
       "        -43.500793],\n",
       "       [ 30.8     ,  38.2     ,  51.3     , ...,  18.8     ,  44.5     ,\n",
       "        -43.500793],\n",
       "       [ 30.8     ,  38.2     ,  51.3     , ...,  18.8     ,  44.6     ,\n",
       "        -43.500793]])"
      ]
     },
     "execution_count": 325,
     "metadata": {},
     "output_type": "execute_result"
    }
   ],
   "source": [
    "intercept_grid"
   ]
  },
  {
   "cell_type": "markdown",
   "metadata": {},
   "source": [
    "Next: \n",
    "- Clean all this up and use to get intercept\n",
    "- First run with wide range and higher error tolerance then with narrower range and lower tolerance"
   ]
  },
  {
   "cell_type": "code",
   "execution_count": null,
   "metadata": {},
   "outputs": [],
   "source": []
  }
 ],
 "metadata": {
  "kernelspec": {
   "display_name": "Python 3",
   "language": "python",
   "name": "python3"
  },
  "language_info": {
   "codemirror_mode": {
    "name": "ipython",
    "version": 3
   },
   "file_extension": ".py",
   "mimetype": "text/x-python",
   "name": "python",
   "nbconvert_exporter": "python",
   "pygments_lexer": "ipython3",
   "version": "3.7.7"
  }
 },
 "nbformat": 4,
 "nbformat_minor": 4
}
